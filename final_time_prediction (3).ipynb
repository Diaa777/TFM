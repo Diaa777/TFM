{
 "cells": [
  {
   "cell_type": "markdown",
   "metadata": {
    "id": "x6A7Ceu6G8Tr"
   },
   "source": [
    "# Efficient Performance Prediction for advanced analytics on Apache Spark\n",
    "### Goal : Extend and analyse the model that published by DataBricks\n",
    "### Ernest: Efficient Performance Prediction for Large-Scale Advanced A\n"
   ]
  },
  {
   "cell_type": "code",
   "execution_count": 404,
   "metadata": {
    "colab": {
     "base_uri": "https://localhost:8080/"
    },
    "executionInfo": {
     "elapsed": 21447,
     "status": "ok",
     "timestamp": 1664348839690,
     "user": {
      "displayName": "diaa abo",
      "userId": "11943845526597913844"
     },
     "user_tz": -120
    },
    "id": "XpAKHqJTJxs-",
    "outputId": "7c5e880a-76ca-4f1e-d94d-7fcc8491116d"
   },
   "outputs": [],
   "source": [
    "#from google.colab import drive\n",
    "#drive.mount('/content/drive')"
   ]
  },
  {
   "cell_type": "code",
   "execution_count": 405,
   "metadata": {
    "executionInfo": {
     "elapsed": 1552,
     "status": "ok",
     "timestamp": 1664348863892,
     "user": {
      "displayName": "diaa abo",
      "userId": "11943845526597913844"
     },
     "user_tz": -120
    },
    "id": "mF2jFVnWG8T1"
   },
   "outputs": [],
   "source": [
    "import numpy as np\n",
    "import scipy\n",
    "from scipy.optimize import nnls\n",
    "import csv\n",
    "import sys\n",
    "import pandas as pd\n",
    "from sklearn import tree\n",
    "from sklearn.model_selection import train_test_split # Import train_test_split function\n",
    "from sklearn import metrics #Import scikit-learn metrics module for accuracy calculation\n",
    "from sklearn.tree import DecisionTreeClassifier # Import Decision Tree Classifier"
   ]
  },
  {
   "cell_type": "markdown",
   "metadata": {
    "id": "h6Ii0lD_G8T3"
   },
   "source": [
    "read data points of executors from a saved csv file :"
   ]
  },
  {
   "cell_type": "code",
   "execution_count": 406,
   "metadata": {
    "executionInfo": {
     "elapsed": 379,
     "status": "ok",
     "timestamp": 1664348865645,
     "user": {
      "displayName": "diaa abo",
      "userId": "11943845526597913844"
     },
     "user_tz": -120
    },
    "id": "o2-PXMskG8T4"
   },
   "outputs": [],
   "source": [
    "executorsDF=pd.read_csv(\"spark_executorsInfo.csv\")"
   ]
  },
  {
   "cell_type": "code",
   "execution_count": 407,
   "metadata": {
    "colab": {
     "base_uri": "https://localhost:8080/",
     "height": 679
    },
    "executionInfo": {
     "elapsed": 248,
     "status": "ok",
     "timestamp": 1664348869914,
     "user": {
      "displayName": "diaa abo",
      "userId": "11943845526597913844"
     },
     "user_tz": -120
    },
    "id": "hcA_U8vYG8T5",
    "outputId": "eb85e386-11f0-4479-b06f-664f3ed9f5a6"
   },
   "outputs": [
    {
     "data": {
      "text/html": [
       "<div>\n",
       "<style scoped>\n",
       "    .dataframe tbody tr th:only-of-type {\n",
       "        vertical-align: middle;\n",
       "    }\n",
       "\n",
       "    .dataframe tbody tr th {\n",
       "        vertical-align: top;\n",
       "    }\n",
       "\n",
       "    .dataframe thead th {\n",
       "        text-align: right;\n",
       "    }\n",
       "</style>\n",
       "<table border=\"1\" class=\"dataframe\">\n",
       "  <thead>\n",
       "    <tr style=\"text-align: right;\">\n",
       "      <th></th>\n",
       "      <th>Unnamed: 0</th>\n",
       "      <th>id</th>\n",
       "      <th>hostPort</th>\n",
       "      <th>isActive</th>\n",
       "      <th>rddBlocks</th>\n",
       "      <th>memoryUsed</th>\n",
       "      <th>diskUsed</th>\n",
       "      <th>totalCores</th>\n",
       "      <th>maxTasks</th>\n",
       "      <th>activeTasks</th>\n",
       "      <th>...</th>\n",
       "      <th>totalInputBytes</th>\n",
       "      <th>totalShuffleRead</th>\n",
       "      <th>totalShuffleWrite</th>\n",
       "      <th>isBlacklisted</th>\n",
       "      <th>maxMemory</th>\n",
       "      <th>addTime</th>\n",
       "      <th>executorLogs</th>\n",
       "      <th>memoryMetrics</th>\n",
       "      <th>blacklistedInStages</th>\n",
       "      <th>app_id</th>\n",
       "    </tr>\n",
       "  </thead>\n",
       "  <tbody>\n",
       "    <tr>\n",
       "      <th>0</th>\n",
       "      <td>0</td>\n",
       "      <td>driver</td>\n",
       "      <td>tribarco7cm.gc18bd.tributos.local:40397</td>\n",
       "      <td>True</td>\n",
       "      <td>0</td>\n",
       "      <td>0</td>\n",
       "      <td>0</td>\n",
       "      <td>0</td>\n",
       "      <td>0</td>\n",
       "      <td>0</td>\n",
       "      <td>...</td>\n",
       "      <td>0</td>\n",
       "      <td>0</td>\n",
       "      <td>0</td>\n",
       "      <td>False</td>\n",
       "      <td>956615884</td>\n",
       "      <td>2021-12-17T12:09:22.283GMT</td>\n",
       "      <td>{'stdout': 'http://tribarco7cm.gc18bd.tributos...</td>\n",
       "      <td>{'usedOnHeapStorageMemory': 0, 'usedOffHeapSto...</td>\n",
       "      <td>[]</td>\n",
       "      <td>application_1637600037062_1168</td>\n",
       "    </tr>\n",
       "    <tr>\n",
       "      <th>1</th>\n",
       "      <td>1</td>\n",
       "      <td>3</td>\n",
       "      <td>tribarco7cm.gc18bd.tributos.local:43508</td>\n",
       "      <td>True</td>\n",
       "      <td>0</td>\n",
       "      <td>0</td>\n",
       "      <td>0</td>\n",
       "      <td>2</td>\n",
       "      <td>2</td>\n",
       "      <td>0</td>\n",
       "      <td>...</td>\n",
       "      <td>0</td>\n",
       "      <td>1210170</td>\n",
       "      <td>808945</td>\n",
       "      <td>False</td>\n",
       "      <td>2101975449</td>\n",
       "      <td>2021-12-17T12:09:31.286GMT</td>\n",
       "      <td>{'stdout': 'http://tribarco7cm.gc18bd.tributos...</td>\n",
       "      <td>{'usedOnHeapStorageMemory': 0, 'usedOffHeapSto...</td>\n",
       "      <td>[]</td>\n",
       "      <td>application_1637600037062_1168</td>\n",
       "    </tr>\n",
       "    <tr>\n",
       "      <th>2</th>\n",
       "      <td>2</td>\n",
       "      <td>2</td>\n",
       "      <td>tribarco7n03.gc18bd.tributos.local:42441</td>\n",
       "      <td>True</td>\n",
       "      <td>0</td>\n",
       "      <td>0</td>\n",
       "      <td>0</td>\n",
       "      <td>2</td>\n",
       "      <td>2</td>\n",
       "      <td>0</td>\n",
       "      <td>...</td>\n",
       "      <td>0</td>\n",
       "      <td>436282</td>\n",
       "      <td>786169</td>\n",
       "      <td>False</td>\n",
       "      <td>2101975449</td>\n",
       "      <td>2021-12-17T12:09:32.215GMT</td>\n",
       "      <td>{'stdout': 'http://tribarco7n03.gc18bd.tributo...</td>\n",
       "      <td>{'usedOnHeapStorageMemory': 0, 'usedOffHeapSto...</td>\n",
       "      <td>[]</td>\n",
       "      <td>application_1637600037062_1168</td>\n",
       "    </tr>\n",
       "    <tr>\n",
       "      <th>3</th>\n",
       "      <td>3</td>\n",
       "      <td>1</td>\n",
       "      <td>tribarco7n03.gc18bd.tributos.local:34991</td>\n",
       "      <td>True</td>\n",
       "      <td>0</td>\n",
       "      <td>0</td>\n",
       "      <td>0</td>\n",
       "      <td>2</td>\n",
       "      <td>2</td>\n",
       "      <td>0</td>\n",
       "      <td>...</td>\n",
       "      <td>0</td>\n",
       "      <td>743902</td>\n",
       "      <td>795240</td>\n",
       "      <td>False</td>\n",
       "      <td>2101975449</td>\n",
       "      <td>2021-12-17T12:09:32.537GMT</td>\n",
       "      <td>{'stdout': 'http://tribarco7n03.gc18bd.tributo...</td>\n",
       "      <td>{'usedOnHeapStorageMemory': 0, 'usedOffHeapSto...</td>\n",
       "      <td>[]</td>\n",
       "      <td>application_1637600037062_1168</td>\n",
       "    </tr>\n",
       "    <tr>\n",
       "      <th>4</th>\n",
       "      <td>4</td>\n",
       "      <td>driver</td>\n",
       "      <td>tribarco7cm.gc18bd.tributos.local:40397</td>\n",
       "      <td>True</td>\n",
       "      <td>0</td>\n",
       "      <td>0</td>\n",
       "      <td>0</td>\n",
       "      <td>0</td>\n",
       "      <td>0</td>\n",
       "      <td>0</td>\n",
       "      <td>...</td>\n",
       "      <td>0</td>\n",
       "      <td>0</td>\n",
       "      <td>0</td>\n",
       "      <td>False</td>\n",
       "      <td>956615884</td>\n",
       "      <td>2021-12-17T12:09:22.283GMT</td>\n",
       "      <td>{'stdout': 'http://tribarco7cm.gc18bd.tributos...</td>\n",
       "      <td>{'usedOnHeapStorageMemory': 0, 'usedOffHeapSto...</td>\n",
       "      <td>[]</td>\n",
       "      <td>application_1637600037062_1168</td>\n",
       "    </tr>\n",
       "    <tr>\n",
       "      <th>...</th>\n",
       "      <td>...</td>\n",
       "      <td>...</td>\n",
       "      <td>...</td>\n",
       "      <td>...</td>\n",
       "      <td>...</td>\n",
       "      <td>...</td>\n",
       "      <td>...</td>\n",
       "      <td>...</td>\n",
       "      <td>...</td>\n",
       "      <td>...</td>\n",
       "      <td>...</td>\n",
       "      <td>...</td>\n",
       "      <td>...</td>\n",
       "      <td>...</td>\n",
       "      <td>...</td>\n",
       "      <td>...</td>\n",
       "      <td>...</td>\n",
       "      <td>...</td>\n",
       "      <td>...</td>\n",
       "      <td>...</td>\n",
       "      <td>...</td>\n",
       "    </tr>\n",
       "    <tr>\n",
       "      <th>463</th>\n",
       "      <td>463</td>\n",
       "      <td>driver</td>\n",
       "      <td>tribarco7n03.gc18bd.tributos.local:40503</td>\n",
       "      <td>True</td>\n",
       "      <td>0</td>\n",
       "      <td>0</td>\n",
       "      <td>0</td>\n",
       "      <td>0</td>\n",
       "      <td>0</td>\n",
       "      <td>0</td>\n",
       "      <td>...</td>\n",
       "      <td>0</td>\n",
       "      <td>0</td>\n",
       "      <td>0</td>\n",
       "      <td>False</td>\n",
       "      <td>384093388</td>\n",
       "      <td>2021-12-16T19:47:51.214GMT</td>\n",
       "      <td>{'stdout': 'http://tribarco7n03.gc18bd.tributo...</td>\n",
       "      <td>{'usedOnHeapStorageMemory': 0, 'usedOffHeapSto...</td>\n",
       "      <td>[]</td>\n",
       "      <td>application_1637600037062_1168</td>\n",
       "    </tr>\n",
       "    <tr>\n",
       "      <th>464</th>\n",
       "      <td>464</td>\n",
       "      <td>2</td>\n",
       "      <td>tribarco7cm.gc18bd.tributos.local:34006</td>\n",
       "      <td>True</td>\n",
       "      <td>0</td>\n",
       "      <td>0</td>\n",
       "      <td>0</td>\n",
       "      <td>1</td>\n",
       "      <td>1</td>\n",
       "      <td>0</td>\n",
       "      <td>...</td>\n",
       "      <td>0</td>\n",
       "      <td>581000</td>\n",
       "      <td>1450828</td>\n",
       "      <td>False</td>\n",
       "      <td>384093388</td>\n",
       "      <td>2021-12-16T19:48:15.755GMT</td>\n",
       "      <td>{'stdout': 'http://tribarco7cm.gc18bd.tributos...</td>\n",
       "      <td>{'usedOnHeapStorageMemory': 0, 'usedOffHeapSto...</td>\n",
       "      <td>[]</td>\n",
       "      <td>application_1637600037062_1168</td>\n",
       "    </tr>\n",
       "    <tr>\n",
       "      <th>465</th>\n",
       "      <td>465</td>\n",
       "      <td>1</td>\n",
       "      <td>tribarco7n03.gc18bd.tributos.local:40328</td>\n",
       "      <td>True</td>\n",
       "      <td>0</td>\n",
       "      <td>0</td>\n",
       "      <td>0</td>\n",
       "      <td>1</td>\n",
       "      <td>1</td>\n",
       "      <td>0</td>\n",
       "      <td>...</td>\n",
       "      <td>13400</td>\n",
       "      <td>5146052</td>\n",
       "      <td>4276833</td>\n",
       "      <td>False</td>\n",
       "      <td>384093388</td>\n",
       "      <td>2021-12-16T19:47:55.784GMT</td>\n",
       "      <td>{'stdout': 'http://tribarco7n03.gc18bd.tributo...</td>\n",
       "      <td>{'usedOnHeapStorageMemory': 0, 'usedOffHeapSto...</td>\n",
       "      <td>[]</td>\n",
       "      <td>application_1637600037062_1168</td>\n",
       "    </tr>\n",
       "    <tr>\n",
       "      <th>466</th>\n",
       "      <td>466</td>\n",
       "      <td>driver</td>\n",
       "      <td>tribarco7n03.gc18bd.tributos.local:35765</td>\n",
       "      <td>True</td>\n",
       "      <td>0</td>\n",
       "      <td>0</td>\n",
       "      <td>0</td>\n",
       "      <td>0</td>\n",
       "      <td>0</td>\n",
       "      <td>0</td>\n",
       "      <td>...</td>\n",
       "      <td>0</td>\n",
       "      <td>0</td>\n",
       "      <td>0</td>\n",
       "      <td>False</td>\n",
       "      <td>384093388</td>\n",
       "      <td>2021-12-16T19:47:18.441GMT</td>\n",
       "      <td>{'stdout': 'http://tribarco7n03.gc18bd.tributo...</td>\n",
       "      <td>{'usedOnHeapStorageMemory': 0, 'usedOffHeapSto...</td>\n",
       "      <td>[]</td>\n",
       "      <td>application_1637600037062_1168</td>\n",
       "    </tr>\n",
       "    <tr>\n",
       "      <th>467</th>\n",
       "      <td>467</td>\n",
       "      <td>1</td>\n",
       "      <td>tribarco7n03.gc18bd.tributos.local:43301</td>\n",
       "      <td>True</td>\n",
       "      <td>0</td>\n",
       "      <td>0</td>\n",
       "      <td>0</td>\n",
       "      <td>1</td>\n",
       "      <td>1</td>\n",
       "      <td>0</td>\n",
       "      <td>...</td>\n",
       "      <td>208</td>\n",
       "      <td>0</td>\n",
       "      <td>0</td>\n",
       "      <td>False</td>\n",
       "      <td>384093388</td>\n",
       "      <td>2021-12-16T19:47:23.399GMT</td>\n",
       "      <td>{'stdout': 'http://tribarco7n03.gc18bd.tributo...</td>\n",
       "      <td>{'usedOnHeapStorageMemory': 0, 'usedOffHeapSto...</td>\n",
       "      <td>[]</td>\n",
       "      <td>application_1637600037062_1168</td>\n",
       "    </tr>\n",
       "  </tbody>\n",
       "</table>\n",
       "<p>468 rows × 25 columns</p>\n",
       "</div>"
      ],
      "text/plain": [
       "     Unnamed: 0      id                                  hostPort  isActive  \\\n",
       "0             0  driver   tribarco7cm.gc18bd.tributos.local:40397      True   \n",
       "1             1       3   tribarco7cm.gc18bd.tributos.local:43508      True   \n",
       "2             2       2  tribarco7n03.gc18bd.tributos.local:42441      True   \n",
       "3             3       1  tribarco7n03.gc18bd.tributos.local:34991      True   \n",
       "4             4  driver   tribarco7cm.gc18bd.tributos.local:40397      True   \n",
       "..          ...     ...                                       ...       ...   \n",
       "463         463  driver  tribarco7n03.gc18bd.tributos.local:40503      True   \n",
       "464         464       2   tribarco7cm.gc18bd.tributos.local:34006      True   \n",
       "465         465       1  tribarco7n03.gc18bd.tributos.local:40328      True   \n",
       "466         466  driver  tribarco7n03.gc18bd.tributos.local:35765      True   \n",
       "467         467       1  tribarco7n03.gc18bd.tributos.local:43301      True   \n",
       "\n",
       "     rddBlocks  memoryUsed  diskUsed  totalCores  maxTasks  activeTasks  ...  \\\n",
       "0            0           0         0           0         0            0  ...   \n",
       "1            0           0         0           2         2            0  ...   \n",
       "2            0           0         0           2         2            0  ...   \n",
       "3            0           0         0           2         2            0  ...   \n",
       "4            0           0         0           0         0            0  ...   \n",
       "..         ...         ...       ...         ...       ...          ...  ...   \n",
       "463          0           0         0           0         0            0  ...   \n",
       "464          0           0         0           1         1            0  ...   \n",
       "465          0           0         0           1         1            0  ...   \n",
       "466          0           0         0           0         0            0  ...   \n",
       "467          0           0         0           1         1            0  ...   \n",
       "\n",
       "     totalInputBytes  totalShuffleRead  totalShuffleWrite  isBlacklisted  \\\n",
       "0                  0                 0                  0          False   \n",
       "1                  0           1210170             808945          False   \n",
       "2                  0            436282             786169          False   \n",
       "3                  0            743902             795240          False   \n",
       "4                  0                 0                  0          False   \n",
       "..               ...               ...                ...            ...   \n",
       "463                0                 0                  0          False   \n",
       "464                0            581000            1450828          False   \n",
       "465            13400           5146052            4276833          False   \n",
       "466                0                 0                  0          False   \n",
       "467              208                 0                  0          False   \n",
       "\n",
       "      maxMemory                     addTime  \\\n",
       "0     956615884  2021-12-17T12:09:22.283GMT   \n",
       "1    2101975449  2021-12-17T12:09:31.286GMT   \n",
       "2    2101975449  2021-12-17T12:09:32.215GMT   \n",
       "3    2101975449  2021-12-17T12:09:32.537GMT   \n",
       "4     956615884  2021-12-17T12:09:22.283GMT   \n",
       "..          ...                         ...   \n",
       "463   384093388  2021-12-16T19:47:51.214GMT   \n",
       "464   384093388  2021-12-16T19:48:15.755GMT   \n",
       "465   384093388  2021-12-16T19:47:55.784GMT   \n",
       "466   384093388  2021-12-16T19:47:18.441GMT   \n",
       "467   384093388  2021-12-16T19:47:23.399GMT   \n",
       "\n",
       "                                          executorLogs  \\\n",
       "0    {'stdout': 'http://tribarco7cm.gc18bd.tributos...   \n",
       "1    {'stdout': 'http://tribarco7cm.gc18bd.tributos...   \n",
       "2    {'stdout': 'http://tribarco7n03.gc18bd.tributo...   \n",
       "3    {'stdout': 'http://tribarco7n03.gc18bd.tributo...   \n",
       "4    {'stdout': 'http://tribarco7cm.gc18bd.tributos...   \n",
       "..                                                 ...   \n",
       "463  {'stdout': 'http://tribarco7n03.gc18bd.tributo...   \n",
       "464  {'stdout': 'http://tribarco7cm.gc18bd.tributos...   \n",
       "465  {'stdout': 'http://tribarco7n03.gc18bd.tributo...   \n",
       "466  {'stdout': 'http://tribarco7n03.gc18bd.tributo...   \n",
       "467  {'stdout': 'http://tribarco7n03.gc18bd.tributo...   \n",
       "\n",
       "                                         memoryMetrics  blacklistedInStages  \\\n",
       "0    {'usedOnHeapStorageMemory': 0, 'usedOffHeapSto...                   []   \n",
       "1    {'usedOnHeapStorageMemory': 0, 'usedOffHeapSto...                   []   \n",
       "2    {'usedOnHeapStorageMemory': 0, 'usedOffHeapSto...                   []   \n",
       "3    {'usedOnHeapStorageMemory': 0, 'usedOffHeapSto...                   []   \n",
       "4    {'usedOnHeapStorageMemory': 0, 'usedOffHeapSto...                   []   \n",
       "..                                                 ...                  ...   \n",
       "463  {'usedOnHeapStorageMemory': 0, 'usedOffHeapSto...                   []   \n",
       "464  {'usedOnHeapStorageMemory': 0, 'usedOffHeapSto...                   []   \n",
       "465  {'usedOnHeapStorageMemory': 0, 'usedOffHeapSto...                   []   \n",
       "466  {'usedOnHeapStorageMemory': 0, 'usedOffHeapSto...                   []   \n",
       "467  {'usedOnHeapStorageMemory': 0, 'usedOffHeapSto...                   []   \n",
       "\n",
       "                             app_id  \n",
       "0    application_1637600037062_1168  \n",
       "1    application_1637600037062_1168  \n",
       "2    application_1637600037062_1168  \n",
       "3    application_1637600037062_1168  \n",
       "4    application_1637600037062_1168  \n",
       "..                              ...  \n",
       "463  application_1637600037062_1168  \n",
       "464  application_1637600037062_1168  \n",
       "465  application_1637600037062_1168  \n",
       "466  application_1637600037062_1168  \n",
       "467  application_1637600037062_1168  \n",
       "\n",
       "[468 rows x 25 columns]"
      ]
     },
     "execution_count": 407,
     "metadata": {},
     "output_type": "execute_result"
    }
   ],
   "source": [
    "executorsDF"
   ]
  },
  {
   "cell_type": "markdown",
   "metadata": {
    "id": "AYXAGdh38Skx"
   },
   "source": [
    "Data preprocessing "
   ]
  },
  {
   "cell_type": "markdown",
   "metadata": {
    "id": "W4KXcflrG8T6"
   },
   "source": [
    " we clean our data and just keep the most important variables to use them in our performance model later:"
   ]
  },
  {
   "cell_type": "code",
   "execution_count": 408,
   "metadata": {},
   "outputs": [
    {
     "data": {
      "text/html": [
       "<div>\n",
       "<style scoped>\n",
       "    .dataframe tbody tr th:only-of-type {\n",
       "        vertical-align: middle;\n",
       "    }\n",
       "\n",
       "    .dataframe tbody tr th {\n",
       "        vertical-align: top;\n",
       "    }\n",
       "\n",
       "    .dataframe thead th {\n",
       "        text-align: right;\n",
       "    }\n",
       "</style>\n",
       "<table border=\"1\" class=\"dataframe\">\n",
       "  <thead>\n",
       "    <tr style=\"text-align: right;\">\n",
       "      <th></th>\n",
       "      <th>Unnamed: 0</th>\n",
       "      <th>rddBlocks</th>\n",
       "      <th>memoryUsed</th>\n",
       "      <th>diskUsed</th>\n",
       "      <th>totalCores</th>\n",
       "      <th>maxTasks</th>\n",
       "      <th>activeTasks</th>\n",
       "      <th>failedTasks</th>\n",
       "      <th>completedTasks</th>\n",
       "      <th>totalTasks</th>\n",
       "      <th>totalDuration</th>\n",
       "      <th>totalGCTime</th>\n",
       "      <th>totalInputBytes</th>\n",
       "      <th>totalShuffleRead</th>\n",
       "      <th>totalShuffleWrite</th>\n",
       "      <th>maxMemory</th>\n",
       "    </tr>\n",
       "  </thead>\n",
       "  <tbody>\n",
       "    <tr>\n",
       "      <th>count</th>\n",
       "      <td>468.000000</td>\n",
       "      <td>468.0</td>\n",
       "      <td>468.0</td>\n",
       "      <td>468.0</td>\n",
       "      <td>468.000000</td>\n",
       "      <td>468.000000</td>\n",
       "      <td>468.0</td>\n",
       "      <td>468.000000</td>\n",
       "      <td>468.000000</td>\n",
       "      <td>468.000000</td>\n",
       "      <td>468.000000</td>\n",
       "      <td>468.000000</td>\n",
       "      <td>4.680000e+02</td>\n",
       "      <td>4.680000e+02</td>\n",
       "      <td>4.680000e+02</td>\n",
       "      <td>4.680000e+02</td>\n",
       "    </tr>\n",
       "    <tr>\n",
       "      <th>mean</th>\n",
       "      <td>233.500000</td>\n",
       "      <td>0.0</td>\n",
       "      <td>0.0</td>\n",
       "      <td>0.0</td>\n",
       "      <td>0.826923</td>\n",
       "      <td>0.826923</td>\n",
       "      <td>0.0</td>\n",
       "      <td>0.010684</td>\n",
       "      <td>442.247863</td>\n",
       "      <td>442.258547</td>\n",
       "      <td>19522.570513</td>\n",
       "      <td>346.957265</td>\n",
       "      <td>4.949073e+04</td>\n",
       "      <td>2.391148e+06</td>\n",
       "      <td>2.590059e+06</td>\n",
       "      <td>9.142601e+08</td>\n",
       "    </tr>\n",
       "    <tr>\n",
       "      <th>std</th>\n",
       "      <td>135.244224</td>\n",
       "      <td>0.0</td>\n",
       "      <td>0.0</td>\n",
       "      <td>0.0</td>\n",
       "      <td>0.744690</td>\n",
       "      <td>0.744690</td>\n",
       "      <td>0.0</td>\n",
       "      <td>0.102919</td>\n",
       "      <td>2272.890697</td>\n",
       "      <td>2272.888617</td>\n",
       "      <td>55429.441354</td>\n",
       "      <td>545.895412</td>\n",
       "      <td>2.101078e+05</td>\n",
       "      <td>1.153304e+07</td>\n",
       "      <td>1.043271e+07</td>\n",
       "      <td>9.697726e+08</td>\n",
       "    </tr>\n",
       "    <tr>\n",
       "      <th>min</th>\n",
       "      <td>0.000000</td>\n",
       "      <td>0.0</td>\n",
       "      <td>0.0</td>\n",
       "      <td>0.0</td>\n",
       "      <td>0.000000</td>\n",
       "      <td>0.000000</td>\n",
       "      <td>0.0</td>\n",
       "      <td>0.000000</td>\n",
       "      <td>0.000000</td>\n",
       "      <td>0.000000</td>\n",
       "      <td>0.000000</td>\n",
       "      <td>0.000000</td>\n",
       "      <td>0.000000e+00</td>\n",
       "      <td>0.000000e+00</td>\n",
       "      <td>0.000000e+00</td>\n",
       "      <td>0.000000e+00</td>\n",
       "    </tr>\n",
       "    <tr>\n",
       "      <th>25%</th>\n",
       "      <td>116.750000</td>\n",
       "      <td>0.0</td>\n",
       "      <td>0.0</td>\n",
       "      <td>0.0</td>\n",
       "      <td>0.000000</td>\n",
       "      <td>0.000000</td>\n",
       "      <td>0.0</td>\n",
       "      <td>0.000000</td>\n",
       "      <td>0.000000</td>\n",
       "      <td>0.000000</td>\n",
       "      <td>0.000000</td>\n",
       "      <td>0.000000</td>\n",
       "      <td>0.000000e+00</td>\n",
       "      <td>0.000000e+00</td>\n",
       "      <td>0.000000e+00</td>\n",
       "      <td>3.840934e+08</td>\n",
       "    </tr>\n",
       "    <tr>\n",
       "      <th>50%</th>\n",
       "      <td>233.500000</td>\n",
       "      <td>0.0</td>\n",
       "      <td>0.0</td>\n",
       "      <td>0.0</td>\n",
       "      <td>1.000000</td>\n",
       "      <td>1.000000</td>\n",
       "      <td>0.0</td>\n",
       "      <td>0.000000</td>\n",
       "      <td>2.000000</td>\n",
       "      <td>2.000000</td>\n",
       "      <td>4155.000000</td>\n",
       "      <td>139.000000</td>\n",
       "      <td>0.000000e+00</td>\n",
       "      <td>0.000000e+00</td>\n",
       "      <td>0.000000e+00</td>\n",
       "      <td>3.840934e+08</td>\n",
       "    </tr>\n",
       "    <tr>\n",
       "      <th>75%</th>\n",
       "      <td>350.250000</td>\n",
       "      <td>0.0</td>\n",
       "      <td>0.0</td>\n",
       "      <td>0.0</td>\n",
       "      <td>1.000000</td>\n",
       "      <td>1.000000</td>\n",
       "      <td>0.0</td>\n",
       "      <td>0.000000</td>\n",
       "      <td>56.000000</td>\n",
       "      <td>56.000000</td>\n",
       "      <td>20120.000000</td>\n",
       "      <td>494.000000</td>\n",
       "      <td>1.616000e+03</td>\n",
       "      <td>9.019000e+03</td>\n",
       "      <td>1.000500e+04</td>\n",
       "      <td>9.566159e+08</td>\n",
       "    </tr>\n",
       "    <tr>\n",
       "      <th>max</th>\n",
       "      <td>467.000000</td>\n",
       "      <td>0.0</td>\n",
       "      <td>0.0</td>\n",
       "      <td>0.0</td>\n",
       "      <td>2.000000</td>\n",
       "      <td>2.000000</td>\n",
       "      <td>0.0</td>\n",
       "      <td>1.000000</td>\n",
       "      <td>17480.000000</td>\n",
       "      <td>17480.000000</td>\n",
       "      <td>323840.000000</td>\n",
       "      <td>2705.000000</td>\n",
       "      <td>1.586952e+06</td>\n",
       "      <td>9.643034e+07</td>\n",
       "      <td>7.298198e+07</td>\n",
       "      <td>3.247335e+09</td>\n",
       "    </tr>\n",
       "  </tbody>\n",
       "</table>\n",
       "</div>"
      ],
      "text/plain": [
       "       Unnamed: 0  rddBlocks  memoryUsed  diskUsed  totalCores    maxTasks  \\\n",
       "count  468.000000      468.0       468.0     468.0  468.000000  468.000000   \n",
       "mean   233.500000        0.0         0.0       0.0    0.826923    0.826923   \n",
       "std    135.244224        0.0         0.0       0.0    0.744690    0.744690   \n",
       "min      0.000000        0.0         0.0       0.0    0.000000    0.000000   \n",
       "25%    116.750000        0.0         0.0       0.0    0.000000    0.000000   \n",
       "50%    233.500000        0.0         0.0       0.0    1.000000    1.000000   \n",
       "75%    350.250000        0.0         0.0       0.0    1.000000    1.000000   \n",
       "max    467.000000        0.0         0.0       0.0    2.000000    2.000000   \n",
       "\n",
       "       activeTasks  failedTasks  completedTasks    totalTasks  totalDuration  \\\n",
       "count        468.0   468.000000      468.000000    468.000000     468.000000   \n",
       "mean           0.0     0.010684      442.247863    442.258547   19522.570513   \n",
       "std            0.0     0.102919     2272.890697   2272.888617   55429.441354   \n",
       "min            0.0     0.000000        0.000000      0.000000       0.000000   \n",
       "25%            0.0     0.000000        0.000000      0.000000       0.000000   \n",
       "50%            0.0     0.000000        2.000000      2.000000    4155.000000   \n",
       "75%            0.0     0.000000       56.000000     56.000000   20120.000000   \n",
       "max            0.0     1.000000    17480.000000  17480.000000  323840.000000   \n",
       "\n",
       "       totalGCTime  totalInputBytes  totalShuffleRead  totalShuffleWrite  \\\n",
       "count   468.000000     4.680000e+02      4.680000e+02       4.680000e+02   \n",
       "mean    346.957265     4.949073e+04      2.391148e+06       2.590059e+06   \n",
       "std     545.895412     2.101078e+05      1.153304e+07       1.043271e+07   \n",
       "min       0.000000     0.000000e+00      0.000000e+00       0.000000e+00   \n",
       "25%       0.000000     0.000000e+00      0.000000e+00       0.000000e+00   \n",
       "50%     139.000000     0.000000e+00      0.000000e+00       0.000000e+00   \n",
       "75%     494.000000     1.616000e+03      9.019000e+03       1.000500e+04   \n",
       "max    2705.000000     1.586952e+06      9.643034e+07       7.298198e+07   \n",
       "\n",
       "          maxMemory  \n",
       "count  4.680000e+02  \n",
       "mean   9.142601e+08  \n",
       "std    9.697726e+08  \n",
       "min    0.000000e+00  \n",
       "25%    3.840934e+08  \n",
       "50%    3.840934e+08  \n",
       "75%    9.566159e+08  \n",
       "max    3.247335e+09  "
      ]
     },
     "execution_count": 408,
     "metadata": {},
     "output_type": "execute_result"
    }
   ],
   "source": [
    "executorsDF.describe()"
   ]
  },
  {
   "cell_type": "code",
   "execution_count": 409,
   "metadata": {
    "executionInfo": {
     "elapsed": 253,
     "status": "ok",
     "timestamp": 1664348878536,
     "user": {
      "displayName": "diaa abo",
      "userId": "11943845526597913844"
     },
     "user_tz": -120
    },
    "id": "owE70KOJG8T6"
   },
   "outputs": [],
   "source": [
    "filteredExecutorsDF=executorsDF[[\"totalCores\",\"totalTasks\",\"totalInputBytes\",\"totalDuration\"]]\n",
    "tpot_data = executorsDF[[\"totalCores\",\"totalTasks\",\"totalInputBytes\",\"totalShuffleRead\",\"totalShuffleWrite\",\"maxMemory\",\"totalDuration\"]]"
   ]
  },
  {
   "cell_type": "code",
   "execution_count": 410,
   "metadata": {
    "colab": {
     "base_uri": "https://localhost:8080/",
     "height": 424
    },
    "executionInfo": {
     "elapsed": 6,
     "status": "ok",
     "timestamp": 1664348880124,
     "user": {
      "displayName": "diaa abo",
      "userId": "11943845526597913844"
     },
     "user_tz": -120
    },
    "id": "mK3Ba4-oG8T7",
    "outputId": "83d88693-dc88-4b67-b546-30e68c5dd058"
   },
   "outputs": [
    {
     "data": {
      "text/html": [
       "<div>\n",
       "<style scoped>\n",
       "    .dataframe tbody tr th:only-of-type {\n",
       "        vertical-align: middle;\n",
       "    }\n",
       "\n",
       "    .dataframe tbody tr th {\n",
       "        vertical-align: top;\n",
       "    }\n",
       "\n",
       "    .dataframe thead th {\n",
       "        text-align: right;\n",
       "    }\n",
       "</style>\n",
       "<table border=\"1\" class=\"dataframe\">\n",
       "  <thead>\n",
       "    <tr style=\"text-align: right;\">\n",
       "      <th></th>\n",
       "      <th>totalCores</th>\n",
       "      <th>totalTasks</th>\n",
       "      <th>totalInputBytes</th>\n",
       "      <th>totalDuration</th>\n",
       "    </tr>\n",
       "  </thead>\n",
       "  <tbody>\n",
       "    <tr>\n",
       "      <th>0</th>\n",
       "      <td>0</td>\n",
       "      <td>0</td>\n",
       "      <td>0</td>\n",
       "      <td>0</td>\n",
       "    </tr>\n",
       "    <tr>\n",
       "      <th>1</th>\n",
       "      <td>2</td>\n",
       "      <td>141</td>\n",
       "      <td>0</td>\n",
       "      <td>21757</td>\n",
       "    </tr>\n",
       "    <tr>\n",
       "      <th>2</th>\n",
       "      <td>2</td>\n",
       "      <td>81</td>\n",
       "      <td>0</td>\n",
       "      <td>20817</td>\n",
       "    </tr>\n",
       "    <tr>\n",
       "      <th>3</th>\n",
       "      <td>2</td>\n",
       "      <td>89</td>\n",
       "      <td>0</td>\n",
       "      <td>20800</td>\n",
       "    </tr>\n",
       "    <tr>\n",
       "      <th>4</th>\n",
       "      <td>0</td>\n",
       "      <td>0</td>\n",
       "      <td>0</td>\n",
       "      <td>0</td>\n",
       "    </tr>\n",
       "    <tr>\n",
       "      <th>...</th>\n",
       "      <td>...</td>\n",
       "      <td>...</td>\n",
       "      <td>...</td>\n",
       "      <td>...</td>\n",
       "    </tr>\n",
       "    <tr>\n",
       "      <th>463</th>\n",
       "      <td>0</td>\n",
       "      <td>0</td>\n",
       "      <td>0</td>\n",
       "      <td>0</td>\n",
       "    </tr>\n",
       "    <tr>\n",
       "      <th>464</th>\n",
       "      <td>1</td>\n",
       "      <td>27</td>\n",
       "      <td>0</td>\n",
       "      <td>21108</td>\n",
       "    </tr>\n",
       "    <tr>\n",
       "      <th>465</th>\n",
       "      <td>1</td>\n",
       "      <td>85</td>\n",
       "      <td>13400</td>\n",
       "      <td>24126</td>\n",
       "    </tr>\n",
       "    <tr>\n",
       "      <th>466</th>\n",
       "      <td>0</td>\n",
       "      <td>0</td>\n",
       "      <td>0</td>\n",
       "      <td>0</td>\n",
       "    </tr>\n",
       "    <tr>\n",
       "      <th>467</th>\n",
       "      <td>1</td>\n",
       "      <td>17</td>\n",
       "      <td>208</td>\n",
       "      <td>4568</td>\n",
       "    </tr>\n",
       "  </tbody>\n",
       "</table>\n",
       "<p>468 rows × 4 columns</p>\n",
       "</div>"
      ],
      "text/plain": [
       "     totalCores  totalTasks  totalInputBytes  totalDuration\n",
       "0             0           0                0              0\n",
       "1             2         141                0          21757\n",
       "2             2          81                0          20817\n",
       "3             2          89                0          20800\n",
       "4             0           0                0              0\n",
       "..          ...         ...              ...            ...\n",
       "463           0           0                0              0\n",
       "464           1          27                0          21108\n",
       "465           1          85            13400          24126\n",
       "466           0           0                0              0\n",
       "467           1          17              208           4568\n",
       "\n",
       "[468 rows x 4 columns]"
      ]
     },
     "execution_count": 410,
     "metadata": {},
     "output_type": "execute_result"
    }
   ],
   "source": [
    "filteredExecutorsDF"
   ]
  },
  {
   "cell_type": "code",
   "execution_count": 411,
   "metadata": {},
   "outputs": [
    {
     "data": {
      "text/html": [
       "<div>\n",
       "<style scoped>\n",
       "    .dataframe tbody tr th:only-of-type {\n",
       "        vertical-align: middle;\n",
       "    }\n",
       "\n",
       "    .dataframe tbody tr th {\n",
       "        vertical-align: top;\n",
       "    }\n",
       "\n",
       "    .dataframe thead th {\n",
       "        text-align: right;\n",
       "    }\n",
       "</style>\n",
       "<table border=\"1\" class=\"dataframe\">\n",
       "  <thead>\n",
       "    <tr style=\"text-align: right;\">\n",
       "      <th></th>\n",
       "      <th>totalCores</th>\n",
       "      <th>totalTasks</th>\n",
       "      <th>totalInputBytes</th>\n",
       "      <th>totalDuration</th>\n",
       "    </tr>\n",
       "  </thead>\n",
       "  <tbody>\n",
       "    <tr>\n",
       "      <th>count</th>\n",
       "      <td>468.000000</td>\n",
       "      <td>468.000000</td>\n",
       "      <td>4.680000e+02</td>\n",
       "      <td>468.000000</td>\n",
       "    </tr>\n",
       "    <tr>\n",
       "      <th>mean</th>\n",
       "      <td>0.826923</td>\n",
       "      <td>442.258547</td>\n",
       "      <td>4.949073e+04</td>\n",
       "      <td>19522.570513</td>\n",
       "    </tr>\n",
       "    <tr>\n",
       "      <th>std</th>\n",
       "      <td>0.744690</td>\n",
       "      <td>2272.888617</td>\n",
       "      <td>2.101078e+05</td>\n",
       "      <td>55429.441354</td>\n",
       "    </tr>\n",
       "    <tr>\n",
       "      <th>min</th>\n",
       "      <td>0.000000</td>\n",
       "      <td>0.000000</td>\n",
       "      <td>0.000000e+00</td>\n",
       "      <td>0.000000</td>\n",
       "    </tr>\n",
       "    <tr>\n",
       "      <th>25%</th>\n",
       "      <td>0.000000</td>\n",
       "      <td>0.000000</td>\n",
       "      <td>0.000000e+00</td>\n",
       "      <td>0.000000</td>\n",
       "    </tr>\n",
       "    <tr>\n",
       "      <th>50%</th>\n",
       "      <td>1.000000</td>\n",
       "      <td>2.000000</td>\n",
       "      <td>0.000000e+00</td>\n",
       "      <td>4155.000000</td>\n",
       "    </tr>\n",
       "    <tr>\n",
       "      <th>75%</th>\n",
       "      <td>1.000000</td>\n",
       "      <td>56.000000</td>\n",
       "      <td>1.616000e+03</td>\n",
       "      <td>20120.000000</td>\n",
       "    </tr>\n",
       "    <tr>\n",
       "      <th>max</th>\n",
       "      <td>2.000000</td>\n",
       "      <td>17480.000000</td>\n",
       "      <td>1.586952e+06</td>\n",
       "      <td>323840.000000</td>\n",
       "    </tr>\n",
       "  </tbody>\n",
       "</table>\n",
       "</div>"
      ],
      "text/plain": [
       "       totalCores    totalTasks  totalInputBytes  totalDuration\n",
       "count  468.000000    468.000000     4.680000e+02     468.000000\n",
       "mean     0.826923    442.258547     4.949073e+04   19522.570513\n",
       "std      0.744690   2272.888617     2.101078e+05   55429.441354\n",
       "min      0.000000      0.000000     0.000000e+00       0.000000\n",
       "25%      0.000000      0.000000     0.000000e+00       0.000000\n",
       "50%      1.000000      2.000000     0.000000e+00    4155.000000\n",
       "75%      1.000000     56.000000     1.616000e+03   20120.000000\n",
       "max      2.000000  17480.000000     1.586952e+06  323840.000000"
      ]
     },
     "execution_count": 411,
     "metadata": {},
     "output_type": "execute_result"
    }
   ],
   "source": [
    "filteredExecutorsDF.describe()"
   ]
  },
  {
   "cell_type": "markdown",
   "metadata": {
    "id": "GHSuI3AWG8T8"
   },
   "source": [
    "tpot_data is a data frame with extra variables of the executors, in order to use tpot library later to find the\n",
    "best pipline based on those variables.   \n"
   ]
  },
  {
   "cell_type": "code",
   "execution_count": 412,
   "metadata": {
    "colab": {
     "base_uri": "https://localhost:8080/",
     "height": 424
    },
    "executionInfo": {
     "elapsed": 249,
     "status": "ok",
     "timestamp": 1664348882712,
     "user": {
      "displayName": "diaa abo",
      "userId": "11943845526597913844"
     },
     "user_tz": -120
    },
    "id": "4ufC7DN6G8T9",
    "outputId": "4f9368a1-60ee-4d3a-f1b8-313c9cb55b88"
   },
   "outputs": [
    {
     "data": {
      "text/html": [
       "<div>\n",
       "<style scoped>\n",
       "    .dataframe tbody tr th:only-of-type {\n",
       "        vertical-align: middle;\n",
       "    }\n",
       "\n",
       "    .dataframe tbody tr th {\n",
       "        vertical-align: top;\n",
       "    }\n",
       "\n",
       "    .dataframe thead th {\n",
       "        text-align: right;\n",
       "    }\n",
       "</style>\n",
       "<table border=\"1\" class=\"dataframe\">\n",
       "  <thead>\n",
       "    <tr style=\"text-align: right;\">\n",
       "      <th></th>\n",
       "      <th>totalCores</th>\n",
       "      <th>totalTasks</th>\n",
       "      <th>totalInputBytes</th>\n",
       "      <th>totalShuffleRead</th>\n",
       "      <th>totalShuffleWrite</th>\n",
       "      <th>maxMemory</th>\n",
       "      <th>totalDuration</th>\n",
       "    </tr>\n",
       "  </thead>\n",
       "  <tbody>\n",
       "    <tr>\n",
       "      <th>0</th>\n",
       "      <td>0</td>\n",
       "      <td>0</td>\n",
       "      <td>0</td>\n",
       "      <td>0</td>\n",
       "      <td>0</td>\n",
       "      <td>956615884</td>\n",
       "      <td>0</td>\n",
       "    </tr>\n",
       "    <tr>\n",
       "      <th>1</th>\n",
       "      <td>2</td>\n",
       "      <td>141</td>\n",
       "      <td>0</td>\n",
       "      <td>1210170</td>\n",
       "      <td>808945</td>\n",
       "      <td>2101975449</td>\n",
       "      <td>21757</td>\n",
       "    </tr>\n",
       "    <tr>\n",
       "      <th>2</th>\n",
       "      <td>2</td>\n",
       "      <td>81</td>\n",
       "      <td>0</td>\n",
       "      <td>436282</td>\n",
       "      <td>786169</td>\n",
       "      <td>2101975449</td>\n",
       "      <td>20817</td>\n",
       "    </tr>\n",
       "    <tr>\n",
       "      <th>3</th>\n",
       "      <td>2</td>\n",
       "      <td>89</td>\n",
       "      <td>0</td>\n",
       "      <td>743902</td>\n",
       "      <td>795240</td>\n",
       "      <td>2101975449</td>\n",
       "      <td>20800</td>\n",
       "    </tr>\n",
       "    <tr>\n",
       "      <th>4</th>\n",
       "      <td>0</td>\n",
       "      <td>0</td>\n",
       "      <td>0</td>\n",
       "      <td>0</td>\n",
       "      <td>0</td>\n",
       "      <td>956615884</td>\n",
       "      <td>0</td>\n",
       "    </tr>\n",
       "    <tr>\n",
       "      <th>...</th>\n",
       "      <td>...</td>\n",
       "      <td>...</td>\n",
       "      <td>...</td>\n",
       "      <td>...</td>\n",
       "      <td>...</td>\n",
       "      <td>...</td>\n",
       "      <td>...</td>\n",
       "    </tr>\n",
       "    <tr>\n",
       "      <th>463</th>\n",
       "      <td>0</td>\n",
       "      <td>0</td>\n",
       "      <td>0</td>\n",
       "      <td>0</td>\n",
       "      <td>0</td>\n",
       "      <td>384093388</td>\n",
       "      <td>0</td>\n",
       "    </tr>\n",
       "    <tr>\n",
       "      <th>464</th>\n",
       "      <td>1</td>\n",
       "      <td>27</td>\n",
       "      <td>0</td>\n",
       "      <td>581000</td>\n",
       "      <td>1450828</td>\n",
       "      <td>384093388</td>\n",
       "      <td>21108</td>\n",
       "    </tr>\n",
       "    <tr>\n",
       "      <th>465</th>\n",
       "      <td>1</td>\n",
       "      <td>85</td>\n",
       "      <td>13400</td>\n",
       "      <td>5146052</td>\n",
       "      <td>4276833</td>\n",
       "      <td>384093388</td>\n",
       "      <td>24126</td>\n",
       "    </tr>\n",
       "    <tr>\n",
       "      <th>466</th>\n",
       "      <td>0</td>\n",
       "      <td>0</td>\n",
       "      <td>0</td>\n",
       "      <td>0</td>\n",
       "      <td>0</td>\n",
       "      <td>384093388</td>\n",
       "      <td>0</td>\n",
       "    </tr>\n",
       "    <tr>\n",
       "      <th>467</th>\n",
       "      <td>1</td>\n",
       "      <td>17</td>\n",
       "      <td>208</td>\n",
       "      <td>0</td>\n",
       "      <td>0</td>\n",
       "      <td>384093388</td>\n",
       "      <td>4568</td>\n",
       "    </tr>\n",
       "  </tbody>\n",
       "</table>\n",
       "<p>468 rows × 7 columns</p>\n",
       "</div>"
      ],
      "text/plain": [
       "     totalCores  totalTasks  totalInputBytes  totalShuffleRead  \\\n",
       "0             0           0                0                 0   \n",
       "1             2         141                0           1210170   \n",
       "2             2          81                0            436282   \n",
       "3             2          89                0            743902   \n",
       "4             0           0                0                 0   \n",
       "..          ...         ...              ...               ...   \n",
       "463           0           0                0                 0   \n",
       "464           1          27                0            581000   \n",
       "465           1          85            13400           5146052   \n",
       "466           0           0                0                 0   \n",
       "467           1          17              208                 0   \n",
       "\n",
       "     totalShuffleWrite   maxMemory  totalDuration  \n",
       "0                    0   956615884              0  \n",
       "1               808945  2101975449          21757  \n",
       "2               786169  2101975449          20817  \n",
       "3               795240  2101975449          20800  \n",
       "4                    0   956615884              0  \n",
       "..                 ...         ...            ...  \n",
       "463                  0   384093388              0  \n",
       "464            1450828   384093388          21108  \n",
       "465            4276833   384093388          24126  \n",
       "466                  0   384093388              0  \n",
       "467                  0   384093388           4568  \n",
       "\n",
       "[468 rows x 7 columns]"
      ]
     },
     "execution_count": 412,
     "metadata": {},
     "output_type": "execute_result"
    }
   ],
   "source": [
    "\n",
    "tpot_data"
   ]
  },
  {
   "cell_type": "code",
   "execution_count": 413,
   "metadata": {},
   "outputs": [
    {
     "data": {
      "text/html": [
       "<div>\n",
       "<style scoped>\n",
       "    .dataframe tbody tr th:only-of-type {\n",
       "        vertical-align: middle;\n",
       "    }\n",
       "\n",
       "    .dataframe tbody tr th {\n",
       "        vertical-align: top;\n",
       "    }\n",
       "\n",
       "    .dataframe thead th {\n",
       "        text-align: right;\n",
       "    }\n",
       "</style>\n",
       "<table border=\"1\" class=\"dataframe\">\n",
       "  <thead>\n",
       "    <tr style=\"text-align: right;\">\n",
       "      <th></th>\n",
       "      <th>totalCores</th>\n",
       "      <th>totalTasks</th>\n",
       "      <th>totalInputBytes</th>\n",
       "      <th>totalShuffleRead</th>\n",
       "      <th>totalShuffleWrite</th>\n",
       "      <th>maxMemory</th>\n",
       "      <th>totalDuration</th>\n",
       "    </tr>\n",
       "  </thead>\n",
       "  <tbody>\n",
       "    <tr>\n",
       "      <th>0</th>\n",
       "      <td>0</td>\n",
       "      <td>0</td>\n",
       "      <td>0</td>\n",
       "      <td>0</td>\n",
       "      <td>0</td>\n",
       "      <td>956615884</td>\n",
       "      <td>0</td>\n",
       "    </tr>\n",
       "    <tr>\n",
       "      <th>1</th>\n",
       "      <td>2</td>\n",
       "      <td>141</td>\n",
       "      <td>0</td>\n",
       "      <td>1210170</td>\n",
       "      <td>808945</td>\n",
       "      <td>2101975449</td>\n",
       "      <td>21757</td>\n",
       "    </tr>\n",
       "    <tr>\n",
       "      <th>2</th>\n",
       "      <td>2</td>\n",
       "      <td>81</td>\n",
       "      <td>0</td>\n",
       "      <td>436282</td>\n",
       "      <td>786169</td>\n",
       "      <td>2101975449</td>\n",
       "      <td>20817</td>\n",
       "    </tr>\n",
       "    <tr>\n",
       "      <th>3</th>\n",
       "      <td>2</td>\n",
       "      <td>89</td>\n",
       "      <td>0</td>\n",
       "      <td>743902</td>\n",
       "      <td>795240</td>\n",
       "      <td>2101975449</td>\n",
       "      <td>20800</td>\n",
       "    </tr>\n",
       "    <tr>\n",
       "      <th>8</th>\n",
       "      <td>0</td>\n",
       "      <td>0</td>\n",
       "      <td>0</td>\n",
       "      <td>0</td>\n",
       "      <td>0</td>\n",
       "      <td>2101975449</td>\n",
       "      <td>0</td>\n",
       "    </tr>\n",
       "    <tr>\n",
       "      <th>9</th>\n",
       "      <td>2</td>\n",
       "      <td>87</td>\n",
       "      <td>0</td>\n",
       "      <td>247</td>\n",
       "      <td>83</td>\n",
       "      <td>3247335014</td>\n",
       "      <td>11948</td>\n",
       "    </tr>\n",
       "    <tr>\n",
       "      <th>10</th>\n",
       "      <td>2</td>\n",
       "      <td>72</td>\n",
       "      <td>0</td>\n",
       "      <td>0</td>\n",
       "      <td>83</td>\n",
       "      <td>3247335014</td>\n",
       "      <td>10402</td>\n",
       "    </tr>\n",
       "    <tr>\n",
       "      <th>11</th>\n",
       "      <td>2</td>\n",
       "      <td>56</td>\n",
       "      <td>0</td>\n",
       "      <td>0</td>\n",
       "      <td>81</td>\n",
       "      <td>3247335014</td>\n",
       "      <td>12298</td>\n",
       "    </tr>\n",
       "    <tr>\n",
       "      <th>13</th>\n",
       "      <td>2</td>\n",
       "      <td>359</td>\n",
       "      <td>0</td>\n",
       "      <td>17908</td>\n",
       "      <td>14746</td>\n",
       "      <td>3247335014</td>\n",
       "      <td>34362</td>\n",
       "    </tr>\n",
       "    <tr>\n",
       "      <th>14</th>\n",
       "      <td>2</td>\n",
       "      <td>346</td>\n",
       "      <td>0</td>\n",
       "      <td>16129</td>\n",
       "      <td>14466</td>\n",
       "      <td>3247335014</td>\n",
       "      <td>32653</td>\n",
       "    </tr>\n",
       "    <tr>\n",
       "      <th>15</th>\n",
       "      <td>2</td>\n",
       "      <td>378</td>\n",
       "      <td>0</td>\n",
       "      <td>9354</td>\n",
       "      <td>15283</td>\n",
       "      <td>3247335014</td>\n",
       "      <td>43379</td>\n",
       "    </tr>\n",
       "    <tr>\n",
       "      <th>17</th>\n",
       "      <td>2</td>\n",
       "      <td>391</td>\n",
       "      <td>1057968</td>\n",
       "      <td>2973127</td>\n",
       "      <td>3544255</td>\n",
       "      <td>3247335014</td>\n",
       "      <td>43185</td>\n",
       "    </tr>\n",
       "    <tr>\n",
       "      <th>18</th>\n",
       "      <td>2</td>\n",
       "      <td>418</td>\n",
       "      <td>1586952</td>\n",
       "      <td>2685802</td>\n",
       "      <td>2114674</td>\n",
       "      <td>3247335014</td>\n",
       "      <td>43965</td>\n",
       "    </tr>\n",
       "    <tr>\n",
       "      <th>19</th>\n",
       "      <td>2</td>\n",
       "      <td>2</td>\n",
       "      <td>528984</td>\n",
       "      <td>0</td>\n",
       "      <td>0</td>\n",
       "      <td>3247335014</td>\n",
       "      <td>7452</td>\n",
       "    </tr>\n",
       "    <tr>\n",
       "      <th>21</th>\n",
       "      <td>2</td>\n",
       "      <td>0</td>\n",
       "      <td>0</td>\n",
       "      <td>0</td>\n",
       "      <td>0</td>\n",
       "      <td>2101975449</td>\n",
       "      <td>0</td>\n",
       "    </tr>\n",
       "    <tr>\n",
       "      <th>22</th>\n",
       "      <td>2</td>\n",
       "      <td>2</td>\n",
       "      <td>0</td>\n",
       "      <td>1385506</td>\n",
       "      <td>1385506</td>\n",
       "      <td>2101975449</td>\n",
       "      <td>8123</td>\n",
       "    </tr>\n",
       "    <tr>\n",
       "      <th>23</th>\n",
       "      <td>2</td>\n",
       "      <td>2</td>\n",
       "      <td>0</td>\n",
       "      <td>59</td>\n",
       "      <td>59</td>\n",
       "      <td>2101975449</td>\n",
       "      <td>2291</td>\n",
       "    </tr>\n",
       "    <tr>\n",
       "      <th>24</th>\n",
       "      <td>0</td>\n",
       "      <td>0</td>\n",
       "      <td>0</td>\n",
       "      <td>0</td>\n",
       "      <td>0</td>\n",
       "      <td>384093388</td>\n",
       "      <td>0</td>\n",
       "    </tr>\n",
       "    <tr>\n",
       "      <th>25</th>\n",
       "      <td>1</td>\n",
       "      <td>0</td>\n",
       "      <td>0</td>\n",
       "      <td>0</td>\n",
       "      <td>0</td>\n",
       "      <td>384093388</td>\n",
       "      <td>0</td>\n",
       "    </tr>\n",
       "    <tr>\n",
       "      <th>27</th>\n",
       "      <td>1</td>\n",
       "      <td>10</td>\n",
       "      <td>1760</td>\n",
       "      <td>1961</td>\n",
       "      <td>1961</td>\n",
       "      <td>384093388</td>\n",
       "      <td>7353</td>\n",
       "    </tr>\n",
       "    <tr>\n",
       "      <th>29</th>\n",
       "      <td>1</td>\n",
       "      <td>0</td>\n",
       "      <td>0</td>\n",
       "      <td>0</td>\n",
       "      <td>0</td>\n",
       "      <td>0</td>\n",
       "      <td>0</td>\n",
       "    </tr>\n",
       "    <tr>\n",
       "      <th>35</th>\n",
       "      <td>1</td>\n",
       "      <td>51</td>\n",
       "      <td>32536</td>\n",
       "      <td>8026</td>\n",
       "      <td>8026</td>\n",
       "      <td>384093388</td>\n",
       "      <td>8077</td>\n",
       "    </tr>\n",
       "    <tr>\n",
       "      <th>36</th>\n",
       "      <td>1</td>\n",
       "      <td>22</td>\n",
       "      <td>43104</td>\n",
       "      <td>2260</td>\n",
       "      <td>2260</td>\n",
       "      <td>384093388</td>\n",
       "      <td>11467</td>\n",
       "    </tr>\n",
       "    <tr>\n",
       "      <th>38</th>\n",
       "      <td>1</td>\n",
       "      <td>10</td>\n",
       "      <td>1760</td>\n",
       "      <td>1961</td>\n",
       "      <td>1961</td>\n",
       "      <td>384093388</td>\n",
       "      <td>6869</td>\n",
       "    </tr>\n",
       "    <tr>\n",
       "      <th>46</th>\n",
       "      <td>1</td>\n",
       "      <td>1</td>\n",
       "      <td>0</td>\n",
       "      <td>0</td>\n",
       "      <td>0</td>\n",
       "      <td>384093388</td>\n",
       "      <td>32624</td>\n",
       "    </tr>\n",
       "    <tr>\n",
       "      <th>52</th>\n",
       "      <td>1</td>\n",
       "      <td>114</td>\n",
       "      <td>93616</td>\n",
       "      <td>96430345</td>\n",
       "      <td>72981979</td>\n",
       "      <td>384093388</td>\n",
       "      <td>38832</td>\n",
       "    </tr>\n",
       "    <tr>\n",
       "      <th>53</th>\n",
       "      <td>1</td>\n",
       "      <td>131</td>\n",
       "      <td>598144</td>\n",
       "      <td>13697938</td>\n",
       "      <td>49981616</td>\n",
       "      <td>384093388</td>\n",
       "      <td>36375</td>\n",
       "    </tr>\n",
       "    <tr>\n",
       "      <th>55</th>\n",
       "      <td>1</td>\n",
       "      <td>6</td>\n",
       "      <td>6992</td>\n",
       "      <td>4198</td>\n",
       "      <td>4198</td>\n",
       "      <td>384093388</td>\n",
       "      <td>4155</td>\n",
       "    </tr>\n",
       "    <tr>\n",
       "      <th>57</th>\n",
       "      <td>1</td>\n",
       "      <td>5</td>\n",
       "      <td>0</td>\n",
       "      <td>0</td>\n",
       "      <td>0</td>\n",
       "      <td>384093388</td>\n",
       "      <td>4382</td>\n",
       "    </tr>\n",
       "    <tr>\n",
       "      <th>58</th>\n",
       "      <td>1</td>\n",
       "      <td>4</td>\n",
       "      <td>0</td>\n",
       "      <td>0</td>\n",
       "      <td>0</td>\n",
       "      <td>384093388</td>\n",
       "      <td>7602</td>\n",
       "    </tr>\n",
       "    <tr>\n",
       "      <th>60</th>\n",
       "      <td>1</td>\n",
       "      <td>50</td>\n",
       "      <td>184800</td>\n",
       "      <td>23095</td>\n",
       "      <td>22109</td>\n",
       "      <td>384093388</td>\n",
       "      <td>8239</td>\n",
       "    </tr>\n",
       "    <tr>\n",
       "      <th>61</th>\n",
       "      <td>1</td>\n",
       "      <td>23</td>\n",
       "      <td>54368</td>\n",
       "      <td>9019</td>\n",
       "      <td>10005</td>\n",
       "      <td>384093388</td>\n",
       "      <td>14975</td>\n",
       "    </tr>\n",
       "    <tr>\n",
       "      <th>63</th>\n",
       "      <td>1</td>\n",
       "      <td>10</td>\n",
       "      <td>6828</td>\n",
       "      <td>5986</td>\n",
       "      <td>5986</td>\n",
       "      <td>384093388</td>\n",
       "      <td>6784</td>\n",
       "    </tr>\n",
       "    <tr>\n",
       "      <th>65</th>\n",
       "      <td>2</td>\n",
       "      <td>9753</td>\n",
       "      <td>0</td>\n",
       "      <td>1144896</td>\n",
       "      <td>1232321</td>\n",
       "      <td>2101975449</td>\n",
       "      <td>318229</td>\n",
       "    </tr>\n",
       "    <tr>\n",
       "      <th>66</th>\n",
       "      <td>2</td>\n",
       "      <td>9957</td>\n",
       "      <td>0</td>\n",
       "      <td>1438693</td>\n",
       "      <td>1238690</td>\n",
       "      <td>2101975449</td>\n",
       "      <td>323840</td>\n",
       "    </tr>\n",
       "    <tr>\n",
       "      <th>67</th>\n",
       "      <td>2</td>\n",
       "      <td>17480</td>\n",
       "      <td>0</td>\n",
       "      <td>1522509</td>\n",
       "      <td>1635363</td>\n",
       "      <td>2101975449</td>\n",
       "      <td>301386</td>\n",
       "    </tr>\n",
       "    <tr>\n",
       "      <th>69</th>\n",
       "      <td>1</td>\n",
       "      <td>17</td>\n",
       "      <td>208</td>\n",
       "      <td>0</td>\n",
       "      <td>0</td>\n",
       "      <td>384093388</td>\n",
       "      <td>5735</td>\n",
       "    </tr>\n",
       "    <tr>\n",
       "      <th>71</th>\n",
       "      <td>1</td>\n",
       "      <td>17</td>\n",
       "      <td>208</td>\n",
       "      <td>0</td>\n",
       "      <td>0</td>\n",
       "      <td>384093388</td>\n",
       "      <td>5447</td>\n",
       "    </tr>\n",
       "    <tr>\n",
       "      <th>73</th>\n",
       "      <td>1</td>\n",
       "      <td>17</td>\n",
       "      <td>208</td>\n",
       "      <td>0</td>\n",
       "      <td>0</td>\n",
       "      <td>384093388</td>\n",
       "      <td>5844</td>\n",
       "    </tr>\n",
       "    <tr>\n",
       "      <th>75</th>\n",
       "      <td>1</td>\n",
       "      <td>19</td>\n",
       "      <td>41232</td>\n",
       "      <td>3287</td>\n",
       "      <td>10167</td>\n",
       "      <td>384093388</td>\n",
       "      <td>15723</td>\n",
       "    </tr>\n",
       "    <tr>\n",
       "      <th>76</th>\n",
       "      <td>1</td>\n",
       "      <td>22</td>\n",
       "      <td>38384</td>\n",
       "      <td>16745</td>\n",
       "      <td>9865</td>\n",
       "      <td>384093388</td>\n",
       "      <td>16244</td>\n",
       "    </tr>\n",
       "    <tr>\n",
       "      <th>78</th>\n",
       "      <td>1</td>\n",
       "      <td>153</td>\n",
       "      <td>99304</td>\n",
       "      <td>19702653</td>\n",
       "      <td>13460723</td>\n",
       "      <td>384093388</td>\n",
       "      <td>45612</td>\n",
       "    </tr>\n",
       "    <tr>\n",
       "      <th>79</th>\n",
       "      <td>1</td>\n",
       "      <td>162</td>\n",
       "      <td>85448</td>\n",
       "      <td>8312578</td>\n",
       "      <td>14555597</td>\n",
       "      <td>384093388</td>\n",
       "      <td>47868</td>\n",
       "    </tr>\n",
       "    <tr>\n",
       "      <th>81</th>\n",
       "      <td>1</td>\n",
       "      <td>17</td>\n",
       "      <td>208</td>\n",
       "      <td>0</td>\n",
       "      <td>0</td>\n",
       "      <td>384093388</td>\n",
       "      <td>5763</td>\n",
       "    </tr>\n",
       "    <tr>\n",
       "      <th>83</th>\n",
       "      <td>1</td>\n",
       "      <td>72</td>\n",
       "      <td>26832</td>\n",
       "      <td>53005691</td>\n",
       "      <td>36338423</td>\n",
       "      <td>384093388</td>\n",
       "      <td>38468</td>\n",
       "    </tr>\n",
       "    <tr>\n",
       "      <th>84</th>\n",
       "      <td>1</td>\n",
       "      <td>88</td>\n",
       "      <td>64872</td>\n",
       "      <td>12307630</td>\n",
       "      <td>34754599</td>\n",
       "      <td>384093388</td>\n",
       "      <td>36922</td>\n",
       "    </tr>\n",
       "    <tr>\n",
       "      <th>86</th>\n",
       "      <td>1</td>\n",
       "      <td>233</td>\n",
       "      <td>1616</td>\n",
       "      <td>56</td>\n",
       "      <td>725</td>\n",
       "      <td>384093388</td>\n",
       "      <td>23337</td>\n",
       "    </tr>\n",
       "    <tr>\n",
       "      <th>87</th>\n",
       "      <td>1</td>\n",
       "      <td>230</td>\n",
       "      <td>1632</td>\n",
       "      <td>725</td>\n",
       "      <td>56</td>\n",
       "      <td>384093388</td>\n",
       "      <td>24355</td>\n",
       "    </tr>\n",
       "    <tr>\n",
       "      <th>89</th>\n",
       "      <td>1</td>\n",
       "      <td>23</td>\n",
       "      <td>8816</td>\n",
       "      <td>8293</td>\n",
       "      <td>6859</td>\n",
       "      <td>384093388</td>\n",
       "      <td>16102</td>\n",
       "    </tr>\n",
       "    <tr>\n",
       "      <th>90</th>\n",
       "      <td>1</td>\n",
       "      <td>21</td>\n",
       "      <td>51944</td>\n",
       "      <td>1205</td>\n",
       "      <td>2639</td>\n",
       "      <td>384093388</td>\n",
       "      <td>20120</td>\n",
       "    </tr>\n",
       "    <tr>\n",
       "      <th>92</th>\n",
       "      <td>1</td>\n",
       "      <td>27</td>\n",
       "      <td>0</td>\n",
       "      <td>581000</td>\n",
       "      <td>1450828</td>\n",
       "      <td>384093388</td>\n",
       "      <td>21108</td>\n",
       "    </tr>\n",
       "    <tr>\n",
       "      <th>93</th>\n",
       "      <td>1</td>\n",
       "      <td>85</td>\n",
       "      <td>13400</td>\n",
       "      <td>5146052</td>\n",
       "      <td>4276833</td>\n",
       "      <td>384093388</td>\n",
       "      <td>24126</td>\n",
       "    </tr>\n",
       "    <tr>\n",
       "      <th>95</th>\n",
       "      <td>1</td>\n",
       "      <td>17</td>\n",
       "      <td>208</td>\n",
       "      <td>0</td>\n",
       "      <td>0</td>\n",
       "      <td>384093388</td>\n",
       "      <td>4568</td>\n",
       "    </tr>\n",
       "  </tbody>\n",
       "</table>\n",
       "</div>"
      ],
      "text/plain": [
       "    totalCores  totalTasks  totalInputBytes  totalShuffleRead  \\\n",
       "0            0           0                0                 0   \n",
       "1            2         141                0           1210170   \n",
       "2            2          81                0            436282   \n",
       "3            2          89                0            743902   \n",
       "8            0           0                0                 0   \n",
       "9            2          87                0               247   \n",
       "10           2          72                0                 0   \n",
       "11           2          56                0                 0   \n",
       "13           2         359                0             17908   \n",
       "14           2         346                0             16129   \n",
       "15           2         378                0              9354   \n",
       "17           2         391          1057968           2973127   \n",
       "18           2         418          1586952           2685802   \n",
       "19           2           2           528984                 0   \n",
       "21           2           0                0                 0   \n",
       "22           2           2                0           1385506   \n",
       "23           2           2                0                59   \n",
       "24           0           0                0                 0   \n",
       "25           1           0                0                 0   \n",
       "27           1          10             1760              1961   \n",
       "29           1           0                0                 0   \n",
       "35           1          51            32536              8026   \n",
       "36           1          22            43104              2260   \n",
       "38           1          10             1760              1961   \n",
       "46           1           1                0                 0   \n",
       "52           1         114            93616          96430345   \n",
       "53           1         131           598144          13697938   \n",
       "55           1           6             6992              4198   \n",
       "57           1           5                0                 0   \n",
       "58           1           4                0                 0   \n",
       "60           1          50           184800             23095   \n",
       "61           1          23            54368              9019   \n",
       "63           1          10             6828              5986   \n",
       "65           2        9753                0           1144896   \n",
       "66           2        9957                0           1438693   \n",
       "67           2       17480                0           1522509   \n",
       "69           1          17              208                 0   \n",
       "71           1          17              208                 0   \n",
       "73           1          17              208                 0   \n",
       "75           1          19            41232              3287   \n",
       "76           1          22            38384             16745   \n",
       "78           1         153            99304          19702653   \n",
       "79           1         162            85448           8312578   \n",
       "81           1          17              208                 0   \n",
       "83           1          72            26832          53005691   \n",
       "84           1          88            64872          12307630   \n",
       "86           1         233             1616                56   \n",
       "87           1         230             1632               725   \n",
       "89           1          23             8816              8293   \n",
       "90           1          21            51944              1205   \n",
       "92           1          27                0            581000   \n",
       "93           1          85            13400           5146052   \n",
       "95           1          17              208                 0   \n",
       "\n",
       "    totalShuffleWrite   maxMemory  totalDuration  \n",
       "0                   0   956615884              0  \n",
       "1              808945  2101975449          21757  \n",
       "2              786169  2101975449          20817  \n",
       "3              795240  2101975449          20800  \n",
       "8                   0  2101975449              0  \n",
       "9                  83  3247335014          11948  \n",
       "10                 83  3247335014          10402  \n",
       "11                 81  3247335014          12298  \n",
       "13              14746  3247335014          34362  \n",
       "14              14466  3247335014          32653  \n",
       "15              15283  3247335014          43379  \n",
       "17            3544255  3247335014          43185  \n",
       "18            2114674  3247335014          43965  \n",
       "19                  0  3247335014           7452  \n",
       "21                  0  2101975449              0  \n",
       "22            1385506  2101975449           8123  \n",
       "23                 59  2101975449           2291  \n",
       "24                  0   384093388              0  \n",
       "25                  0   384093388              0  \n",
       "27               1961   384093388           7353  \n",
       "29                  0           0              0  \n",
       "35               8026   384093388           8077  \n",
       "36               2260   384093388          11467  \n",
       "38               1961   384093388           6869  \n",
       "46                  0   384093388          32624  \n",
       "52           72981979   384093388          38832  \n",
       "53           49981616   384093388          36375  \n",
       "55               4198   384093388           4155  \n",
       "57                  0   384093388           4382  \n",
       "58                  0   384093388           7602  \n",
       "60              22109   384093388           8239  \n",
       "61              10005   384093388          14975  \n",
       "63               5986   384093388           6784  \n",
       "65            1232321  2101975449         318229  \n",
       "66            1238690  2101975449         323840  \n",
       "67            1635363  2101975449         301386  \n",
       "69                  0   384093388           5735  \n",
       "71                  0   384093388           5447  \n",
       "73                  0   384093388           5844  \n",
       "75              10167   384093388          15723  \n",
       "76               9865   384093388          16244  \n",
       "78           13460723   384093388          45612  \n",
       "79           14555597   384093388          47868  \n",
       "81                  0   384093388           5763  \n",
       "83           36338423   384093388          38468  \n",
       "84           34754599   384093388          36922  \n",
       "86                725   384093388          23337  \n",
       "87                 56   384093388          24355  \n",
       "89               6859   384093388          16102  \n",
       "90               2639   384093388          20120  \n",
       "92            1450828   384093388          21108  \n",
       "93            4276833   384093388          24126  \n",
       "95                  0   384093388           4568  "
      ]
     },
     "execution_count": 413,
     "metadata": {},
     "output_type": "execute_result"
    }
   ],
   "source": [
    "clean_tpot_data = tpot_data.drop_duplicates(keep='first')\n",
    "clean_tpot_data"
   ]
  },
  {
   "cell_type": "code",
   "execution_count": 414,
   "metadata": {
    "colab": {
     "base_uri": "https://localhost:8080/",
     "height": 424
    },
    "executionInfo": {
     "elapsed": 466,
     "status": "ok",
     "timestamp": 1664365126952,
     "user": {
      "displayName": "diaa abo",
      "userId": "11943845526597913844"
     },
     "user_tz": -120
    },
    "id": "Ec3BY0IHG8T-",
    "outputId": "4f5b579b-887d-4bcd-d6df-3865c3772a7a"
   },
   "outputs": [
    {
     "data": {
      "text/html": [
       "<div>\n",
       "<style scoped>\n",
       "    .dataframe tbody tr th:only-of-type {\n",
       "        vertical-align: middle;\n",
       "    }\n",
       "\n",
       "    .dataframe tbody tr th {\n",
       "        vertical-align: top;\n",
       "    }\n",
       "\n",
       "    .dataframe thead th {\n",
       "        text-align: right;\n",
       "    }\n",
       "</style>\n",
       "<table border=\"1\" class=\"dataframe\">\n",
       "  <thead>\n",
       "    <tr style=\"text-align: right;\">\n",
       "      <th></th>\n",
       "      <th>totalCores</th>\n",
       "      <th>totalTasks</th>\n",
       "      <th>totalInputBytes</th>\n",
       "      <th>totalShuffleRead</th>\n",
       "      <th>totalShuffleWrite</th>\n",
       "      <th>maxMemory</th>\n",
       "      <th>totalDuration</th>\n",
       "    </tr>\n",
       "  </thead>\n",
       "  <tbody>\n",
       "    <tr>\n",
       "      <th>1</th>\n",
       "      <td>2</td>\n",
       "      <td>141</td>\n",
       "      <td>0</td>\n",
       "      <td>1210170</td>\n",
       "      <td>808945</td>\n",
       "      <td>2101975449</td>\n",
       "      <td>21757</td>\n",
       "    </tr>\n",
       "    <tr>\n",
       "      <th>2</th>\n",
       "      <td>2</td>\n",
       "      <td>81</td>\n",
       "      <td>0</td>\n",
       "      <td>436282</td>\n",
       "      <td>786169</td>\n",
       "      <td>2101975449</td>\n",
       "      <td>20817</td>\n",
       "    </tr>\n",
       "    <tr>\n",
       "      <th>3</th>\n",
       "      <td>2</td>\n",
       "      <td>89</td>\n",
       "      <td>0</td>\n",
       "      <td>743902</td>\n",
       "      <td>795240</td>\n",
       "      <td>2101975449</td>\n",
       "      <td>20800</td>\n",
       "    </tr>\n",
       "    <tr>\n",
       "      <th>5</th>\n",
       "      <td>2</td>\n",
       "      <td>141</td>\n",
       "      <td>0</td>\n",
       "      <td>1210170</td>\n",
       "      <td>808945</td>\n",
       "      <td>2101975449</td>\n",
       "      <td>21757</td>\n",
       "    </tr>\n",
       "    <tr>\n",
       "      <th>6</th>\n",
       "      <td>2</td>\n",
       "      <td>81</td>\n",
       "      <td>0</td>\n",
       "      <td>436282</td>\n",
       "      <td>786169</td>\n",
       "      <td>2101975449</td>\n",
       "      <td>20817</td>\n",
       "    </tr>\n",
       "    <tr>\n",
       "      <th>...</th>\n",
       "      <td>...</td>\n",
       "      <td>...</td>\n",
       "      <td>...</td>\n",
       "      <td>...</td>\n",
       "      <td>...</td>\n",
       "      <td>...</td>\n",
       "      <td>...</td>\n",
       "    </tr>\n",
       "    <tr>\n",
       "      <th>461</th>\n",
       "      <td>1</td>\n",
       "      <td>23</td>\n",
       "      <td>8816</td>\n",
       "      <td>8293</td>\n",
       "      <td>6859</td>\n",
       "      <td>384093388</td>\n",
       "      <td>16102</td>\n",
       "    </tr>\n",
       "    <tr>\n",
       "      <th>462</th>\n",
       "      <td>1</td>\n",
       "      <td>21</td>\n",
       "      <td>51944</td>\n",
       "      <td>1205</td>\n",
       "      <td>2639</td>\n",
       "      <td>384093388</td>\n",
       "      <td>20120</td>\n",
       "    </tr>\n",
       "    <tr>\n",
       "      <th>464</th>\n",
       "      <td>1</td>\n",
       "      <td>27</td>\n",
       "      <td>0</td>\n",
       "      <td>581000</td>\n",
       "      <td>1450828</td>\n",
       "      <td>384093388</td>\n",
       "      <td>21108</td>\n",
       "    </tr>\n",
       "    <tr>\n",
       "      <th>465</th>\n",
       "      <td>1</td>\n",
       "      <td>85</td>\n",
       "      <td>13400</td>\n",
       "      <td>5146052</td>\n",
       "      <td>4276833</td>\n",
       "      <td>384093388</td>\n",
       "      <td>24126</td>\n",
       "    </tr>\n",
       "    <tr>\n",
       "      <th>467</th>\n",
       "      <td>1</td>\n",
       "      <td>17</td>\n",
       "      <td>208</td>\n",
       "      <td>0</td>\n",
       "      <td>0</td>\n",
       "      <td>384093388</td>\n",
       "      <td>4568</td>\n",
       "    </tr>\n",
       "  </tbody>\n",
       "</table>\n",
       "<p>241 rows × 7 columns</p>\n",
       "</div>"
      ],
      "text/plain": [
       "     totalCores  totalTasks  totalInputBytes  totalShuffleRead  \\\n",
       "1             2         141                0           1210170   \n",
       "2             2          81                0            436282   \n",
       "3             2          89                0            743902   \n",
       "5             2         141                0           1210170   \n",
       "6             2          81                0            436282   \n",
       "..          ...         ...              ...               ...   \n",
       "461           1          23             8816              8293   \n",
       "462           1          21            51944              1205   \n",
       "464           1          27                0            581000   \n",
       "465           1          85            13400           5146052   \n",
       "467           1          17              208                 0   \n",
       "\n",
       "     totalShuffleWrite   maxMemory  totalDuration  \n",
       "1               808945  2101975449          21757  \n",
       "2               786169  2101975449          20817  \n",
       "3               795240  2101975449          20800  \n",
       "5               808945  2101975449          21757  \n",
       "6               786169  2101975449          20817  \n",
       "..                 ...         ...            ...  \n",
       "461               6859   384093388          16102  \n",
       "462               2639   384093388          20120  \n",
       "464            1450828   384093388          21108  \n",
       "465            4276833   384093388          24126  \n",
       "467                  0   384093388           4568  \n",
       "\n",
       "[241 rows x 7 columns]"
      ]
     },
     "execution_count": 414,
     "metadata": {},
     "output_type": "execute_result"
    }
   ],
   "source": [
    "tpot_data = tpot_data[(tpot_data[['totalCores',\"totalTasks\"]] != 0).all(axis=1)]\n",
    "tpot_data"
   ]
  },
  {
   "cell_type": "code",
   "execution_count": 417,
   "metadata": {
    "executionInfo": {
     "elapsed": 840,
     "status": "ok",
     "timestamp": 1664348889021,
     "user": {
      "displayName": "diaa abo",
      "userId": "11943845526597913844"
     },
     "user_tz": -120
    },
    "id": "r-U7M_E7G8T_"
   },
   "outputs": [],
   "source": [
    "#drop all rows that have the total cores or inputSize values equal to zeros \n",
    "filteredExecutorsDF = filteredExecutorsDF[(filteredExecutorsDF[['totalCores','totalInputBytes']] != 0).all(axis=1)]\n",
    "#tpot_data = tpot_data[(tpot_data.T != 0).any()]"
   ]
  },
  {
   "cell_type": "code",
   "execution_count": 418,
   "metadata": {
    "executionInfo": {
     "elapsed": 235,
     "status": "ok",
     "timestamp": 1664349246285,
     "user": {
      "displayName": "diaa abo",
      "userId": "11943845526597913844"
     },
     "user_tz": -120
    },
    "id": "ZYZ1_UHcG8T_"
   },
   "outputs": [],
   "source": [
    "#drop all rows that the totalTasks equal to 0 \n",
    "#filteredExecutorsDF = filteredExecutorsDF[filteredExecutorsDF.totalInputBytes != 0]\n",
    "tpot_data = tpot_data[tpot_data.totalTasks != 0]"
   ]
  },
  {
   "cell_type": "code",
   "execution_count": 419,
   "metadata": {
    "colab": {
     "base_uri": "https://localhost:8080/",
     "height": 424
    },
    "executionInfo": {
     "elapsed": 247,
     "status": "ok",
     "timestamp": 1664348910242,
     "user": {
      "displayName": "diaa abo",
      "userId": "11943845526597913844"
     },
     "user_tz": -120
    },
    "id": "roQz0GgJG8UA",
    "outputId": "673eb420-4762-4094-cafc-ecf87d14d792"
   },
   "outputs": [
    {
     "data": {
      "text/html": [
       "<div>\n",
       "<style scoped>\n",
       "    .dataframe tbody tr th:only-of-type {\n",
       "        vertical-align: middle;\n",
       "    }\n",
       "\n",
       "    .dataframe tbody tr th {\n",
       "        vertical-align: top;\n",
       "    }\n",
       "\n",
       "    .dataframe thead th {\n",
       "        text-align: right;\n",
       "    }\n",
       "</style>\n",
       "<table border=\"1\" class=\"dataframe\">\n",
       "  <thead>\n",
       "    <tr style=\"text-align: right;\">\n",
       "      <th></th>\n",
       "      <th>totalCores</th>\n",
       "      <th>totalTasks</th>\n",
       "      <th>totalInputBytes</th>\n",
       "      <th>totalDuration</th>\n",
       "    </tr>\n",
       "  </thead>\n",
       "  <tbody>\n",
       "    <tr>\n",
       "      <th>17</th>\n",
       "      <td>2</td>\n",
       "      <td>391</td>\n",
       "      <td>1057968</td>\n",
       "      <td>43185</td>\n",
       "    </tr>\n",
       "    <tr>\n",
       "      <th>18</th>\n",
       "      <td>2</td>\n",
       "      <td>418</td>\n",
       "      <td>1586952</td>\n",
       "      <td>43965</td>\n",
       "    </tr>\n",
       "    <tr>\n",
       "      <th>19</th>\n",
       "      <td>2</td>\n",
       "      <td>2</td>\n",
       "      <td>528984</td>\n",
       "      <td>7452</td>\n",
       "    </tr>\n",
       "    <tr>\n",
       "      <th>27</th>\n",
       "      <td>1</td>\n",
       "      <td>10</td>\n",
       "      <td>1760</td>\n",
       "      <td>7353</td>\n",
       "    </tr>\n",
       "    <tr>\n",
       "      <th>35</th>\n",
       "      <td>1</td>\n",
       "      <td>51</td>\n",
       "      <td>32536</td>\n",
       "      <td>8077</td>\n",
       "    </tr>\n",
       "    <tr>\n",
       "      <th>...</th>\n",
       "      <td>...</td>\n",
       "      <td>...</td>\n",
       "      <td>...</td>\n",
       "      <td>...</td>\n",
       "    </tr>\n",
       "    <tr>\n",
       "      <th>459</th>\n",
       "      <td>1</td>\n",
       "      <td>230</td>\n",
       "      <td>1632</td>\n",
       "      <td>24355</td>\n",
       "    </tr>\n",
       "    <tr>\n",
       "      <th>461</th>\n",
       "      <td>1</td>\n",
       "      <td>23</td>\n",
       "      <td>8816</td>\n",
       "      <td>16102</td>\n",
       "    </tr>\n",
       "    <tr>\n",
       "      <th>462</th>\n",
       "      <td>1</td>\n",
       "      <td>21</td>\n",
       "      <td>51944</td>\n",
       "      <td>20120</td>\n",
       "    </tr>\n",
       "    <tr>\n",
       "      <th>465</th>\n",
       "      <td>1</td>\n",
       "      <td>85</td>\n",
       "      <td>13400</td>\n",
       "      <td>24126</td>\n",
       "    </tr>\n",
       "    <tr>\n",
       "      <th>467</th>\n",
       "      <td>1</td>\n",
       "      <td>17</td>\n",
       "      <td>208</td>\n",
       "      <td>4568</td>\n",
       "    </tr>\n",
       "  </tbody>\n",
       "</table>\n",
       "<p>145 rows × 4 columns</p>\n",
       "</div>"
      ],
      "text/plain": [
       "     totalCores  totalTasks  totalInputBytes  totalDuration\n",
       "17            2         391          1057968          43185\n",
       "18            2         418          1586952          43965\n",
       "19            2           2           528984           7452\n",
       "27            1          10             1760           7353\n",
       "35            1          51            32536           8077\n",
       "..          ...         ...              ...            ...\n",
       "459           1         230             1632          24355\n",
       "461           1          23             8816          16102\n",
       "462           1          21            51944          20120\n",
       "465           1          85            13400          24126\n",
       "467           1          17              208           4568\n",
       "\n",
       "[145 rows x 4 columns]"
      ]
     },
     "execution_count": 419,
     "metadata": {},
     "output_type": "execute_result"
    }
   ],
   "source": [
    "filteredExecutorsDF"
   ]
  },
  {
   "cell_type": "code",
   "execution_count": 420,
   "metadata": {
    "colab": {
     "base_uri": "https://localhost:8080/",
     "height": 424
    },
    "executionInfo": {
     "elapsed": 234,
     "status": "ok",
     "timestamp": 1664349272364,
     "user": {
      "displayName": "diaa abo",
      "userId": "11943845526597913844"
     },
     "user_tz": -120
    },
    "id": "77zU6vziG8UA",
    "outputId": "0cd7d187-a76a-44b8-ec24-d579b524546f"
   },
   "outputs": [
    {
     "data": {
      "text/html": [
       "<div>\n",
       "<style scoped>\n",
       "    .dataframe tbody tr th:only-of-type {\n",
       "        vertical-align: middle;\n",
       "    }\n",
       "\n",
       "    .dataframe tbody tr th {\n",
       "        vertical-align: top;\n",
       "    }\n",
       "\n",
       "    .dataframe thead th {\n",
       "        text-align: right;\n",
       "    }\n",
       "</style>\n",
       "<table border=\"1\" class=\"dataframe\">\n",
       "  <thead>\n",
       "    <tr style=\"text-align: right;\">\n",
       "      <th></th>\n",
       "      <th>totalCores</th>\n",
       "      <th>totalTasks</th>\n",
       "      <th>totalInputBytes</th>\n",
       "      <th>totalShuffleRead</th>\n",
       "      <th>totalShuffleWrite</th>\n",
       "      <th>maxMemory</th>\n",
       "      <th>totalDuration</th>\n",
       "    </tr>\n",
       "  </thead>\n",
       "  <tbody>\n",
       "    <tr>\n",
       "      <th>1</th>\n",
       "      <td>2</td>\n",
       "      <td>141</td>\n",
       "      <td>0</td>\n",
       "      <td>1210170</td>\n",
       "      <td>808945</td>\n",
       "      <td>2101975449</td>\n",
       "      <td>21757</td>\n",
       "    </tr>\n",
       "    <tr>\n",
       "      <th>2</th>\n",
       "      <td>2</td>\n",
       "      <td>81</td>\n",
       "      <td>0</td>\n",
       "      <td>436282</td>\n",
       "      <td>786169</td>\n",
       "      <td>2101975449</td>\n",
       "      <td>20817</td>\n",
       "    </tr>\n",
       "    <tr>\n",
       "      <th>3</th>\n",
       "      <td>2</td>\n",
       "      <td>89</td>\n",
       "      <td>0</td>\n",
       "      <td>743902</td>\n",
       "      <td>795240</td>\n",
       "      <td>2101975449</td>\n",
       "      <td>20800</td>\n",
       "    </tr>\n",
       "    <tr>\n",
       "      <th>5</th>\n",
       "      <td>2</td>\n",
       "      <td>141</td>\n",
       "      <td>0</td>\n",
       "      <td>1210170</td>\n",
       "      <td>808945</td>\n",
       "      <td>2101975449</td>\n",
       "      <td>21757</td>\n",
       "    </tr>\n",
       "    <tr>\n",
       "      <th>6</th>\n",
       "      <td>2</td>\n",
       "      <td>81</td>\n",
       "      <td>0</td>\n",
       "      <td>436282</td>\n",
       "      <td>786169</td>\n",
       "      <td>2101975449</td>\n",
       "      <td>20817</td>\n",
       "    </tr>\n",
       "  </tbody>\n",
       "</table>\n",
       "</div>"
      ],
      "text/plain": [
       "   totalCores  totalTasks  totalInputBytes  totalShuffleRead  \\\n",
       "1           2         141                0           1210170   \n",
       "2           2          81                0            436282   \n",
       "3           2          89                0            743902   \n",
       "5           2         141                0           1210170   \n",
       "6           2          81                0            436282   \n",
       "\n",
       "   totalShuffleWrite   maxMemory  totalDuration  \n",
       "1             808945  2101975449          21757  \n",
       "2             786169  2101975449          20817  \n",
       "3             795240  2101975449          20800  \n",
       "5             808945  2101975449          21757  \n",
       "6             786169  2101975449          20817  "
      ]
     },
     "execution_count": 420,
     "metadata": {},
     "output_type": "execute_result"
    }
   ],
   "source": [
    "tpot_data.head()"
   ]
  },
  {
   "cell_type": "code",
   "execution_count": 421,
   "metadata": {},
   "outputs": [],
   "source": [
    "filteredExecutorsDF1 =  filteredExecutorsDF.copy()"
   ]
  },
  {
   "cell_type": "markdown",
   "metadata": {
    "id": "7HOxEfw7G8UB"
   },
   "source": [
    "each row in the previous dataset is one executore from the cluster    "
   ]
  },
  {
   "cell_type": "code",
   "execution_count": 422,
   "metadata": {
    "colab": {
     "base_uri": "https://localhost:8080/",
     "height": 424
    },
    "executionInfo": {
     "elapsed": 390,
     "status": "ok",
     "timestamp": 1664349283600,
     "user": {
      "displayName": "diaa abo",
      "userId": "11943845526597913844"
     },
     "user_tz": -120
    },
    "id": "v3jnQsAfG8UB",
    "outputId": "a88daa1b-bd0a-4602-be65-f715621df63b"
   },
   "outputs": [
    {
     "data": {
      "text/html": [
       "<div>\n",
       "<style scoped>\n",
       "    .dataframe tbody tr th:only-of-type {\n",
       "        vertical-align: middle;\n",
       "    }\n",
       "\n",
       "    .dataframe tbody tr th {\n",
       "        vertical-align: top;\n",
       "    }\n",
       "\n",
       "    .dataframe thead th {\n",
       "        text-align: right;\n",
       "    }\n",
       "</style>\n",
       "<table border=\"1\" class=\"dataframe\">\n",
       "  <thead>\n",
       "    <tr style=\"text-align: right;\">\n",
       "      <th></th>\n",
       "      <th>totalCores</th>\n",
       "      <th>totalTasks</th>\n",
       "      <th>totalInputBytes</th>\n",
       "      <th>totalDuration</th>\n",
       "    </tr>\n",
       "  </thead>\n",
       "  <tbody>\n",
       "    <tr>\n",
       "      <th>17</th>\n",
       "      <td>2</td>\n",
       "      <td>391</td>\n",
       "      <td>0.666667</td>\n",
       "      <td>43185</td>\n",
       "    </tr>\n",
       "    <tr>\n",
       "      <th>18</th>\n",
       "      <td>2</td>\n",
       "      <td>418</td>\n",
       "      <td>1.000000</td>\n",
       "      <td>43965</td>\n",
       "    </tr>\n",
       "    <tr>\n",
       "      <th>19</th>\n",
       "      <td>2</td>\n",
       "      <td>2</td>\n",
       "      <td>0.333333</td>\n",
       "      <td>7452</td>\n",
       "    </tr>\n",
       "    <tr>\n",
       "      <th>27</th>\n",
       "      <td>1</td>\n",
       "      <td>10</td>\n",
       "      <td>0.001109</td>\n",
       "      <td>7353</td>\n",
       "    </tr>\n",
       "    <tr>\n",
       "      <th>35</th>\n",
       "      <td>1</td>\n",
       "      <td>51</td>\n",
       "      <td>0.020502</td>\n",
       "      <td>8077</td>\n",
       "    </tr>\n",
       "    <tr>\n",
       "      <th>...</th>\n",
       "      <td>...</td>\n",
       "      <td>...</td>\n",
       "      <td>...</td>\n",
       "      <td>...</td>\n",
       "    </tr>\n",
       "    <tr>\n",
       "      <th>459</th>\n",
       "      <td>1</td>\n",
       "      <td>230</td>\n",
       "      <td>0.001028</td>\n",
       "      <td>24355</td>\n",
       "    </tr>\n",
       "    <tr>\n",
       "      <th>461</th>\n",
       "      <td>1</td>\n",
       "      <td>23</td>\n",
       "      <td>0.005555</td>\n",
       "      <td>16102</td>\n",
       "    </tr>\n",
       "    <tr>\n",
       "      <th>462</th>\n",
       "      <td>1</td>\n",
       "      <td>21</td>\n",
       "      <td>0.032732</td>\n",
       "      <td>20120</td>\n",
       "    </tr>\n",
       "    <tr>\n",
       "      <th>465</th>\n",
       "      <td>1</td>\n",
       "      <td>85</td>\n",
       "      <td>0.008444</td>\n",
       "      <td>24126</td>\n",
       "    </tr>\n",
       "    <tr>\n",
       "      <th>467</th>\n",
       "      <td>1</td>\n",
       "      <td>17</td>\n",
       "      <td>0.000131</td>\n",
       "      <td>4568</td>\n",
       "    </tr>\n",
       "  </tbody>\n",
       "</table>\n",
       "<p>145 rows × 4 columns</p>\n",
       "</div>"
      ],
      "text/plain": [
       "     totalCores  totalTasks  totalInputBytes  totalDuration\n",
       "17            2         391         0.666667          43185\n",
       "18            2         418         1.000000          43965\n",
       "19            2           2         0.333333           7452\n",
       "27            1          10         0.001109           7353\n",
       "35            1          51         0.020502           8077\n",
       "..          ...         ...              ...            ...\n",
       "459           1         230         0.001028          24355\n",
       "461           1          23         0.005555          16102\n",
       "462           1          21         0.032732          20120\n",
       "465           1          85         0.008444          24126\n",
       "467           1          17         0.000131           4568\n",
       "\n",
       "[145 rows x 4 columns]"
      ]
     },
     "metadata": {},
     "output_type": "display_data"
    }
   ],
   "source": [
    "# data normalization: \n",
    "# copy the data\n",
    "df_max_scaled = filteredExecutorsDF.copy()\n",
    "  \n",
    "# apply normalization techniques on totalInputBytes column\n",
    "column1= 'totalInputBytes'\n",
    "\n",
    "df_max_scaled[column1] = df_max_scaled[column1] /df_max_scaled[column1].abs().max()\n",
    "\n",
    "# view normalized data\n",
    "display(df_max_scaled)"
   ]
  },
  {
   "cell_type": "code",
   "execution_count": 423,
   "metadata": {
    "colab": {
     "base_uri": "https://localhost:8080/",
     "height": 424
    },
    "executionInfo": {
     "elapsed": 343,
     "status": "ok",
     "timestamp": 1664349387005,
     "user": {
      "displayName": "diaa abo",
      "userId": "11943845526597913844"
     },
     "user_tz": -120
    },
    "id": "bruDFsQnG8UD",
    "outputId": "f6218533-81c4-4e85-d519-9ae2c57a4f81"
   },
   "outputs": [
    {
     "data": {
      "text/html": [
       "<div>\n",
       "<style scoped>\n",
       "    .dataframe tbody tr th:only-of-type {\n",
       "        vertical-align: middle;\n",
       "    }\n",
       "\n",
       "    .dataframe tbody tr th {\n",
       "        vertical-align: top;\n",
       "    }\n",
       "\n",
       "    .dataframe thead th {\n",
       "        text-align: right;\n",
       "    }\n",
       "</style>\n",
       "<table border=\"1\" class=\"dataframe\">\n",
       "  <thead>\n",
       "    <tr style=\"text-align: right;\">\n",
       "      <th></th>\n",
       "      <th>totalCores</th>\n",
       "      <th>totalTasks</th>\n",
       "      <th>totalInputBytes</th>\n",
       "      <th>totalShuffleRead</th>\n",
       "      <th>totalShuffleWrite</th>\n",
       "      <th>maxMemory</th>\n",
       "      <th>totalDuration</th>\n",
       "    </tr>\n",
       "  </thead>\n",
       "  <tbody>\n",
       "    <tr>\n",
       "      <th>1</th>\n",
       "      <td>2</td>\n",
       "      <td>0.008066</td>\n",
       "      <td>0.000000</td>\n",
       "      <td>0.012550</td>\n",
       "      <td>0.011084</td>\n",
       "      <td>0.647292</td>\n",
       "      <td>21757</td>\n",
       "    </tr>\n",
       "    <tr>\n",
       "      <th>2</th>\n",
       "      <td>2</td>\n",
       "      <td>0.004634</td>\n",
       "      <td>0.000000</td>\n",
       "      <td>0.004524</td>\n",
       "      <td>0.010772</td>\n",
       "      <td>0.647292</td>\n",
       "      <td>20817</td>\n",
       "    </tr>\n",
       "    <tr>\n",
       "      <th>3</th>\n",
       "      <td>2</td>\n",
       "      <td>0.005092</td>\n",
       "      <td>0.000000</td>\n",
       "      <td>0.007714</td>\n",
       "      <td>0.010896</td>\n",
       "      <td>0.647292</td>\n",
       "      <td>20800</td>\n",
       "    </tr>\n",
       "    <tr>\n",
       "      <th>5</th>\n",
       "      <td>2</td>\n",
       "      <td>0.008066</td>\n",
       "      <td>0.000000</td>\n",
       "      <td>0.012550</td>\n",
       "      <td>0.011084</td>\n",
       "      <td>0.647292</td>\n",
       "      <td>21757</td>\n",
       "    </tr>\n",
       "    <tr>\n",
       "      <th>6</th>\n",
       "      <td>2</td>\n",
       "      <td>0.004634</td>\n",
       "      <td>0.000000</td>\n",
       "      <td>0.004524</td>\n",
       "      <td>0.010772</td>\n",
       "      <td>0.647292</td>\n",
       "      <td>20817</td>\n",
       "    </tr>\n",
       "    <tr>\n",
       "      <th>...</th>\n",
       "      <td>...</td>\n",
       "      <td>...</td>\n",
       "      <td>...</td>\n",
       "      <td>...</td>\n",
       "      <td>...</td>\n",
       "      <td>...</td>\n",
       "      <td>...</td>\n",
       "    </tr>\n",
       "    <tr>\n",
       "      <th>461</th>\n",
       "      <td>1</td>\n",
       "      <td>0.001316</td>\n",
       "      <td>0.005555</td>\n",
       "      <td>0.000086</td>\n",
       "      <td>0.000094</td>\n",
       "      <td>0.118280</td>\n",
       "      <td>16102</td>\n",
       "    </tr>\n",
       "    <tr>\n",
       "      <th>462</th>\n",
       "      <td>1</td>\n",
       "      <td>0.001201</td>\n",
       "      <td>0.032732</td>\n",
       "      <td>0.000012</td>\n",
       "      <td>0.000036</td>\n",
       "      <td>0.118280</td>\n",
       "      <td>20120</td>\n",
       "    </tr>\n",
       "    <tr>\n",
       "      <th>464</th>\n",
       "      <td>1</td>\n",
       "      <td>0.001545</td>\n",
       "      <td>0.000000</td>\n",
       "      <td>0.006025</td>\n",
       "      <td>0.019879</td>\n",
       "      <td>0.118280</td>\n",
       "      <td>21108</td>\n",
       "    </tr>\n",
       "    <tr>\n",
       "      <th>465</th>\n",
       "      <td>1</td>\n",
       "      <td>0.004863</td>\n",
       "      <td>0.008444</td>\n",
       "      <td>0.053365</td>\n",
       "      <td>0.058601</td>\n",
       "      <td>0.118280</td>\n",
       "      <td>24126</td>\n",
       "    </tr>\n",
       "    <tr>\n",
       "      <th>467</th>\n",
       "      <td>1</td>\n",
       "      <td>0.000973</td>\n",
       "      <td>0.000131</td>\n",
       "      <td>0.000000</td>\n",
       "      <td>0.000000</td>\n",
       "      <td>0.118280</td>\n",
       "      <td>4568</td>\n",
       "    </tr>\n",
       "  </tbody>\n",
       "</table>\n",
       "<p>241 rows × 7 columns</p>\n",
       "</div>"
      ],
      "text/plain": [
       "     totalCores  totalTasks  totalInputBytes  totalShuffleRead  \\\n",
       "1             2    0.008066         0.000000          0.012550   \n",
       "2             2    0.004634         0.000000          0.004524   \n",
       "3             2    0.005092         0.000000          0.007714   \n",
       "5             2    0.008066         0.000000          0.012550   \n",
       "6             2    0.004634         0.000000          0.004524   \n",
       "..          ...         ...              ...               ...   \n",
       "461           1    0.001316         0.005555          0.000086   \n",
       "462           1    0.001201         0.032732          0.000012   \n",
       "464           1    0.001545         0.000000          0.006025   \n",
       "465           1    0.004863         0.008444          0.053365   \n",
       "467           1    0.000973         0.000131          0.000000   \n",
       "\n",
       "     totalShuffleWrite  maxMemory  totalDuration  \n",
       "1             0.011084   0.647292          21757  \n",
       "2             0.010772   0.647292          20817  \n",
       "3             0.010896   0.647292          20800  \n",
       "5             0.011084   0.647292          21757  \n",
       "6             0.010772   0.647292          20817  \n",
       "..                 ...        ...            ...  \n",
       "461           0.000094   0.118280          16102  \n",
       "462           0.000036   0.118280          20120  \n",
       "464           0.019879   0.118280          21108  \n",
       "465           0.058601   0.118280          24126  \n",
       "467           0.000000   0.118280           4568  \n",
       "\n",
       "[241 rows x 7 columns]"
      ]
     },
     "metadata": {},
     "output_type": "display_data"
    }
   ],
   "source": [
    "# data normalization: \n",
    "# copy the data\n",
    "tpot_max_scaled = tpot_data.copy()\n",
    "  \n",
    "# apply normalization techniques on totalInputBytes, maxMemory, totalShuffleRead, totalShuffleWrite columns\n",
    "column1 = 'totalTasks'\n",
    "column2 = 'totalInputBytes'\n",
    "column3 = 'maxMemory'\n",
    "column4 = 'totalShuffleRead'\n",
    "column5 = 'totalShuffleWrite'\n",
    "\n",
    "tpot_max_scaled[column1] = tpot_max_scaled[column1] /tpot_max_scaled[column1].abs().max()\n",
    "\n",
    "\n",
    "tpot_max_scaled[column1] = tpot_max_scaled[column1] /tpot_max_scaled[column1].abs().max()\n",
    "tpot_max_scaled[column2] = tpot_max_scaled[column2] /tpot_max_scaled[column2].abs().max()\n",
    "tpot_max_scaled[column3] = tpot_max_scaled[column3] /tpot_max_scaled[column3].abs().max()\n",
    "tpot_max_scaled[column4] = tpot_max_scaled[column4] /tpot_max_scaled[column4].abs().max()\n",
    "tpot_max_scaled[column5] = tpot_max_scaled[column5] /tpot_max_scaled[column5].abs().max()\n",
    "# view normalized data\n",
    "display(tpot_max_scaled)"
   ]
  },
  {
   "cell_type": "code",
   "execution_count": 424,
   "metadata": {},
   "outputs": [
    {
     "data": {
      "text/plain": [
       "totalCores           241\n",
       "totalTasks           241\n",
       "totalInputBytes      241\n",
       "totalShuffleRead     241\n",
       "totalShuffleWrite    241\n",
       "maxMemory            241\n",
       "totalDuration        241\n",
       "dtype: int64"
      ]
     },
     "execution_count": 424,
     "metadata": {},
     "output_type": "execute_result"
    }
   ],
   "source": [
    "tpot_max_scaled.count()"
   ]
  },
  {
   "cell_type": "code",
   "execution_count": 425,
   "metadata": {
    "colab": {
     "base_uri": "https://localhost:8080/"
    },
    "executionInfo": {
     "elapsed": 274,
     "status": "ok",
     "timestamp": 1664349390693,
     "user": {
      "displayName": "diaa abo",
      "userId": "11943845526597913844"
     },
     "user_tz": -120
    },
    "id": "TU1p4MDYG8UE",
    "outputId": "7006e36b-fd34-408a-e219-70b937273cf9"
   },
   "outputs": [
    {
     "name": "stdout",
     "output_type": "stream",
     "text": [
      "<class 'pandas.core.frame.DataFrame'>\n",
      "Int64Index: 145 entries, 17 to 467\n",
      "Data columns (total 4 columns):\n",
      " #   Column           Non-Null Count  Dtype  \n",
      "---  ------           --------------  -----  \n",
      " 0   totalCores       145 non-null    int64  \n",
      " 1   totalTasks       145 non-null    int64  \n",
      " 2   totalInputBytes  145 non-null    float64\n",
      " 3   totalDuration    145 non-null    int64  \n",
      "dtypes: float64(1), int64(3)\n",
      "memory usage: 5.7 KB\n"
     ]
    }
   ],
   "source": [
    "df_max_scaled.info()"
   ]
  },
  {
   "cell_type": "code",
   "execution_count": 426,
   "metadata": {
    "colab": {
     "base_uri": "https://localhost:8080/"
    },
    "executionInfo": {
     "elapsed": 3,
     "status": "ok",
     "timestamp": 1664349391021,
     "user": {
      "displayName": "diaa abo",
      "userId": "11943845526597913844"
     },
     "user_tz": -120
    },
    "id": "wb62rxJTG8UF",
    "outputId": "ffe2b1f8-36b3-40aa-ca6e-52a78cdddddd"
   },
   "outputs": [
    {
     "name": "stdout",
     "output_type": "stream",
     "text": [
      "<class 'pandas.core.frame.DataFrame'>\n",
      "Int64Index: 241 entries, 1 to 467\n",
      "Data columns (total 7 columns):\n",
      " #   Column             Non-Null Count  Dtype  \n",
      "---  ------             --------------  -----  \n",
      " 0   totalCores         241 non-null    int64  \n",
      " 1   totalTasks         241 non-null    float64\n",
      " 2   totalInputBytes    241 non-null    float64\n",
      " 3   totalShuffleRead   241 non-null    float64\n",
      " 4   totalShuffleWrite  241 non-null    float64\n",
      " 5   maxMemory          241 non-null    float64\n",
      " 6   totalDuration      241 non-null    int64  \n",
      "dtypes: float64(5), int64(2)\n",
      "memory usage: 15.1 KB\n"
     ]
    }
   ],
   "source": [
    "tpot_max_scaled.info()"
   ]
  },
  {
   "cell_type": "markdown",
   "metadata": {
    "id": "CDN1M-5BG8UG"
   },
   "source": [
    "final shape of the data set after prpearing, cleaning and normalizing the data:"
   ]
  },
  {
   "cell_type": "code",
   "execution_count": 427,
   "metadata": {
    "colab": {
     "base_uri": "https://localhost:8080/",
     "height": 424
    },
    "executionInfo": {
     "elapsed": 888,
     "status": "ok",
     "timestamp": 1664349449479,
     "user": {
      "displayName": "diaa abo",
      "userId": "11943845526597913844"
     },
     "user_tz": -120
    },
    "id": "wY-6Pb_eG8UG",
    "outputId": "b257e6d1-462f-40a2-f875-e6380f2a4cbb"
   },
   "outputs": [
    {
     "data": {
      "text/html": [
       "<div>\n",
       "<style scoped>\n",
       "    .dataframe tbody tr th:only-of-type {\n",
       "        vertical-align: middle;\n",
       "    }\n",
       "\n",
       "    .dataframe tbody tr th {\n",
       "        vertical-align: top;\n",
       "    }\n",
       "\n",
       "    .dataframe thead th {\n",
       "        text-align: right;\n",
       "    }\n",
       "</style>\n",
       "<table border=\"1\" class=\"dataframe\">\n",
       "  <thead>\n",
       "    <tr style=\"text-align: right;\">\n",
       "      <th></th>\n",
       "      <th>totalCores</th>\n",
       "      <th>totalTasks</th>\n",
       "      <th>totalInputBytes</th>\n",
       "      <th>totalDuration</th>\n",
       "    </tr>\n",
       "  </thead>\n",
       "  <tbody>\n",
       "    <tr>\n",
       "      <th>17</th>\n",
       "      <td>2</td>\n",
       "      <td>391</td>\n",
       "      <td>0.666667</td>\n",
       "      <td>43185</td>\n",
       "    </tr>\n",
       "    <tr>\n",
       "      <th>18</th>\n",
       "      <td>2</td>\n",
       "      <td>418</td>\n",
       "      <td>1.000000</td>\n",
       "      <td>43965</td>\n",
       "    </tr>\n",
       "    <tr>\n",
       "      <th>19</th>\n",
       "      <td>2</td>\n",
       "      <td>2</td>\n",
       "      <td>0.333333</td>\n",
       "      <td>7452</td>\n",
       "    </tr>\n",
       "    <tr>\n",
       "      <th>27</th>\n",
       "      <td>1</td>\n",
       "      <td>10</td>\n",
       "      <td>0.001109</td>\n",
       "      <td>7353</td>\n",
       "    </tr>\n",
       "    <tr>\n",
       "      <th>35</th>\n",
       "      <td>1</td>\n",
       "      <td>51</td>\n",
       "      <td>0.020502</td>\n",
       "      <td>8077</td>\n",
       "    </tr>\n",
       "    <tr>\n",
       "      <th>...</th>\n",
       "      <td>...</td>\n",
       "      <td>...</td>\n",
       "      <td>...</td>\n",
       "      <td>...</td>\n",
       "    </tr>\n",
       "    <tr>\n",
       "      <th>459</th>\n",
       "      <td>1</td>\n",
       "      <td>230</td>\n",
       "      <td>0.001028</td>\n",
       "      <td>24355</td>\n",
       "    </tr>\n",
       "    <tr>\n",
       "      <th>461</th>\n",
       "      <td>1</td>\n",
       "      <td>23</td>\n",
       "      <td>0.005555</td>\n",
       "      <td>16102</td>\n",
       "    </tr>\n",
       "    <tr>\n",
       "      <th>462</th>\n",
       "      <td>1</td>\n",
       "      <td>21</td>\n",
       "      <td>0.032732</td>\n",
       "      <td>20120</td>\n",
       "    </tr>\n",
       "    <tr>\n",
       "      <th>465</th>\n",
       "      <td>1</td>\n",
       "      <td>85</td>\n",
       "      <td>0.008444</td>\n",
       "      <td>24126</td>\n",
       "    </tr>\n",
       "    <tr>\n",
       "      <th>467</th>\n",
       "      <td>1</td>\n",
       "      <td>17</td>\n",
       "      <td>0.000131</td>\n",
       "      <td>4568</td>\n",
       "    </tr>\n",
       "  </tbody>\n",
       "</table>\n",
       "<p>145 rows × 4 columns</p>\n",
       "</div>"
      ],
      "text/plain": [
       "     totalCores  totalTasks  totalInputBytes  totalDuration\n",
       "17            2         391         0.666667          43185\n",
       "18            2         418         1.000000          43965\n",
       "19            2           2         0.333333           7452\n",
       "27            1          10         0.001109           7353\n",
       "35            1          51         0.020502           8077\n",
       "..          ...         ...              ...            ...\n",
       "459           1         230         0.001028          24355\n",
       "461           1          23         0.005555          16102\n",
       "462           1          21         0.032732          20120\n",
       "465           1          85         0.008444          24126\n",
       "467           1          17         0.000131           4568\n",
       "\n",
       "[145 rows x 4 columns]"
      ]
     },
     "execution_count": 427,
     "metadata": {},
     "output_type": "execute_result"
    }
   ],
   "source": [
    "df_max_scaled"
   ]
  },
  {
   "cell_type": "code",
   "execution_count": 428,
   "metadata": {
    "colab": {
     "base_uri": "https://localhost:8080/",
     "height": 424
    },
    "executionInfo": {
     "elapsed": 7,
     "status": "ok",
     "timestamp": 1664349452144,
     "user": {
      "displayName": "diaa abo",
      "userId": "11943845526597913844"
     },
     "user_tz": -120
    },
    "id": "N8mEO_ZUG8UH",
    "outputId": "2415c581-74bf-411c-cd4c-e62ae7850bda"
   },
   "outputs": [
    {
     "data": {
      "text/html": [
       "<div>\n",
       "<style scoped>\n",
       "    .dataframe tbody tr th:only-of-type {\n",
       "        vertical-align: middle;\n",
       "    }\n",
       "\n",
       "    .dataframe tbody tr th {\n",
       "        vertical-align: top;\n",
       "    }\n",
       "\n",
       "    .dataframe thead th {\n",
       "        text-align: right;\n",
       "    }\n",
       "</style>\n",
       "<table border=\"1\" class=\"dataframe\">\n",
       "  <thead>\n",
       "    <tr style=\"text-align: right;\">\n",
       "      <th></th>\n",
       "      <th>totalCores</th>\n",
       "      <th>totalTasks</th>\n",
       "      <th>totalInputBytes</th>\n",
       "      <th>totalShuffleRead</th>\n",
       "      <th>totalShuffleWrite</th>\n",
       "      <th>maxMemory</th>\n",
       "      <th>totalDuration</th>\n",
       "    </tr>\n",
       "  </thead>\n",
       "  <tbody>\n",
       "    <tr>\n",
       "      <th>1</th>\n",
       "      <td>2</td>\n",
       "      <td>0.008066</td>\n",
       "      <td>0.000000</td>\n",
       "      <td>0.012550</td>\n",
       "      <td>0.011084</td>\n",
       "      <td>0.647292</td>\n",
       "      <td>21757</td>\n",
       "    </tr>\n",
       "    <tr>\n",
       "      <th>2</th>\n",
       "      <td>2</td>\n",
       "      <td>0.004634</td>\n",
       "      <td>0.000000</td>\n",
       "      <td>0.004524</td>\n",
       "      <td>0.010772</td>\n",
       "      <td>0.647292</td>\n",
       "      <td>20817</td>\n",
       "    </tr>\n",
       "    <tr>\n",
       "      <th>3</th>\n",
       "      <td>2</td>\n",
       "      <td>0.005092</td>\n",
       "      <td>0.000000</td>\n",
       "      <td>0.007714</td>\n",
       "      <td>0.010896</td>\n",
       "      <td>0.647292</td>\n",
       "      <td>20800</td>\n",
       "    </tr>\n",
       "    <tr>\n",
       "      <th>5</th>\n",
       "      <td>2</td>\n",
       "      <td>0.008066</td>\n",
       "      <td>0.000000</td>\n",
       "      <td>0.012550</td>\n",
       "      <td>0.011084</td>\n",
       "      <td>0.647292</td>\n",
       "      <td>21757</td>\n",
       "    </tr>\n",
       "    <tr>\n",
       "      <th>6</th>\n",
       "      <td>2</td>\n",
       "      <td>0.004634</td>\n",
       "      <td>0.000000</td>\n",
       "      <td>0.004524</td>\n",
       "      <td>0.010772</td>\n",
       "      <td>0.647292</td>\n",
       "      <td>20817</td>\n",
       "    </tr>\n",
       "    <tr>\n",
       "      <th>...</th>\n",
       "      <td>...</td>\n",
       "      <td>...</td>\n",
       "      <td>...</td>\n",
       "      <td>...</td>\n",
       "      <td>...</td>\n",
       "      <td>...</td>\n",
       "      <td>...</td>\n",
       "    </tr>\n",
       "    <tr>\n",
       "      <th>461</th>\n",
       "      <td>1</td>\n",
       "      <td>0.001316</td>\n",
       "      <td>0.005555</td>\n",
       "      <td>0.000086</td>\n",
       "      <td>0.000094</td>\n",
       "      <td>0.118280</td>\n",
       "      <td>16102</td>\n",
       "    </tr>\n",
       "    <tr>\n",
       "      <th>462</th>\n",
       "      <td>1</td>\n",
       "      <td>0.001201</td>\n",
       "      <td>0.032732</td>\n",
       "      <td>0.000012</td>\n",
       "      <td>0.000036</td>\n",
       "      <td>0.118280</td>\n",
       "      <td>20120</td>\n",
       "    </tr>\n",
       "    <tr>\n",
       "      <th>464</th>\n",
       "      <td>1</td>\n",
       "      <td>0.001545</td>\n",
       "      <td>0.000000</td>\n",
       "      <td>0.006025</td>\n",
       "      <td>0.019879</td>\n",
       "      <td>0.118280</td>\n",
       "      <td>21108</td>\n",
       "    </tr>\n",
       "    <tr>\n",
       "      <th>465</th>\n",
       "      <td>1</td>\n",
       "      <td>0.004863</td>\n",
       "      <td>0.008444</td>\n",
       "      <td>0.053365</td>\n",
       "      <td>0.058601</td>\n",
       "      <td>0.118280</td>\n",
       "      <td>24126</td>\n",
       "    </tr>\n",
       "    <tr>\n",
       "      <th>467</th>\n",
       "      <td>1</td>\n",
       "      <td>0.000973</td>\n",
       "      <td>0.000131</td>\n",
       "      <td>0.000000</td>\n",
       "      <td>0.000000</td>\n",
       "      <td>0.118280</td>\n",
       "      <td>4568</td>\n",
       "    </tr>\n",
       "  </tbody>\n",
       "</table>\n",
       "<p>241 rows × 7 columns</p>\n",
       "</div>"
      ],
      "text/plain": [
       "     totalCores  totalTasks  totalInputBytes  totalShuffleRead  \\\n",
       "1             2    0.008066         0.000000          0.012550   \n",
       "2             2    0.004634         0.000000          0.004524   \n",
       "3             2    0.005092         0.000000          0.007714   \n",
       "5             2    0.008066         0.000000          0.012550   \n",
       "6             2    0.004634         0.000000          0.004524   \n",
       "..          ...         ...              ...               ...   \n",
       "461           1    0.001316         0.005555          0.000086   \n",
       "462           1    0.001201         0.032732          0.000012   \n",
       "464           1    0.001545         0.000000          0.006025   \n",
       "465           1    0.004863         0.008444          0.053365   \n",
       "467           1    0.000973         0.000131          0.000000   \n",
       "\n",
       "     totalShuffleWrite  maxMemory  totalDuration  \n",
       "1             0.011084   0.647292          21757  \n",
       "2             0.010772   0.647292          20817  \n",
       "3             0.010896   0.647292          20800  \n",
       "5             0.011084   0.647292          21757  \n",
       "6             0.010772   0.647292          20817  \n",
       "..                 ...        ...            ...  \n",
       "461           0.000094   0.118280          16102  \n",
       "462           0.000036   0.118280          20120  \n",
       "464           0.019879   0.118280          21108  \n",
       "465           0.058601   0.118280          24126  \n",
       "467           0.000000   0.118280           4568  \n",
       "\n",
       "[241 rows x 7 columns]"
      ]
     },
     "execution_count": 428,
     "metadata": {},
     "output_type": "execute_result"
    }
   ],
   "source": [
    "tpot_max_scaled"
   ]
  },
  {
   "cell_type": "markdown",
   "metadata": {
    "id": "SzcmJZqXG8UI"
   },
   "source": [
    "# The implimentation of NNLS based on Ernest model :"
   ]
  },
  {
   "cell_type": "code",
   "execution_count": 429,
   "metadata": {
    "colab": {
     "base_uri": "https://localhost:8080/",
     "height": 424
    },
    "executionInfo": {
     "elapsed": 403,
     "status": "ok",
     "timestamp": 1664349457327,
     "user": {
      "displayName": "diaa abo",
      "userId": "11943845526597913844"
     },
     "user_tz": -120
    },
    "id": "-9-CC1HdG8UI",
    "outputId": "101929ea-1ffb-4c72-ddde-82d17bb311e0"
   },
   "outputs": [
    {
     "data": {
      "text/html": [
       "<div>\n",
       "<style scoped>\n",
       "    .dataframe tbody tr th:only-of-type {\n",
       "        vertical-align: middle;\n",
       "    }\n",
       "\n",
       "    .dataframe tbody tr th {\n",
       "        vertical-align: top;\n",
       "    }\n",
       "\n",
       "    .dataframe thead th {\n",
       "        text-align: right;\n",
       "    }\n",
       "</style>\n",
       "<table border=\"1\" class=\"dataframe\">\n",
       "  <thead>\n",
       "    <tr style=\"text-align: right;\">\n",
       "      <th></th>\n",
       "      <th>totalCores</th>\n",
       "      <th>totalInputBytes</th>\n",
       "      <th>totalDuration</th>\n",
       "    </tr>\n",
       "  </thead>\n",
       "  <tbody>\n",
       "    <tr>\n",
       "      <th>17</th>\n",
       "      <td>2</td>\n",
       "      <td>0.666667</td>\n",
       "      <td>43185</td>\n",
       "    </tr>\n",
       "    <tr>\n",
       "      <th>18</th>\n",
       "      <td>2</td>\n",
       "      <td>1.000000</td>\n",
       "      <td>43965</td>\n",
       "    </tr>\n",
       "    <tr>\n",
       "      <th>19</th>\n",
       "      <td>2</td>\n",
       "      <td>0.333333</td>\n",
       "      <td>7452</td>\n",
       "    </tr>\n",
       "    <tr>\n",
       "      <th>27</th>\n",
       "      <td>1</td>\n",
       "      <td>0.001109</td>\n",
       "      <td>7353</td>\n",
       "    </tr>\n",
       "    <tr>\n",
       "      <th>35</th>\n",
       "      <td>1</td>\n",
       "      <td>0.020502</td>\n",
       "      <td>8077</td>\n",
       "    </tr>\n",
       "    <tr>\n",
       "      <th>...</th>\n",
       "      <td>...</td>\n",
       "      <td>...</td>\n",
       "      <td>...</td>\n",
       "    </tr>\n",
       "    <tr>\n",
       "      <th>459</th>\n",
       "      <td>1</td>\n",
       "      <td>0.001028</td>\n",
       "      <td>24355</td>\n",
       "    </tr>\n",
       "    <tr>\n",
       "      <th>461</th>\n",
       "      <td>1</td>\n",
       "      <td>0.005555</td>\n",
       "      <td>16102</td>\n",
       "    </tr>\n",
       "    <tr>\n",
       "      <th>462</th>\n",
       "      <td>1</td>\n",
       "      <td>0.032732</td>\n",
       "      <td>20120</td>\n",
       "    </tr>\n",
       "    <tr>\n",
       "      <th>465</th>\n",
       "      <td>1</td>\n",
       "      <td>0.008444</td>\n",
       "      <td>24126</td>\n",
       "    </tr>\n",
       "    <tr>\n",
       "      <th>467</th>\n",
       "      <td>1</td>\n",
       "      <td>0.000131</td>\n",
       "      <td>4568</td>\n",
       "    </tr>\n",
       "  </tbody>\n",
       "</table>\n",
       "<p>145 rows × 3 columns</p>\n",
       "</div>"
      ],
      "text/plain": [
       "     totalCores  totalInputBytes  totalDuration\n",
       "17            2         0.666667          43185\n",
       "18            2         1.000000          43965\n",
       "19            2         0.333333           7452\n",
       "27            1         0.001109           7353\n",
       "35            1         0.020502           8077\n",
       "..          ...              ...            ...\n",
       "459           1         0.001028          24355\n",
       "461           1         0.005555          16102\n",
       "462           1         0.032732          20120\n",
       "465           1         0.008444          24126\n",
       "467           1         0.000131           4568\n",
       "\n",
       "[145 rows x 3 columns]"
      ]
     },
     "execution_count": 429,
     "metadata": {},
     "output_type": "execute_result"
    }
   ],
   "source": [
    "Ernest_data=df_max_scaled.drop([\"totalTasks\"],axis='columns')\n",
    "Ernest_data"
   ]
  },
  {
   "cell_type": "markdown",
   "metadata": {
    "id": "pWrqiplkG8UI"
   },
   "source": [
    "dividing the dataset into input and target data for the training "
   ]
  },
  {
   "cell_type": "code",
   "execution_count": 430,
   "metadata": {
    "id": "lC5T0HFPG8UO"
   },
   "outputs": [],
   "source": [
    "inputs=Ernest_data.drop(['totalDuration'],axis='columns')\n",
    "target=Ernest_data['totalDuration']"
   ]
  },
  {
   "cell_type": "code",
   "execution_count": 431,
   "metadata": {
    "id": "VKRQXFvzG8UO"
   },
   "outputs": [],
   "source": [
    "X = inputs\n",
    "Y = target"
   ]
  },
  {
   "cell_type": "code",
   "execution_count": 432,
   "metadata": {
    "id": "fJri3Fj4G8UP",
    "outputId": "e83df70b-07c4-474b-eb60-be12db369ee1"
   },
   "outputs": [
    {
     "data": {
      "text/html": [
       "<div>\n",
       "<style scoped>\n",
       "    .dataframe tbody tr th:only-of-type {\n",
       "        vertical-align: middle;\n",
       "    }\n",
       "\n",
       "    .dataframe tbody tr th {\n",
       "        vertical-align: top;\n",
       "    }\n",
       "\n",
       "    .dataframe thead th {\n",
       "        text-align: right;\n",
       "    }\n",
       "</style>\n",
       "<table border=\"1\" class=\"dataframe\">\n",
       "  <thead>\n",
       "    <tr style=\"text-align: right;\">\n",
       "      <th></th>\n",
       "      <th>totalCores</th>\n",
       "      <th>totalInputBytes</th>\n",
       "    </tr>\n",
       "  </thead>\n",
       "  <tbody>\n",
       "    <tr>\n",
       "      <th>17</th>\n",
       "      <td>2</td>\n",
       "      <td>0.666667</td>\n",
       "    </tr>\n",
       "    <tr>\n",
       "      <th>18</th>\n",
       "      <td>2</td>\n",
       "      <td>1.000000</td>\n",
       "    </tr>\n",
       "    <tr>\n",
       "      <th>19</th>\n",
       "      <td>2</td>\n",
       "      <td>0.333333</td>\n",
       "    </tr>\n",
       "    <tr>\n",
       "      <th>27</th>\n",
       "      <td>1</td>\n",
       "      <td>0.001109</td>\n",
       "    </tr>\n",
       "    <tr>\n",
       "      <th>35</th>\n",
       "      <td>1</td>\n",
       "      <td>0.020502</td>\n",
       "    </tr>\n",
       "    <tr>\n",
       "      <th>...</th>\n",
       "      <td>...</td>\n",
       "      <td>...</td>\n",
       "    </tr>\n",
       "    <tr>\n",
       "      <th>459</th>\n",
       "      <td>1</td>\n",
       "      <td>0.001028</td>\n",
       "    </tr>\n",
       "    <tr>\n",
       "      <th>461</th>\n",
       "      <td>1</td>\n",
       "      <td>0.005555</td>\n",
       "    </tr>\n",
       "    <tr>\n",
       "      <th>462</th>\n",
       "      <td>1</td>\n",
       "      <td>0.032732</td>\n",
       "    </tr>\n",
       "    <tr>\n",
       "      <th>465</th>\n",
       "      <td>1</td>\n",
       "      <td>0.008444</td>\n",
       "    </tr>\n",
       "    <tr>\n",
       "      <th>467</th>\n",
       "      <td>1</td>\n",
       "      <td>0.000131</td>\n",
       "    </tr>\n",
       "  </tbody>\n",
       "</table>\n",
       "<p>145 rows × 2 columns</p>\n",
       "</div>"
      ],
      "text/plain": [
       "     totalCores  totalInputBytes\n",
       "17            2         0.666667\n",
       "18            2         1.000000\n",
       "19            2         0.333333\n",
       "27            1         0.001109\n",
       "35            1         0.020502\n",
       "..          ...              ...\n",
       "459           1         0.001028\n",
       "461           1         0.005555\n",
       "462           1         0.032732\n",
       "465           1         0.008444\n",
       "467           1         0.000131\n",
       "\n",
       "[145 rows x 2 columns]"
      ]
     },
     "execution_count": 432,
     "metadata": {},
     "output_type": "execute_result"
    }
   ],
   "source": [
    "X"
   ]
  },
  {
   "cell_type": "code",
   "execution_count": 433,
   "metadata": {
    "id": "-1Y-AG8NG8UP",
    "outputId": "e185d62f-d0ea-4242-ff6b-1ee14c5121cc"
   },
   "outputs": [
    {
     "data": {
      "text/plain": [
       "17     43185\n",
       "18     43965\n",
       "19      7452\n",
       "27      7353\n",
       "35      8077\n",
       "       ...  \n",
       "459    24355\n",
       "461    16102\n",
       "462    20120\n",
       "465    24126\n",
       "467     4568\n",
       "Name: totalDuration, Length: 145, dtype: int64"
      ]
     },
     "execution_count": 433,
     "metadata": {},
     "output_type": "execute_result"
    }
   ],
   "source": [
    "Y"
   ]
  },
  {
   "cell_type": "code",
   "execution_count": 434,
   "metadata": {
    "id": "K9K4b-RiG8UP"
   },
   "outputs": [],
   "source": [
    "# spliting the data into train data and test data to evaluate the model later: \n",
    "X_train, X_test, y_train, y_test = train_test_split(X, Y, test_size=0.3, random_state=1) # 70% training and 30% test\n",
    "\n"
   ]
  },
  {
   "cell_type": "code",
   "execution_count": 435,
   "metadata": {
    "id": "v6eLZ3zqG8UP",
    "outputId": "0ff3335f-55dc-407d-997d-0d2abcead822"
   },
   "outputs": [
    {
     "data": {
      "text/plain": [
       "totalCores         101\n",
       "totalInputBytes    101\n",
       "dtype: int64"
      ]
     },
     "execution_count": 435,
     "metadata": {},
     "output_type": "execute_result"
    }
   ],
   "source": [
    "X_train.count()"
   ]
  },
  {
   "cell_type": "code",
   "execution_count": 436,
   "metadata": {},
   "outputs": [
    {
     "data": {
      "text/plain": [
       "totalCores         44\n",
       "totalInputBytes    44\n",
       "dtype: int64"
      ]
     },
     "execution_count": 436,
     "metadata": {},
     "output_type": "execute_result"
    }
   ],
   "source": [
    "X_test.count()"
   ]
  },
  {
   "cell_type": "markdown",
   "metadata": {
    "id": "I8dHfGcZG8UP"
   },
   "source": [
    "converting the train and test dataframes into arrays to calculate features later "
   ]
  },
  {
   "cell_type": "code",
   "execution_count": 437,
   "metadata": {
    "id": "A90KF_0YG8UQ"
   },
   "outputs": [],
   "source": [
    "training_data_arr=[]\n",
    "test_data_arr=[]\n",
    "labels_arr = []\n",
    "training_data_arr=X_train.to_numpy()\n",
    "test_data_arr = X_test.to_numpy()\n",
    "labels_arr = y_train.to_numpy()\n",
    "Y_test= y_test.to_numpy()"
   ]
  },
  {
   "cell_type": "markdown",
   "metadata": {
    "id": "QVgwx66xG8UQ"
   },
   "source": [
    "the following array has the first and the second variable of our dataset, which are number of cores and data inputSize"
   ]
  },
  {
   "cell_type": "code",
   "execution_count": 438,
   "metadata": {
    "id": "aQYi8Ed8G8UQ",
    "outputId": "65f61811-c31e-4505-da3f-45973abfb275"
   },
   "outputs": [
    {
     "data": {
      "text/plain": [
       "array([[1.00000000e+00, 5.55530350e-03],\n",
       "       [1.00000000e+00, 1.31068867e-04],\n",
       "       [1.00000000e+00, 1.31068867e-04],\n",
       "       [1.00000000e+00, 8.44385968e-03],\n",
       "       [2.00000000e+00, 1.00000000e+00],\n",
       "       [1.00000000e+00, 1.01830427e-03],\n",
       "       [1.00000000e+00, 3.27319289e-02],\n",
       "       [1.00000000e+00, 1.10904426e-03],\n",
       "       [1.00000000e+00, 3.42593853e-02],\n",
       "       [2.00000000e+00, 6.66666667e-01],\n",
       "       [1.00000000e+00, 5.55530350e-03],\n",
       "       [1.00000000e+00, 4.30258760e-03],\n",
       "       [2.00000000e+00, 3.33333333e-01],\n",
       "       [1.00000000e+00, 2.71615020e-02],\n",
       "       [1.00000000e+00, 1.69078838e-02],\n",
       "       [1.00000000e+00, 4.30258760e-03],\n",
       "       [1.00000000e+00, 1.10904426e-03],\n",
       "       [2.00000000e+00, 1.00000000e+00],\n",
       "       [1.00000000e+00, 1.16449647e-01],\n",
       "       [1.00000000e+00, 8.44385968e-03],\n",
       "       [1.00000000e+00, 1.10904426e-03],\n",
       "       [1.00000000e+00, 6.25753016e-02],\n",
       "       [1.00000000e+00, 5.89910722e-02],\n",
       "       [1.00000000e+00, 3.27319289e-02],\n",
       "       [1.00000000e+00, 2.41872470e-02],\n",
       "       [1.00000000e+00, 1.31068867e-04],\n",
       "       [1.00000000e+00, 2.41872470e-02],\n",
       "       [1.00000000e+00, 2.05021954e-02],\n",
       "       [1.00000000e+00, 1.02838649e-03],\n",
       "       [2.00000000e+00, 3.33333333e-01],\n",
       "       [1.00000000e+00, 3.76913731e-01],\n",
       "       [1.00000000e+00, 3.27319289e-02],\n",
       "       [1.00000000e+00, 1.16449647e-01],\n",
       "       [1.00000000e+00, 2.71615020e-02],\n",
       "       [1.00000000e+00, 1.10904426e-03],\n",
       "       [1.00000000e+00, 1.10904426e-03],\n",
       "       [1.00000000e+00, 4.40593036e-03],\n",
       "       [1.00000000e+00, 8.44385968e-03],\n",
       "       [1.00000000e+00, 1.31068867e-04],\n",
       "       [1.00000000e+00, 8.44385968e-03],\n",
       "       [1.00000000e+00, 1.01830427e-03],\n",
       "       [1.00000000e+00, 4.40593036e-03],\n",
       "       [1.00000000e+00, 4.40593036e-03],\n",
       "       [1.00000000e+00, 4.40593036e-03],\n",
       "       [1.00000000e+00, 2.71615020e-02],\n",
       "       [1.00000000e+00, 1.31068867e-04],\n",
       "       [1.00000000e+00, 4.30258760e-03],\n",
       "       [2.00000000e+00, 6.66666667e-01],\n",
       "       [1.00000000e+00, 5.38440986e-02],\n",
       "       [1.00000000e+00, 2.41872470e-02],\n",
       "       [1.00000000e+00, 1.10904426e-03],\n",
       "       [1.00000000e+00, 1.31068867e-04],\n",
       "       [1.00000000e+00, 1.02838649e-03],\n",
       "       [1.00000000e+00, 4.30258760e-03],\n",
       "       [1.00000000e+00, 4.08783631e-02],\n",
       "       [1.00000000e+00, 1.01830427e-03],\n",
       "       [1.00000000e+00, 3.27319289e-02],\n",
       "       [1.00000000e+00, 6.25753016e-02],\n",
       "       [1.00000000e+00, 1.31068867e-04],\n",
       "       [1.00000000e+00, 1.02838649e-03],\n",
       "       [1.00000000e+00, 1.31068867e-04],\n",
       "       [1.00000000e+00, 1.01830427e-03],\n",
       "       [1.00000000e+00, 3.76913731e-01],\n",
       "       [1.00000000e+00, 1.31068867e-04],\n",
       "       [1.00000000e+00, 1.69078838e-02],\n",
       "       [1.00000000e+00, 4.30258760e-03],\n",
       "       [1.00000000e+00, 1.10904426e-03],\n",
       "       [1.00000000e+00, 5.55530350e-03],\n",
       "       [2.00000000e+00, 1.00000000e+00],\n",
       "       [1.00000000e+00, 3.27319289e-02],\n",
       "       [1.00000000e+00, 5.38440986e-02],\n",
       "       [1.00000000e+00, 6.25753016e-02],\n",
       "       [1.00000000e+00, 1.31068867e-04],\n",
       "       [1.00000000e+00, 1.31068867e-04],\n",
       "       [2.00000000e+00, 1.00000000e+00],\n",
       "       [1.00000000e+00, 3.76913731e-01],\n",
       "       [1.00000000e+00, 1.01830427e-03],\n",
       "       [2.00000000e+00, 3.33333333e-01],\n",
       "       [2.00000000e+00, 6.66666667e-01],\n",
       "       [2.00000000e+00, 1.00000000e+00],\n",
       "       [1.00000000e+00, 1.31068867e-04],\n",
       "       [1.00000000e+00, 4.08783631e-02],\n",
       "       [1.00000000e+00, 1.10904426e-03],\n",
       "       [1.00000000e+00, 2.71615020e-02],\n",
       "       [1.00000000e+00, 5.89910722e-02],\n",
       "       [1.00000000e+00, 1.31068867e-04],\n",
       "       [1.00000000e+00, 4.40593036e-03],\n",
       "       [1.00000000e+00, 1.16449647e-01],\n",
       "       [1.00000000e+00, 1.69078838e-02],\n",
       "       [1.00000000e+00, 1.31068867e-04],\n",
       "       [1.00000000e+00, 1.31068867e-04],\n",
       "       [1.00000000e+00, 5.55530350e-03],\n",
       "       [1.00000000e+00, 6.25753016e-02],\n",
       "       [1.00000000e+00, 1.31068867e-04],\n",
       "       [1.00000000e+00, 1.31068867e-04],\n",
       "       [1.00000000e+00, 1.69078838e-02],\n",
       "       [1.00000000e+00, 2.41872470e-02],\n",
       "       [1.00000000e+00, 1.69078838e-02],\n",
       "       [1.00000000e+00, 1.31068867e-04],\n",
       "       [1.00000000e+00, 1.02838649e-03],\n",
       "       [1.00000000e+00, 3.76913731e-01]])"
      ]
     },
     "execution_count": 438,
     "metadata": {},
     "output_type": "execute_result"
    }
   ],
   "source": [
    "training_data_arr\n"
   ]
  },
  {
   "cell_type": "code",
   "execution_count": null,
   "metadata": {
    "id": "dnFRefVVG8UR"
   },
   "outputs": [],
   "source": []
  },
  {
   "cell_type": "code",
   "execution_count": 439,
   "metadata": {
    "id": "JYNc4nSXG8UR",
    "outputId": "76b7aad6-50bf-4292-e7df-3e203db9164d"
   },
   "outputs": [
    {
     "data": {
      "text/plain": [
       "array([16102,  5763,  5844, 24126, 43965, 23337, 20120,  7353, 14975,\n",
       "       43185, 16102,  6784,  7452, 11467, 38468,  6784,  6869, 43965,\n",
       "        8239, 24126,  6869, 45612, 38832, 20120, 16244,  5763, 16244,\n",
       "        8077, 24355,  7452, 36375, 20120,  8239, 11467,  7353,  7353,\n",
       "        4155, 24126,  4568, 24126, 23337,  4155,  4155,  4155, 11467,\n",
       "        5735,  6784, 43185, 47868, 16244,  6869,  5844, 24355,  6784,\n",
       "       36922, 23337, 20120, 45612,  5447, 24355,  5844, 23337, 36375,\n",
       "        5763, 38468,  6784,  7353, 16102, 43965, 20120, 47868, 45612,\n",
       "        4568,  5735, 43965, 36375, 23337,  7452, 43185, 43965,  4568,\n",
       "       36922,  7353, 11467, 38832,  4568,  4155,  8239, 38468,  5447,\n",
       "        5763, 16102, 45612,  5735,  5735, 38468, 16244, 38468,  5447,\n",
       "       24355, 36375])"
      ]
     },
     "execution_count": 439,
     "metadata": {},
     "output_type": "execute_result"
    }
   ],
   "source": [
    "labels_arr"
   ]
  },
  {
   "cell_type": "markdown",
   "metadata": {
    "id": "y1J3B4bPG8UR"
   },
   "source": [
    "the next function is to calculate the fetures:\n",
    "time= (x1) + (x2 * input / machines) + ( x3 * log(machines)) for each row of the training_data_arr"
   ]
  },
  {
   "cell_type": "code",
   "execution_count": 440,
   "metadata": {
    "id": "lhyfZe-uG8UR"
   },
   "outputs": [],
   "source": [
    "# function to calculate the fetures, time= (x1) + (x2 * input / machines) + ( x3 * log(machines)) \n",
    "def _get_features(training_point):\n",
    "    cores = training_point[0]\n",
    "    inputSize = training_point[1]\n",
    "    return [1.0, float(inputSize) / float(cores), float(cores), np.log(cores)]"
   ]
  },
  {
   "cell_type": "code",
   "execution_count": 441,
   "metadata": {
    "id": "voATsWt0G8US"
   },
   "outputs": [],
   "source": [
    "data_points = np.array([_get_features(row) for row in training_data_arr])\n",
    "#labels = np.array([row[0] for row in labels_arr])"
   ]
  },
  {
   "cell_type": "markdown",
   "metadata": {
    "id": "y0Z4hzofG8US"
   },
   "source": [
    "our data points after calculating the features of the previous formula  (x1) + (x2 * input / machines) + ( x3 * log(machines))"
   ]
  },
  {
   "cell_type": "code",
   "execution_count": 442,
   "metadata": {
    "id": "MLLhKrpIG8US",
    "outputId": "46e1f775-9b16-4c7d-ad3e-8157a691fc81"
   },
   "outputs": [
    {
     "data": {
      "text/plain": [
       "array([[1.00000000e+00, 5.55530350e-03, 1.00000000e+00, 0.00000000e+00],\n",
       "       [1.00000000e+00, 1.31068867e-04, 1.00000000e+00, 0.00000000e+00],\n",
       "       [1.00000000e+00, 1.31068867e-04, 1.00000000e+00, 0.00000000e+00],\n",
       "       [1.00000000e+00, 8.44385968e-03, 1.00000000e+00, 0.00000000e+00],\n",
       "       [1.00000000e+00, 5.00000000e-01, 2.00000000e+00, 6.93147181e-01],\n",
       "       [1.00000000e+00, 1.01830427e-03, 1.00000000e+00, 0.00000000e+00],\n",
       "       [1.00000000e+00, 3.27319289e-02, 1.00000000e+00, 0.00000000e+00],\n",
       "       [1.00000000e+00, 1.10904426e-03, 1.00000000e+00, 0.00000000e+00],\n",
       "       [1.00000000e+00, 3.42593853e-02, 1.00000000e+00, 0.00000000e+00],\n",
       "       [1.00000000e+00, 3.33333333e-01, 2.00000000e+00, 6.93147181e-01],\n",
       "       [1.00000000e+00, 5.55530350e-03, 1.00000000e+00, 0.00000000e+00],\n",
       "       [1.00000000e+00, 4.30258760e-03, 1.00000000e+00, 0.00000000e+00],\n",
       "       [1.00000000e+00, 1.66666667e-01, 2.00000000e+00, 6.93147181e-01],\n",
       "       [1.00000000e+00, 2.71615020e-02, 1.00000000e+00, 0.00000000e+00],\n",
       "       [1.00000000e+00, 1.69078838e-02, 1.00000000e+00, 0.00000000e+00],\n",
       "       [1.00000000e+00, 4.30258760e-03, 1.00000000e+00, 0.00000000e+00],\n",
       "       [1.00000000e+00, 1.10904426e-03, 1.00000000e+00, 0.00000000e+00],\n",
       "       [1.00000000e+00, 5.00000000e-01, 2.00000000e+00, 6.93147181e-01],\n",
       "       [1.00000000e+00, 1.16449647e-01, 1.00000000e+00, 0.00000000e+00],\n",
       "       [1.00000000e+00, 8.44385968e-03, 1.00000000e+00, 0.00000000e+00],\n",
       "       [1.00000000e+00, 1.10904426e-03, 1.00000000e+00, 0.00000000e+00],\n",
       "       [1.00000000e+00, 6.25753016e-02, 1.00000000e+00, 0.00000000e+00],\n",
       "       [1.00000000e+00, 5.89910722e-02, 1.00000000e+00, 0.00000000e+00],\n",
       "       [1.00000000e+00, 3.27319289e-02, 1.00000000e+00, 0.00000000e+00],\n",
       "       [1.00000000e+00, 2.41872470e-02, 1.00000000e+00, 0.00000000e+00],\n",
       "       [1.00000000e+00, 1.31068867e-04, 1.00000000e+00, 0.00000000e+00],\n",
       "       [1.00000000e+00, 2.41872470e-02, 1.00000000e+00, 0.00000000e+00],\n",
       "       [1.00000000e+00, 2.05021954e-02, 1.00000000e+00, 0.00000000e+00],\n",
       "       [1.00000000e+00, 1.02838649e-03, 1.00000000e+00, 0.00000000e+00],\n",
       "       [1.00000000e+00, 1.66666667e-01, 2.00000000e+00, 6.93147181e-01],\n",
       "       [1.00000000e+00, 3.76913731e-01, 1.00000000e+00, 0.00000000e+00],\n",
       "       [1.00000000e+00, 3.27319289e-02, 1.00000000e+00, 0.00000000e+00],\n",
       "       [1.00000000e+00, 1.16449647e-01, 1.00000000e+00, 0.00000000e+00],\n",
       "       [1.00000000e+00, 2.71615020e-02, 1.00000000e+00, 0.00000000e+00],\n",
       "       [1.00000000e+00, 1.10904426e-03, 1.00000000e+00, 0.00000000e+00],\n",
       "       [1.00000000e+00, 1.10904426e-03, 1.00000000e+00, 0.00000000e+00],\n",
       "       [1.00000000e+00, 4.40593036e-03, 1.00000000e+00, 0.00000000e+00],\n",
       "       [1.00000000e+00, 8.44385968e-03, 1.00000000e+00, 0.00000000e+00],\n",
       "       [1.00000000e+00, 1.31068867e-04, 1.00000000e+00, 0.00000000e+00],\n",
       "       [1.00000000e+00, 8.44385968e-03, 1.00000000e+00, 0.00000000e+00],\n",
       "       [1.00000000e+00, 1.01830427e-03, 1.00000000e+00, 0.00000000e+00],\n",
       "       [1.00000000e+00, 4.40593036e-03, 1.00000000e+00, 0.00000000e+00],\n",
       "       [1.00000000e+00, 4.40593036e-03, 1.00000000e+00, 0.00000000e+00],\n",
       "       [1.00000000e+00, 4.40593036e-03, 1.00000000e+00, 0.00000000e+00],\n",
       "       [1.00000000e+00, 2.71615020e-02, 1.00000000e+00, 0.00000000e+00],\n",
       "       [1.00000000e+00, 1.31068867e-04, 1.00000000e+00, 0.00000000e+00],\n",
       "       [1.00000000e+00, 4.30258760e-03, 1.00000000e+00, 0.00000000e+00],\n",
       "       [1.00000000e+00, 3.33333333e-01, 2.00000000e+00, 6.93147181e-01],\n",
       "       [1.00000000e+00, 5.38440986e-02, 1.00000000e+00, 0.00000000e+00],\n",
       "       [1.00000000e+00, 2.41872470e-02, 1.00000000e+00, 0.00000000e+00],\n",
       "       [1.00000000e+00, 1.10904426e-03, 1.00000000e+00, 0.00000000e+00],\n",
       "       [1.00000000e+00, 1.31068867e-04, 1.00000000e+00, 0.00000000e+00],\n",
       "       [1.00000000e+00, 1.02838649e-03, 1.00000000e+00, 0.00000000e+00],\n",
       "       [1.00000000e+00, 4.30258760e-03, 1.00000000e+00, 0.00000000e+00],\n",
       "       [1.00000000e+00, 4.08783631e-02, 1.00000000e+00, 0.00000000e+00],\n",
       "       [1.00000000e+00, 1.01830427e-03, 1.00000000e+00, 0.00000000e+00],\n",
       "       [1.00000000e+00, 3.27319289e-02, 1.00000000e+00, 0.00000000e+00],\n",
       "       [1.00000000e+00, 6.25753016e-02, 1.00000000e+00, 0.00000000e+00],\n",
       "       [1.00000000e+00, 1.31068867e-04, 1.00000000e+00, 0.00000000e+00],\n",
       "       [1.00000000e+00, 1.02838649e-03, 1.00000000e+00, 0.00000000e+00],\n",
       "       [1.00000000e+00, 1.31068867e-04, 1.00000000e+00, 0.00000000e+00],\n",
       "       [1.00000000e+00, 1.01830427e-03, 1.00000000e+00, 0.00000000e+00],\n",
       "       [1.00000000e+00, 3.76913731e-01, 1.00000000e+00, 0.00000000e+00],\n",
       "       [1.00000000e+00, 1.31068867e-04, 1.00000000e+00, 0.00000000e+00],\n",
       "       [1.00000000e+00, 1.69078838e-02, 1.00000000e+00, 0.00000000e+00],\n",
       "       [1.00000000e+00, 4.30258760e-03, 1.00000000e+00, 0.00000000e+00],\n",
       "       [1.00000000e+00, 1.10904426e-03, 1.00000000e+00, 0.00000000e+00],\n",
       "       [1.00000000e+00, 5.55530350e-03, 1.00000000e+00, 0.00000000e+00],\n",
       "       [1.00000000e+00, 5.00000000e-01, 2.00000000e+00, 6.93147181e-01],\n",
       "       [1.00000000e+00, 3.27319289e-02, 1.00000000e+00, 0.00000000e+00],\n",
       "       [1.00000000e+00, 5.38440986e-02, 1.00000000e+00, 0.00000000e+00],\n",
       "       [1.00000000e+00, 6.25753016e-02, 1.00000000e+00, 0.00000000e+00],\n",
       "       [1.00000000e+00, 1.31068867e-04, 1.00000000e+00, 0.00000000e+00],\n",
       "       [1.00000000e+00, 1.31068867e-04, 1.00000000e+00, 0.00000000e+00],\n",
       "       [1.00000000e+00, 5.00000000e-01, 2.00000000e+00, 6.93147181e-01],\n",
       "       [1.00000000e+00, 3.76913731e-01, 1.00000000e+00, 0.00000000e+00],\n",
       "       [1.00000000e+00, 1.01830427e-03, 1.00000000e+00, 0.00000000e+00],\n",
       "       [1.00000000e+00, 1.66666667e-01, 2.00000000e+00, 6.93147181e-01],\n",
       "       [1.00000000e+00, 3.33333333e-01, 2.00000000e+00, 6.93147181e-01],\n",
       "       [1.00000000e+00, 5.00000000e-01, 2.00000000e+00, 6.93147181e-01],\n",
       "       [1.00000000e+00, 1.31068867e-04, 1.00000000e+00, 0.00000000e+00],\n",
       "       [1.00000000e+00, 4.08783631e-02, 1.00000000e+00, 0.00000000e+00],\n",
       "       [1.00000000e+00, 1.10904426e-03, 1.00000000e+00, 0.00000000e+00],\n",
       "       [1.00000000e+00, 2.71615020e-02, 1.00000000e+00, 0.00000000e+00],\n",
       "       [1.00000000e+00, 5.89910722e-02, 1.00000000e+00, 0.00000000e+00],\n",
       "       [1.00000000e+00, 1.31068867e-04, 1.00000000e+00, 0.00000000e+00],\n",
       "       [1.00000000e+00, 4.40593036e-03, 1.00000000e+00, 0.00000000e+00],\n",
       "       [1.00000000e+00, 1.16449647e-01, 1.00000000e+00, 0.00000000e+00],\n",
       "       [1.00000000e+00, 1.69078838e-02, 1.00000000e+00, 0.00000000e+00],\n",
       "       [1.00000000e+00, 1.31068867e-04, 1.00000000e+00, 0.00000000e+00],\n",
       "       [1.00000000e+00, 1.31068867e-04, 1.00000000e+00, 0.00000000e+00],\n",
       "       [1.00000000e+00, 5.55530350e-03, 1.00000000e+00, 0.00000000e+00],\n",
       "       [1.00000000e+00, 6.25753016e-02, 1.00000000e+00, 0.00000000e+00],\n",
       "       [1.00000000e+00, 1.31068867e-04, 1.00000000e+00, 0.00000000e+00],\n",
       "       [1.00000000e+00, 1.31068867e-04, 1.00000000e+00, 0.00000000e+00],\n",
       "       [1.00000000e+00, 1.69078838e-02, 1.00000000e+00, 0.00000000e+00],\n",
       "       [1.00000000e+00, 2.41872470e-02, 1.00000000e+00, 0.00000000e+00],\n",
       "       [1.00000000e+00, 1.69078838e-02, 1.00000000e+00, 0.00000000e+00],\n",
       "       [1.00000000e+00, 1.31068867e-04, 1.00000000e+00, 0.00000000e+00],\n",
       "       [1.00000000e+00, 1.02838649e-03, 1.00000000e+00, 0.00000000e+00],\n",
       "       [1.00000000e+00, 3.76913731e-01, 1.00000000e+00, 0.00000000e+00]])"
      ]
     },
     "execution_count": 442,
     "metadata": {},
     "output_type": "execute_result"
    }
   ],
   "source": [
    "data_points"
   ]
  },
  {
   "cell_type": "code",
   "execution_count": 443,
   "metadata": {
    "id": "xMauZ9H5G8US",
    "outputId": "23f0f00c-bc20-4f2c-e1a7-e93077ddbd28"
   },
   "outputs": [
    {
     "data": {
      "text/plain": [
       "array([16102,  5763,  5844, 24126, 43965, 23337, 20120,  7353, 14975,\n",
       "       43185, 16102,  6784,  7452, 11467, 38468,  6784,  6869, 43965,\n",
       "        8239, 24126,  6869, 45612, 38832, 20120, 16244,  5763, 16244,\n",
       "        8077, 24355,  7452, 36375, 20120,  8239, 11467,  7353,  7353,\n",
       "        4155, 24126,  4568, 24126, 23337,  4155,  4155,  4155, 11467,\n",
       "        5735,  6784, 43185, 47868, 16244,  6869,  5844, 24355,  6784,\n",
       "       36922, 23337, 20120, 45612,  5447, 24355,  5844, 23337, 36375,\n",
       "        5763, 38468,  6784,  7353, 16102, 43965, 20120, 47868, 45612,\n",
       "        4568,  5735, 43965, 36375, 23337,  7452, 43185, 43965,  4568,\n",
       "       36922,  7353, 11467, 38832,  4568,  4155,  8239, 38468,  5447,\n",
       "        5763, 16102, 45612,  5735,  5735, 38468, 16244, 38468,  5447,\n",
       "       24355, 36375])"
      ]
     },
     "execution_count": 443,
     "metadata": {},
     "output_type": "execute_result"
    }
   ],
   "source": [
    "labels_arr"
   ]
  },
  {
   "cell_type": "markdown",
   "metadata": {
    "id": "pUBjxQsiG8US"
   },
   "source": [
    "fitting the nnls model with our data points and target"
   ]
  },
  {
   "cell_type": "code",
   "execution_count": 444,
   "metadata": {
    "id": "VrK_Ful9G8US"
   },
   "outputs": [],
   "source": [
    "ernest_model=nnls(data_points,labels_arr)\n"
   ]
  },
  {
   "cell_type": "code",
   "execution_count": 445,
   "metadata": {
    "id": "ch0XHHTcG8UT",
    "outputId": "91a9dbea-07bf-43e6-a008-6a18d5ea625f"
   },
   "outputs": [
    {
     "data": {
      "text/plain": [
       "array([15369.0092721 , 61256.30589954,     0.        ,     0.        ])"
      ]
     },
     "execution_count": 445,
     "metadata": {},
     "output_type": "execute_result"
    }
   ],
   "source": [
    "ernest_model[0]"
   ]
  },
  {
   "cell_type": "markdown",
   "metadata": {
    "id": "9SHWi15EG8UT"
   },
   "source": [
    "create a virtual dataset which containes the number of cores as the first column and inputSize as the second column in order to check and evalute the general behavior of the model if the model can predict the total time based on those two variables correctly! "
   ]
  },
  {
   "cell_type": "code",
   "execution_count": 446,
   "metadata": {
    "id": "KxOZueQZG8UT",
    "outputId": "0ccafe08-f907-4d73-a4a6-796df054936b"
   },
   "outputs": [
    {
     "data": {
      "text/plain": [
       "[[4, 1.0],\n",
       " [8, 1.0],\n",
       " [12, 1.0],\n",
       " [16, 1.0],\n",
       " [20, 1.0],\n",
       " [24, 1.0],\n",
       " [28, 1.0],\n",
       " [32, 1.0],\n",
       " [36, 1.0],\n",
       " [40, 1.0],\n",
       " [44, 1.0],\n",
       " [48, 1.0],\n",
       " [52, 1.0],\n",
       " [56, 1.0],\n",
       " [60, 1.0]]"
      ]
     },
     "execution_count": 446,
     "metadata": {},
     "output_type": "execute_result"
    }
   ],
   "source": [
    "virtual_test_data = [[i,1.0] for i in range(4, 64, 4)]\n",
    "virtual_test_data"
   ]
  },
  {
   "cell_type": "markdown",
   "metadata": {
    "id": "ygkLt7WXG8UT"
   },
   "source": [
    "the next function is to calculate the featues of each row from the test dataset and to apply NNLS model on these features "
   ]
  },
  {
   "cell_type": "code",
   "execution_count": 447,
   "metadata": {
    "id": "muHR4X8TG8UU"
   },
   "outputs": [],
   "source": [
    "def predict_all(test_data):\n",
    "    ''' \n",
    "        Predict running time for a batch of input sizes, machines.\n",
    "        Input test_data should be a list where every element is (input_fraction, cores)\n",
    "    '''    \n",
    "    test_features = np.array([_get_features([row[0], row[1]]) for row in virtual_test_data])\n",
    "    return test_features.dot(ernest_model[0])"
   ]
  },
  {
   "cell_type": "code",
   "execution_count": 448,
   "metadata": {
    "id": "gNH7LFX4G8UU"
   },
   "outputs": [],
   "source": [
    "def predict(cores, input_fraction):\n",
    "    ''' \n",
    "        Predict running time for given input fraction, number of machines.\n",
    "    '''    \n",
    "    test_features = np.array(_get_features([cores, input_fraction]))\n",
    "    return test_features.dot(ernest_model[0])"
   ]
  },
  {
   "cell_type": "code",
   "execution_count": 449,
   "metadata": {
    "id": "67H4NgmfG8UU",
    "outputId": "dd6b56c8-3489-45f3-dc6c-d00ed48caf79"
   },
   "outputs": [
    {
     "name": "stdout",
     "output_type": "stream",
     "text": [
      "14975\n"
     ]
    }
   ],
   "source": [
    "y_test_arr = np.array(y_test.values.tolist())\n",
    "print (y_test_arr[0])\n"
   ]
  },
  {
   "cell_type": "markdown",
   "metadata": {},
   "source": [
    "test the model on the virtual data set that has been created before"
   ]
  },
  {
   "cell_type": "code",
   "execution_count": 453,
   "metadata": {},
   "outputs": [],
   "source": [
    "predicted_times = predict_all(virtual_test_data)"
   ]
  },
  {
   "cell_type": "code",
   "execution_count": 454,
   "metadata": {},
   "outputs": [
    {
     "data": {
      "text/plain": [
       "array([30683.08574698, 23026.04750954, 20473.70143039, 19197.52839082,\n",
       "       18431.82456707, 17921.35535124, 17556.73448279, 17283.26883146,\n",
       "       17070.57332486, 16900.41691959, 16761.19804254, 16645.18231167,\n",
       "       16547.01515478, 16462.87187745, 16389.94770376])"
      ]
     },
     "execution_count": 454,
     "metadata": {},
     "output_type": "execute_result"
    }
   ],
   "source": [
    "predicted_times"
   ]
  },
  {
   "cell_type": "markdown",
   "metadata": {},
   "source": [
    "save the results (number of cores and the predicted times) in a data frame:"
   ]
  },
  {
   "cell_type": "code",
   "execution_count": 455,
   "metadata": {},
   "outputs": [
    {
     "data": {
      "text/html": [
       "<div>\n",
       "<style scoped>\n",
       "    .dataframe tbody tr th:only-of-type {\n",
       "        vertical-align: middle;\n",
       "    }\n",
       "\n",
       "    .dataframe tbody tr th {\n",
       "        vertical-align: top;\n",
       "    }\n",
       "\n",
       "    .dataframe thead th {\n",
       "        text-align: right;\n",
       "    }\n",
       "</style>\n",
       "<table border=\"1\" class=\"dataframe\">\n",
       "  <thead>\n",
       "    <tr style=\"text-align: right;\">\n",
       "      <th></th>\n",
       "      <th>cores</th>\n",
       "      <th>Prediction</th>\n",
       "    </tr>\n",
       "  </thead>\n",
       "  <tbody>\n",
       "    <tr>\n",
       "      <th>0</th>\n",
       "      <td>4</td>\n",
       "      <td>30.683086</td>\n",
       "    </tr>\n",
       "    <tr>\n",
       "      <th>1</th>\n",
       "      <td>8</td>\n",
       "      <td>23.026048</td>\n",
       "    </tr>\n",
       "    <tr>\n",
       "      <th>2</th>\n",
       "      <td>12</td>\n",
       "      <td>20.473701</td>\n",
       "    </tr>\n",
       "    <tr>\n",
       "      <th>3</th>\n",
       "      <td>16</td>\n",
       "      <td>19.197528</td>\n",
       "    </tr>\n",
       "    <tr>\n",
       "      <th>4</th>\n",
       "      <td>20</td>\n",
       "      <td>18.431825</td>\n",
       "    </tr>\n",
       "    <tr>\n",
       "      <th>5</th>\n",
       "      <td>24</td>\n",
       "      <td>17.921355</td>\n",
       "    </tr>\n",
       "    <tr>\n",
       "      <th>6</th>\n",
       "      <td>28</td>\n",
       "      <td>17.556734</td>\n",
       "    </tr>\n",
       "    <tr>\n",
       "      <th>7</th>\n",
       "      <td>32</td>\n",
       "      <td>17.283269</td>\n",
       "    </tr>\n",
       "    <tr>\n",
       "      <th>8</th>\n",
       "      <td>36</td>\n",
       "      <td>17.070573</td>\n",
       "    </tr>\n",
       "    <tr>\n",
       "      <th>9</th>\n",
       "      <td>40</td>\n",
       "      <td>16.900417</td>\n",
       "    </tr>\n",
       "    <tr>\n",
       "      <th>10</th>\n",
       "      <td>44</td>\n",
       "      <td>16.761198</td>\n",
       "    </tr>\n",
       "    <tr>\n",
       "      <th>11</th>\n",
       "      <td>48</td>\n",
       "      <td>16.645182</td>\n",
       "    </tr>\n",
       "    <tr>\n",
       "      <th>12</th>\n",
       "      <td>52</td>\n",
       "      <td>16.547015</td>\n",
       "    </tr>\n",
       "    <tr>\n",
       "      <th>13</th>\n",
       "      <td>56</td>\n",
       "      <td>16.462872</td>\n",
       "    </tr>\n",
       "    <tr>\n",
       "      <th>14</th>\n",
       "      <td>60</td>\n",
       "      <td>16.389948</td>\n",
       "    </tr>\n",
       "  </tbody>\n",
       "</table>\n",
       "</div>"
      ],
      "text/plain": [
       "    cores  Prediction\n",
       "0       4   30.683086\n",
       "1       8   23.026048\n",
       "2      12   20.473701\n",
       "3      16   19.197528\n",
       "4      20   18.431825\n",
       "5      24   17.921355\n",
       "6      28   17.556734\n",
       "7      32   17.283269\n",
       "8      36   17.070573\n",
       "9      40   16.900417\n",
       "10     44   16.761198\n",
       "11     48   16.645182\n",
       "12     52   16.547015\n",
       "13     56   16.462872\n",
       "14     60   16.389948"
      ]
     },
     "execution_count": 455,
     "metadata": {},
     "output_type": "execute_result"
    }
   ],
   "source": [
    "ernest_df=pd.DataFrame(virtual_test_data[0:],columns=[\"cores\",\"t\"])\n",
    "del ernest_df[\"t\"]\n",
    "ernest_df= ernest_df.assign(Prediction=predicted_times/1000)\n",
    "ernest_df"
   ]
  },
  {
   "cell_type": "code",
   "execution_count": 456,
   "metadata": {},
   "outputs": [
    {
     "data": {
      "image/png": "[encoded data removed]",
      "text/plain": [
       "<Figure size 720x504 with 1 Axes>"
      ]
     },
     "metadata": {
      "needs_background": "light"
     },
     "output_type": "display_data"
    }
   ],
   "source": [
    "# plot the result that we have got: \n",
    "import matplotlib.pyplot as mp\n",
    "ernest_df.plot(x=\"cores\", y=[\"Prediction\"],\n",
    "        kind=\"line\", figsize=(10, 7))\n",
    " \n",
    "# display plot\n",
    "mp.show()"
   ]
  },
  {
   "cell_type": "markdown",
   "metadata": {},
   "source": [
    "as we can see from the previous results, at some point we achieve a linear enhancement of the predicted time "
   ]
  },
  {
   "cell_type": "code",
   "execution_count": null,
   "metadata": {},
   "outputs": [],
   "source": []
  },
  {
   "cell_type": "markdown",
   "metadata": {
    "id": "y1HU9Iv-G8UU"
   },
   "source": [
    "testing the model on our own data that extracted from each executor of the cluster"
   ]
  },
  {
   "cell_type": "code",
   "execution_count": 457,
   "metadata": {
    "id": "P_EQjZoAG8UU"
   },
   "outputs": [],
   "source": [
    "training_errors = []\n",
    "predicted = []\n",
    "predicted_arr = []\n",
    "i = 0 \n",
    "for p in test_data_arr :\n",
    "    predicted= predict(p[0], p[1])\n",
    "    training_errors.append(predicted - y_test_arr[i])\n",
    "    i=i+1\n",
    "    predicted_arr.append(predicted)\n",
    "    #print(predicted)\n",
    "    #print(predict(p[0], p[1]))\n",
    "    \n",
    "\n"
   ]
  },
  {
   "cell_type": "code",
   "execution_count": 458,
   "metadata": {
    "id": "H26RaskCG8UV",
    "outputId": "00760fc6-40c4-441e-f64a-58a996d38050"
   },
   "outputs": [
    {
     "name": "stderr",
     "output_type": "stream",
     "text": [
      "/Users/diaaab/opt/anaconda3/lib/python3.7/site-packages/ipykernel_launcher.py:2: SettingWithCopyWarning: \n",
      "A value is trying to be set on a copy of a slice from a DataFrame.\n",
      "Try using .loc[row_indexer,col_indexer] = value instead\n",
      "\n",
      "See the caveats in the documentation: https://pandas.pydata.org/pandas-docs/stable/user_guide/indexing.html#returning-a-view-versus-a-copy\n",
      "  \n",
      "/Users/diaaab/opt/anaconda3/lib/python3.7/site-packages/ipykernel_launcher.py:3: SettingWithCopyWarning: \n",
      "A value is trying to be set on a copy of a slice from a DataFrame.\n",
      "Try using .loc[row_indexer,col_indexer] = value instead\n",
      "\n",
      "See the caveats in the documentation: https://pandas.pydata.org/pandas-docs/stable/user_guide/indexing.html#returning-a-view-versus-a-copy\n",
      "  This is separate from the ipykernel package so we can avoid doing imports until\n",
      "/Users/diaaab/opt/anaconda3/lib/python3.7/site-packages/ipykernel_launcher.py:4: SettingWithCopyWarning: \n",
      "A value is trying to be set on a copy of a slice from a DataFrame.\n",
      "Try using .loc[row_indexer,col_indexer] = value instead\n",
      "\n",
      "See the caveats in the documentation: https://pandas.pydata.org/pandas-docs/stable/user_guide/indexing.html#returning-a-view-versus-a-copy\n",
      "  after removing the cwd from sys.path.\n"
     ]
    },
    {
     "data": {
      "text/html": [
       "<div>\n",
       "<style scoped>\n",
       "    .dataframe tbody tr th:only-of-type {\n",
       "        vertical-align: middle;\n",
       "    }\n",
       "\n",
       "    .dataframe tbody tr th {\n",
       "        vertical-align: top;\n",
       "    }\n",
       "\n",
       "    .dataframe thead th {\n",
       "        text-align: right;\n",
       "    }\n",
       "</style>\n",
       "<table border=\"1\" class=\"dataframe\">\n",
       "  <thead>\n",
       "    <tr style=\"text-align: right;\">\n",
       "      <th></th>\n",
       "      <th>totalCores</th>\n",
       "      <th>totalInputBytes</th>\n",
       "      <th>totalDuration</th>\n",
       "      <th>predicted_time</th>\n",
       "      <th>training_error</th>\n",
       "    </tr>\n",
       "  </thead>\n",
       "  <tbody>\n",
       "    <tr>\n",
       "      <th>153</th>\n",
       "      <td>1</td>\n",
       "      <td>0.034259</td>\n",
       "      <td>14975</td>\n",
       "      <td>17467.612657</td>\n",
       "      <td>2492.612657</td>\n",
       "    </tr>\n",
       "    <tr>\n",
       "      <th>237</th>\n",
       "      <td>1</td>\n",
       "      <td>0.376914</td>\n",
       "      <td>36375</td>\n",
       "      <td>38457.352105</td>\n",
       "      <td>2082.352105</td>\n",
       "    </tr>\n",
       "    <tr>\n",
       "      <th>75</th>\n",
       "      <td>1</td>\n",
       "      <td>0.025982</td>\n",
       "      <td>15723</td>\n",
       "      <td>16960.563399</td>\n",
       "      <td>1237.563399</td>\n",
       "    </tr>\n",
       "    <tr>\n",
       "      <th>443</th>\n",
       "      <td>1</td>\n",
       "      <td>0.000131</td>\n",
       "      <td>5447</td>\n",
       "      <td>15377.038067</td>\n",
       "      <td>9930.038067</td>\n",
       "    </tr>\n",
       "    <tr>\n",
       "      <th>179</th>\n",
       "      <td>1</td>\n",
       "      <td>0.001028</td>\n",
       "      <td>24355</td>\n",
       "      <td>15432.004430</td>\n",
       "      <td>-8922.995570</td>\n",
       "    </tr>\n",
       "    <tr>\n",
       "      <th>36</th>\n",
       "      <td>1</td>\n",
       "      <td>0.027162</td>\n",
       "      <td>11467</td>\n",
       "      <td>17032.822550</td>\n",
       "      <td>5565.822550</td>\n",
       "    </tr>\n",
       "    <tr>\n",
       "      <th>71</th>\n",
       "      <td>1</td>\n",
       "      <td>0.000131</td>\n",
       "      <td>5447</td>\n",
       "      <td>15377.038067</td>\n",
       "      <td>9930.038067</td>\n",
       "    </tr>\n",
       "    <tr>\n",
       "      <th>361</th>\n",
       "      <td>1</td>\n",
       "      <td>0.000131</td>\n",
       "      <td>5763</td>\n",
       "      <td>15377.038067</td>\n",
       "      <td>9614.038067</td>\n",
       "    </tr>\n",
       "    <tr>\n",
       "      <th>130</th>\n",
       "      <td>1</td>\n",
       "      <td>0.001109</td>\n",
       "      <td>6869</td>\n",
       "      <td>15436.945226</td>\n",
       "      <td>8567.945226</td>\n",
       "    </tr>\n",
       "    <tr>\n",
       "      <th>315</th>\n",
       "      <td>1</td>\n",
       "      <td>0.020502</td>\n",
       "      <td>8077</td>\n",
       "      <td>16624.898025</td>\n",
       "      <td>8547.898025</td>\n",
       "    </tr>\n",
       "    <tr>\n",
       "      <th>171</th>\n",
       "      <td>1</td>\n",
       "      <td>0.053844</td>\n",
       "      <td>47868</td>\n",
       "      <td>18667.299848</td>\n",
       "      <td>-29200.700152</td>\n",
       "    </tr>\n",
       "    <tr>\n",
       "      <th>259</th>\n",
       "      <td>1</td>\n",
       "      <td>0.025982</td>\n",
       "      <td>15723</td>\n",
       "      <td>16960.563399</td>\n",
       "      <td>1237.563399</td>\n",
       "    </tr>\n",
       "    <tr>\n",
       "      <th>263</th>\n",
       "      <td>1</td>\n",
       "      <td>0.053844</td>\n",
       "      <td>47868</td>\n",
       "      <td>18667.299848</td>\n",
       "      <td>-29200.700152</td>\n",
       "    </tr>\n",
       "    <tr>\n",
       "      <th>257</th>\n",
       "      <td>1</td>\n",
       "      <td>0.000131</td>\n",
       "      <td>5844</td>\n",
       "      <td>15377.038067</td>\n",
       "      <td>9533.038067</td>\n",
       "    </tr>\n",
       "    <tr>\n",
       "      <th>165</th>\n",
       "      <td>1</td>\n",
       "      <td>0.000131</td>\n",
       "      <td>5844</td>\n",
       "      <td>15377.038067</td>\n",
       "      <td>9533.038067</td>\n",
       "    </tr>\n",
       "    <tr>\n",
       "      <th>407</th>\n",
       "      <td>1</td>\n",
       "      <td>0.020502</td>\n",
       "      <td>8077</td>\n",
       "      <td>16624.898025</td>\n",
       "      <td>8547.898025</td>\n",
       "    </tr>\n",
       "    <tr>\n",
       "      <th>111</th>\n",
       "      <td>2</td>\n",
       "      <td>0.333333</td>\n",
       "      <td>7452</td>\n",
       "      <td>25578.393589</td>\n",
       "      <td>18126.393589</td>\n",
       "    </tr>\n",
       "    <tr>\n",
       "      <th>109</th>\n",
       "      <td>2</td>\n",
       "      <td>0.666667</td>\n",
       "      <td>43185</td>\n",
       "      <td>35787.777905</td>\n",
       "      <td>-7397.222095</td>\n",
       "    </tr>\n",
       "    <tr>\n",
       "      <th>127</th>\n",
       "      <td>1</td>\n",
       "      <td>0.020502</td>\n",
       "      <td>8077</td>\n",
       "      <td>16624.898025</td>\n",
       "      <td>8547.898025</td>\n",
       "    </tr>\n",
       "    <tr>\n",
       "      <th>181</th>\n",
       "      <td>1</td>\n",
       "      <td>0.005555</td>\n",
       "      <td>16102</td>\n",
       "      <td>15709.306643</td>\n",
       "      <td>-392.693357</td>\n",
       "    </tr>\n",
       "    <tr>\n",
       "      <th>433</th>\n",
       "      <td>1</td>\n",
       "      <td>0.034259</td>\n",
       "      <td>14975</td>\n",
       "      <td>17467.612657</td>\n",
       "      <td>2492.612657</td>\n",
       "    </tr>\n",
       "    <tr>\n",
       "      <th>299</th>\n",
       "      <td>2</td>\n",
       "      <td>0.333333</td>\n",
       "      <td>7452</td>\n",
       "      <td>25578.393589</td>\n",
       "      <td>18126.393589</td>\n",
       "    </tr>\n",
       "    <tr>\n",
       "      <th>79</th>\n",
       "      <td>1</td>\n",
       "      <td>0.053844</td>\n",
       "      <td>47868</td>\n",
       "      <td>18667.299848</td>\n",
       "      <td>-29200.700152</td>\n",
       "    </tr>\n",
       "    <tr>\n",
       "      <th>161</th>\n",
       "      <td>1</td>\n",
       "      <td>0.000131</td>\n",
       "      <td>5735</td>\n",
       "      <td>15377.038067</td>\n",
       "      <td>9642.038067</td>\n",
       "    </tr>\n",
       "    <tr>\n",
       "      <th>341</th>\n",
       "      <td>1</td>\n",
       "      <td>0.034259</td>\n",
       "      <td>14975</td>\n",
       "      <td>17467.612657</td>\n",
       "      <td>2492.612657</td>\n",
       "    </tr>\n",
       "    <tr>\n",
       "      <th>456</th>\n",
       "      <td>1</td>\n",
       "      <td>0.040878</td>\n",
       "      <td>36922</td>\n",
       "      <td>17873.066784</td>\n",
       "      <td>-19048.933216</td>\n",
       "    </tr>\n",
       "    <tr>\n",
       "      <th>424</th>\n",
       "      <td>1</td>\n",
       "      <td>0.058991</td>\n",
       "      <td>38832</td>\n",
       "      <td>18982.584436</td>\n",
       "      <td>-19849.415564</td>\n",
       "    </tr>\n",
       "    <tr>\n",
       "      <th>389</th>\n",
       "      <td>2</td>\n",
       "      <td>0.666667</td>\n",
       "      <td>43185</td>\n",
       "      <td>35787.777905</td>\n",
       "      <td>-7397.222095</td>\n",
       "    </tr>\n",
       "    <tr>\n",
       "      <th>332</th>\n",
       "      <td>1</td>\n",
       "      <td>0.058991</td>\n",
       "      <td>38832</td>\n",
       "      <td>18982.584436</td>\n",
       "      <td>-19849.415564</td>\n",
       "    </tr>\n",
       "    <tr>\n",
       "      <th>167</th>\n",
       "      <td>1</td>\n",
       "      <td>0.025982</td>\n",
       "      <td>15723</td>\n",
       "      <td>16960.563399</td>\n",
       "      <td>1237.563399</td>\n",
       "    </tr>\n",
       "    <tr>\n",
       "      <th>95</th>\n",
       "      <td>1</td>\n",
       "      <td>0.000131</td>\n",
       "      <td>4568</td>\n",
       "      <td>15377.038067</td>\n",
       "      <td>10809.038067</td>\n",
       "    </tr>\n",
       "    <tr>\n",
       "      <th>364</th>\n",
       "      <td>1</td>\n",
       "      <td>0.040878</td>\n",
       "      <td>36922</td>\n",
       "      <td>17873.066784</td>\n",
       "      <td>-19048.933216</td>\n",
       "    </tr>\n",
       "    <tr>\n",
       "      <th>355</th>\n",
       "      <td>1</td>\n",
       "      <td>0.025982</td>\n",
       "      <td>15723</td>\n",
       "      <td>16960.563399</td>\n",
       "      <td>1237.563399</td>\n",
       "    </tr>\n",
       "    <tr>\n",
       "      <th>340</th>\n",
       "      <td>1</td>\n",
       "      <td>0.116450</td>\n",
       "      <td>8239</td>\n",
       "      <td>22502.284463</td>\n",
       "      <td>14263.284463</td>\n",
       "    </tr>\n",
       "    <tr>\n",
       "      <th>76</th>\n",
       "      <td>1</td>\n",
       "      <td>0.024187</td>\n",
       "      <td>16244</td>\n",
       "      <td>16850.630673</td>\n",
       "      <td>606.630673</td>\n",
       "    </tr>\n",
       "    <tr>\n",
       "      <th>318</th>\n",
       "      <td>1</td>\n",
       "      <td>0.001109</td>\n",
       "      <td>6869</td>\n",
       "      <td>15436.945226</td>\n",
       "      <td>8567.945226</td>\n",
       "    </tr>\n",
       "    <tr>\n",
       "      <th>465</th>\n",
       "      <td>1</td>\n",
       "      <td>0.008444</td>\n",
       "      <td>24126</td>\n",
       "      <td>15886.248923</td>\n",
       "      <td>-8239.751077</td>\n",
       "    </tr>\n",
       "    <tr>\n",
       "      <th>447</th>\n",
       "      <td>1</td>\n",
       "      <td>0.025982</td>\n",
       "      <td>15723</td>\n",
       "      <td>16960.563399</td>\n",
       "      <td>1237.563399</td>\n",
       "    </tr>\n",
       "    <tr>\n",
       "      <th>245</th>\n",
       "      <td>1</td>\n",
       "      <td>0.034259</td>\n",
       "      <td>14975</td>\n",
       "      <td>17467.612657</td>\n",
       "      <td>2492.612657</td>\n",
       "    </tr>\n",
       "    <tr>\n",
       "      <th>78</th>\n",
       "      <td>1</td>\n",
       "      <td>0.062575</td>\n",
       "      <td>45612</td>\n",
       "      <td>19202.141088</td>\n",
       "      <td>-26409.858912</td>\n",
       "    </tr>\n",
       "    <tr>\n",
       "      <th>35</th>\n",
       "      <td>1</td>\n",
       "      <td>0.020502</td>\n",
       "      <td>8077</td>\n",
       "      <td>16624.898025</td>\n",
       "      <td>8547.898025</td>\n",
       "    </tr>\n",
       "    <tr>\n",
       "      <th>176</th>\n",
       "      <td>1</td>\n",
       "      <td>0.040878</td>\n",
       "      <td>36922</td>\n",
       "      <td>17873.066784</td>\n",
       "      <td>-19048.933216</td>\n",
       "    </tr>\n",
       "    <tr>\n",
       "      <th>152</th>\n",
       "      <td>1</td>\n",
       "      <td>0.116450</td>\n",
       "      <td>8239</td>\n",
       "      <td>22502.284463</td>\n",
       "      <td>14263.284463</td>\n",
       "    </tr>\n",
       "    <tr>\n",
       "      <th>144</th>\n",
       "      <td>1</td>\n",
       "      <td>0.058991</td>\n",
       "      <td>38832</td>\n",
       "      <td>18982.584436</td>\n",
       "      <td>-19849.415564</td>\n",
       "    </tr>\n",
       "  </tbody>\n",
       "</table>\n",
       "</div>"
      ],
      "text/plain": [
       "     totalCores  totalInputBytes  totalDuration  predicted_time  \\\n",
       "153           1         0.034259          14975    17467.612657   \n",
       "237           1         0.376914          36375    38457.352105   \n",
       "75            1         0.025982          15723    16960.563399   \n",
       "443           1         0.000131           5447    15377.038067   \n",
       "179           1         0.001028          24355    15432.004430   \n",
       "36            1         0.027162          11467    17032.822550   \n",
       "71            1         0.000131           5447    15377.038067   \n",
       "361           1         0.000131           5763    15377.038067   \n",
       "130           1         0.001109           6869    15436.945226   \n",
       "315           1         0.020502           8077    16624.898025   \n",
       "171           1         0.053844          47868    18667.299848   \n",
       "259           1         0.025982          15723    16960.563399   \n",
       "263           1         0.053844          47868    18667.299848   \n",
       "257           1         0.000131           5844    15377.038067   \n",
       "165           1         0.000131           5844    15377.038067   \n",
       "407           1         0.020502           8077    16624.898025   \n",
       "111           2         0.333333           7452    25578.393589   \n",
       "109           2         0.666667          43185    35787.777905   \n",
       "127           1         0.020502           8077    16624.898025   \n",
       "181           1         0.005555          16102    15709.306643   \n",
       "433           1         0.034259          14975    17467.612657   \n",
       "299           2         0.333333           7452    25578.393589   \n",
       "79            1         0.053844          47868    18667.299848   \n",
       "161           1         0.000131           5735    15377.038067   \n",
       "341           1         0.034259          14975    17467.612657   \n",
       "456           1         0.040878          36922    17873.066784   \n",
       "424           1         0.058991          38832    18982.584436   \n",
       "389           2         0.666667          43185    35787.777905   \n",
       "332           1         0.058991          38832    18982.584436   \n",
       "167           1         0.025982          15723    16960.563399   \n",
       "95            1         0.000131           4568    15377.038067   \n",
       "364           1         0.040878          36922    17873.066784   \n",
       "355           1         0.025982          15723    16960.563399   \n",
       "340           1         0.116450           8239    22502.284463   \n",
       "76            1         0.024187          16244    16850.630673   \n",
       "318           1         0.001109           6869    15436.945226   \n",
       "465           1         0.008444          24126    15886.248923   \n",
       "447           1         0.025982          15723    16960.563399   \n",
       "245           1         0.034259          14975    17467.612657   \n",
       "78            1         0.062575          45612    19202.141088   \n",
       "35            1         0.020502           8077    16624.898025   \n",
       "176           1         0.040878          36922    17873.066784   \n",
       "152           1         0.116450           8239    22502.284463   \n",
       "144           1         0.058991          38832    18982.584436   \n",
       "\n",
       "     training_error  \n",
       "153     2492.612657  \n",
       "237     2082.352105  \n",
       "75      1237.563399  \n",
       "443     9930.038067  \n",
       "179    -8922.995570  \n",
       "36      5565.822550  \n",
       "71      9930.038067  \n",
       "361     9614.038067  \n",
       "130     8567.945226  \n",
       "315     8547.898025  \n",
       "171   -29200.700152  \n",
       "259     1237.563399  \n",
       "263   -29200.700152  \n",
       "257     9533.038067  \n",
       "165     9533.038067  \n",
       "407     8547.898025  \n",
       "111    18126.393589  \n",
       "109    -7397.222095  \n",
       "127     8547.898025  \n",
       "181     -392.693357  \n",
       "433     2492.612657  \n",
       "299    18126.393589  \n",
       "79    -29200.700152  \n",
       "161     9642.038067  \n",
       "341     2492.612657  \n",
       "456   -19048.933216  \n",
       "424   -19849.415564  \n",
       "389    -7397.222095  \n",
       "332   -19849.415564  \n",
       "167     1237.563399  \n",
       "95     10809.038067  \n",
       "364   -19048.933216  \n",
       "355     1237.563399  \n",
       "340    14263.284463  \n",
       "76       606.630673  \n",
       "318     8567.945226  \n",
       "465    -8239.751077  \n",
       "447     1237.563399  \n",
       "245     2492.612657  \n",
       "78    -26409.858912  \n",
       "35      8547.898025  \n",
       "176   -19048.933216  \n",
       "152    14263.284463  \n",
       "144   -19849.415564  "
      ]
     },
     "execution_count": 458,
     "metadata": {},
     "output_type": "execute_result"
    }
   ],
   "source": [
    "ernest_results_df = X_test\n",
    "ernest_results_df['totalDuration'] = y_test\n",
    "ernest_results_df['predicted_time'] = predicted_arr\n",
    "ernest_results_df['training_error'] = training_errors\n",
    "ernest_results_df"
   ]
  },
  {
   "cell_type": "code",
   "execution_count": 459,
   "metadata": {
    "id": "0CyRY9iWG8UV",
    "outputId": "dea2d808-2e67-43e7-86ab-2eaf28e476dc"
   },
   "outputs": [
    {
     "name": "stdout",
     "output_type": "stream",
     "text": [
      "Mean Absolute Error: 10740.183363152377\n",
      "Mean Squared Error: 182629734.68526015\n",
      "Root Mean Squared Error: 13514.05692918526\n"
     ]
    }
   ],
   "source": [
    "\n",
    "from sklearn import metrics\n",
    "print('Mean Absolute Error:', metrics.mean_absolute_error(y_test, predicted_arr))\n",
    "print('Mean Squared Error:', metrics.mean_squared_error(y_test, predicted_arr))\n",
    "print('Root Mean Squared Error:', np.sqrt(metrics.mean_squared_error(y_test, predicted_arr)))"
   ]
  },
  {
   "cell_type": "code",
   "execution_count": 460,
   "metadata": {},
   "outputs": [
    {
     "data": {
      "image/png": "[encoded data removed]",
      "text/plain": [
       "<Figure size 864x360 with 1 Axes>"
      ]
     },
     "metadata": {
      "needs_background": "light"
     },
     "output_type": "display_data"
    }
   ],
   "source": [
    "import matplotlib.pyplot as mp\n",
    "mp.rcParams[\"figure.figsize\"] = [12, 5]\n",
    "mp.rcParams[\"figure.autolayout\"] = True\n",
    "\n",
    "#df = pd.DataFrame(dict(data=[2, 4, 1, 5, 9, 6, 0, 7]))\n",
    "fig, ax = mp.subplots()\n",
    "Train_Data_test_plot_ernest = ernest_results_df.reset_index()\n",
    "\n",
    "Train_Data_test_plot_ernest['totalDuration'].plot( kind='line', color='black',  ms=10)\n",
    "\n",
    "Train_Data_test_plot_ernest['predicted_time'].plot( kind='line',style=['-'], color='blue', ms=10)\n",
    "\n",
    "ax.legend(labels=['original time ', 'predicted'])\n",
    "mp.show()"
   ]
  },
  {
   "cell_type": "code",
   "execution_count": 461,
   "metadata": {
    "id": "tbf_0lm6G8UV",
    "outputId": "46737504-7615-4751-e2cc-da85afb41280"
   },
   "outputs": [
    {
     "name": "stdout",
     "output_type": "stream",
     "text": [
      "Prediction ratios are 249261.27%, 208235.21%, 123756.34%, 993003.81%, -892299.56%, 556582.26%, 993003.81%, 961403.81%, 856794.52%, 854789.8%, -2920070.02%, 123756.34%, -2920070.02%, 953303.81%, 953303.81%, 854789.8%, 1812639.36%, -739722.21%, 854789.8%, -39269.34%, 249261.27%, 1812639.36%, -2920070.02%, 964203.81%, 249261.27%, -1904893.32%, -1984941.56%, -739722.21%, -1984941.56%, 123756.34%, 1080903.81%, -1904893.32%, 123756.34%, 1426328.45%, 60663.07%, 856794.52%, -823975.11%, 123756.34%, 249261.27%, -2640985.89%, 854789.8%, -1904893.32%, 1426328.45%, -1984941.56%\n"
     ]
    }
   ],
   "source": [
    "training_errors = [str(np.around(i*100, 2)) + \"%\" for i in training_errors]\n",
    "print (\"Prediction ratios are\", \", \".join(training_errors))"
   ]
  },
  {
   "cell_type": "markdown",
   "metadata": {},
   "source": [
    "lets plot the training error "
   ]
  },
  {
   "cell_type": "code",
   "execution_count": 465,
   "metadata": {
    "id": "_ikiNnSNG8UX"
   },
   "outputs": [
    {
     "data": {
      "text/plain": [
       "<matplotlib.axes._subplots.AxesSubplot at 0x7f8ec5b2ad90>"
      ]
     },
     "execution_count": 465,
     "metadata": {},
     "output_type": "execute_result"
    },
    {
     "data": {
      "image/png": "[encoded data removed]",
      "text/plain": [
       "<Figure size 864x360 with 1 Axes>"
      ]
     },
     "metadata": {
      "needs_background": "light"
     },
     "output_type": "display_data"
    }
   ],
   "source": [
    "Train_Data_test_plot_ernest['training_error'].plot(kind='line', color='red', label= 'Training Error' )\n",
    "\n"
   ]
  },
  {
   "cell_type": "code",
   "execution_count": null,
   "metadata": {},
   "outputs": [],
   "source": []
  },
  {
   "cell_type": "code",
   "execution_count": null,
   "metadata": {},
   "outputs": [],
   "source": []
  },
  {
   "cell_type": "code",
   "execution_count": null,
   "metadata": {},
   "outputs": [],
   "source": []
  },
  {
   "cell_type": "markdown",
   "metadata": {
    "id": "2ytKU9plG8UX"
   },
   "source": [
    "## Then we try normal linearRegression model using our orginal dataset (features):"
   ]
  },
  {
   "cell_type": "markdown",
   "metadata": {
    "id": "th1VBf4-G8UX"
   },
   "source": [
    "i will use with the normal linear regression another important extra variables in the train data wich is totalTasks, totalShuffleRead, totalShuffleWrite. but first lets check the correlation matrix of the variables that i have "
   ]
  },
  {
   "cell_type": "markdown",
   "metadata": {
    "id": "LR2NbHG7G8UX"
   },
   "source": [
    "before applying the linear regression model, let's check the correlation between aour variables. "
   ]
  },
  {
   "cell_type": "code",
   "execution_count": 466,
   "metadata": {
    "colab": {
     "base_uri": "https://localhost:8080/",
     "height": 269
    },
    "executionInfo": {
     "elapsed": 236,
     "status": "ok",
     "timestamp": 1664356535017,
     "user": {
      "displayName": "diaa abo",
      "userId": "11943845526597913844"
     },
     "user_tz": -120
    },
    "id": "ZGS7pfNIG8UX",
    "outputId": "ed1fe88a-18d6-49a4-ec5a-adb521f9a5f1"
   },
   "outputs": [
    {
     "data": {
      "text/html": [
       "<style  type=\"text/css\" >\n",
       "    #T_b32a5954_50a3_11ed_9bb5_14c213098690row0_col0 {\n",
       "            background-color:  #b40426;\n",
       "            color:  #f1f1f1;\n",
       "        }    #T_b32a5954_50a3_11ed_9bb5_14c213098690row0_col1 {\n",
       "            background-color:  #b7cff9;\n",
       "            color:  #000000;\n",
       "        }    #T_b32a5954_50a3_11ed_9bb5_14c213098690row0_col2 {\n",
       "            background-color:  #92b4fe;\n",
       "            color:  #000000;\n",
       "        }    #T_b32a5954_50a3_11ed_9bb5_14c213098690row0_col3 {\n",
       "            background-color:  #3b4cc0;\n",
       "            color:  #f1f1f1;\n",
       "        }    #T_b32a5954_50a3_11ed_9bb5_14c213098690row0_col4 {\n",
       "            background-color:  #3b4cc0;\n",
       "            color:  #f1f1f1;\n",
       "        }    #T_b32a5954_50a3_11ed_9bb5_14c213098690row0_col5 {\n",
       "            background-color:  #c12b30;\n",
       "            color:  #f1f1f1;\n",
       "        }    #T_b32a5954_50a3_11ed_9bb5_14c213098690row0_col6 {\n",
       "            background-color:  #b2ccfb;\n",
       "            color:  #000000;\n",
       "        }    #T_b32a5954_50a3_11ed_9bb5_14c213098690row1_col0 {\n",
       "            background-color:  #d2dbe8;\n",
       "            color:  #000000;\n",
       "        }    #T_b32a5954_50a3_11ed_9bb5_14c213098690row1_col1 {\n",
       "            background-color:  #b40426;\n",
       "            color:  #f1f1f1;\n",
       "        }    #T_b32a5954_50a3_11ed_9bb5_14c213098690row1_col2 {\n",
       "            background-color:  #3b4cc0;\n",
       "            color:  #f1f1f1;\n",
       "        }    #T_b32a5954_50a3_11ed_9bb5_14c213098690row1_col3 {\n",
       "            background-color:  #5f7fe8;\n",
       "            color:  #000000;\n",
       "        }    #T_b32a5954_50a3_11ed_9bb5_14c213098690row1_col4 {\n",
       "            background-color:  #6788ee;\n",
       "            color:  #000000;\n",
       "        }    #T_b32a5954_50a3_11ed_9bb5_14c213098690row1_col5 {\n",
       "            background-color:  #afcafc;\n",
       "            color:  #000000;\n",
       "        }    #T_b32a5954_50a3_11ed_9bb5_14c213098690row1_col6 {\n",
       "            background-color:  #cb3e38;\n",
       "            color:  #f1f1f1;\n",
       "        }    #T_b32a5954_50a3_11ed_9bb5_14c213098690row2_col0 {\n",
       "            background-color:  #b3cdfb;\n",
       "            color:  #000000;\n",
       "        }    #T_b32a5954_50a3_11ed_9bb5_14c213098690row2_col1 {\n",
       "            background-color:  #3b4cc0;\n",
       "            color:  #f1f1f1;\n",
       "        }    #T_b32a5954_50a3_11ed_9bb5_14c213098690row2_col2 {\n",
       "            background-color:  #b40426;\n",
       "            color:  #f1f1f1;\n",
       "        }    #T_b32a5954_50a3_11ed_9bb5_14c213098690row2_col3 {\n",
       "            background-color:  #799cf8;\n",
       "            color:  #000000;\n",
       "        }    #T_b32a5954_50a3_11ed_9bb5_14c213098690row2_col4 {\n",
       "            background-color:  #9ebeff;\n",
       "            color:  #000000;\n",
       "        }    #T_b32a5954_50a3_11ed_9bb5_14c213098690row2_col5 {\n",
       "            background-color:  #cdd9ec;\n",
       "            color:  #000000;\n",
       "        }    #T_b32a5954_50a3_11ed_9bb5_14c213098690row2_col6 {\n",
       "            background-color:  #3b4cc0;\n",
       "            color:  #f1f1f1;\n",
       "        }    #T_b32a5954_50a3_11ed_9bb5_14c213098690row3_col0 {\n",
       "            background-color:  #455cce;\n",
       "            color:  #f1f1f1;\n",
       "        }    #T_b32a5954_50a3_11ed_9bb5_14c213098690row3_col1 {\n",
       "            background-color:  #3e51c5;\n",
       "            color:  #f1f1f1;\n",
       "        }    #T_b32a5954_50a3_11ed_9bb5_14c213098690row3_col2 {\n",
       "            background-color:  #5875e1;\n",
       "            color:  #000000;\n",
       "        }    #T_b32a5954_50a3_11ed_9bb5_14c213098690row3_col3 {\n",
       "            background-color:  #b40426;\n",
       "            color:  #f1f1f1;\n",
       "        }    #T_b32a5954_50a3_11ed_9bb5_14c213098690row3_col4 {\n",
       "            background-color:  #d65244;\n",
       "            color:  #000000;\n",
       "        }    #T_b32a5954_50a3_11ed_9bb5_14c213098690row3_col5 {\n",
       "            background-color:  #445acc;\n",
       "            color:  #f1f1f1;\n",
       "        }    #T_b32a5954_50a3_11ed_9bb5_14c213098690row3_col6 {\n",
       "            background-color:  #455cce;\n",
       "            color:  #f1f1f1;\n",
       "        }    #T_b32a5954_50a3_11ed_9bb5_14c213098690row4_col0 {\n",
       "            background-color:  #3b4cc0;\n",
       "            color:  #f1f1f1;\n",
       "        }    #T_b32a5954_50a3_11ed_9bb5_14c213098690row4_col1 {\n",
       "            background-color:  #3c4ec2;\n",
       "            color:  #f1f1f1;\n",
       "        }    #T_b32a5954_50a3_11ed_9bb5_14c213098690row4_col2 {\n",
       "            background-color:  #779af7;\n",
       "            color:  #000000;\n",
       "        }    #T_b32a5954_50a3_11ed_9bb5_14c213098690row4_col3 {\n",
       "            background-color:  #d75445;\n",
       "            color:  #000000;\n",
       "        }    #T_b32a5954_50a3_11ed_9bb5_14c213098690row4_col4 {\n",
       "            background-color:  #b40426;\n",
       "            color:  #f1f1f1;\n",
       "        }    #T_b32a5954_50a3_11ed_9bb5_14c213098690row4_col5 {\n",
       "            background-color:  #3b4cc0;\n",
       "            color:  #f1f1f1;\n",
       "        }    #T_b32a5954_50a3_11ed_9bb5_14c213098690row4_col6 {\n",
       "            background-color:  #455cce;\n",
       "            color:  #f1f1f1;\n",
       "        }    #T_b32a5954_50a3_11ed_9bb5_14c213098690row5_col0 {\n",
       "            background-color:  #c12b30;\n",
       "            color:  #f1f1f1;\n",
       "        }    #T_b32a5954_50a3_11ed_9bb5_14c213098690row5_col1 {\n",
       "            background-color:  #8caffe;\n",
       "            color:  #000000;\n",
       "        }    #T_b32a5954_50a3_11ed_9bb5_14c213098690row5_col2 {\n",
       "            background-color:  #b3cdfb;\n",
       "            color:  #000000;\n",
       "        }    #T_b32a5954_50a3_11ed_9bb5_14c213098690row5_col3 {\n",
       "            background-color:  #3c4ec2;\n",
       "            color:  #f1f1f1;\n",
       "        }    #T_b32a5954_50a3_11ed_9bb5_14c213098690row5_col4 {\n",
       "            background-color:  #3c4ec2;\n",
       "            color:  #f1f1f1;\n",
       "        }    #T_b32a5954_50a3_11ed_9bb5_14c213098690row5_col5 {\n",
       "            background-color:  #b40426;\n",
       "            color:  #f1f1f1;\n",
       "        }    #T_b32a5954_50a3_11ed_9bb5_14c213098690row5_col6 {\n",
       "            background-color:  #86a9fc;\n",
       "            color:  #000000;\n",
       "        }    #T_b32a5954_50a3_11ed_9bb5_14c213098690row6_col0 {\n",
       "            background-color:  #d6dce4;\n",
       "            color:  #000000;\n",
       "        }    #T_b32a5954_50a3_11ed_9bb5_14c213098690row6_col1 {\n",
       "            background-color:  #ca3b37;\n",
       "            color:  #f1f1f1;\n",
       "        }    #T_b32a5954_50a3_11ed_9bb5_14c213098690row6_col2 {\n",
       "            background-color:  #4961d2;\n",
       "            color:  #f1f1f1;\n",
       "        }    #T_b32a5954_50a3_11ed_9bb5_14c213098690row6_col3 {\n",
       "            background-color:  #7597f6;\n",
       "            color:  #000000;\n",
       "        }    #T_b32a5954_50a3_11ed_9bb5_14c213098690row6_col4 {\n",
       "            background-color:  #7ea1fa;\n",
       "            color:  #000000;\n",
       "        }    #T_b32a5954_50a3_11ed_9bb5_14c213098690row6_col5 {\n",
       "            background-color:  #b5cdfa;\n",
       "            color:  #000000;\n",
       "        }    #T_b32a5954_50a3_11ed_9bb5_14c213098690row6_col6 {\n",
       "            background-color:  #b40426;\n",
       "            color:  #f1f1f1;\n",
       "        }</style><table id=\"T_b32a5954_50a3_11ed_9bb5_14c213098690\" ><thead>    <tr>        <th class=\"blank level0\" ></th>        <th class=\"col_heading level0 col0\" >totalCores</th>        <th class=\"col_heading level0 col1\" >totalTasks</th>        <th class=\"col_heading level0 col2\" >totalInputBytes</th>        <th class=\"col_heading level0 col3\" >totalShuffleRead</th>        <th class=\"col_heading level0 col4\" >totalShuffleWrite</th>        <th class=\"col_heading level0 col5\" >maxMemory</th>        <th class=\"col_heading level0 col6\" >totalDuration</th>    </tr></thead><tbody>\n",
       "                <tr>\n",
       "                        <th id=\"T_b32a5954_50a3_11ed_9bb5_14c213098690level0_row0\" class=\"row_heading level0 row0\" >totalCores</th>\n",
       "                        <td id=\"T_b32a5954_50a3_11ed_9bb5_14c213098690row0_col0\" class=\"data row0 col0\" >1.000000</td>\n",
       "                        <td id=\"T_b32a5954_50a3_11ed_9bb5_14c213098690row0_col1\" class=\"data row0 col1\" >0.332074</td>\n",
       "                        <td id=\"T_b32a5954_50a3_11ed_9bb5_14c213098690row0_col2\" class=\"data row0 col2\" >0.214159</td>\n",
       "                        <td id=\"T_b32a5954_50a3_11ed_9bb5_14c213098690row0_col3\" class=\"data row0 col3\" >-0.190419</td>\n",
       "                        <td id=\"T_b32a5954_50a3_11ed_9bb5_14c213098690row0_col4\" class=\"data row0 col4\" >-0.233803</td>\n",
       "                        <td id=\"T_b32a5954_50a3_11ed_9bb5_14c213098690row0_col5\" class=\"data row0 col5\" >0.953041</td>\n",
       "                        <td id=\"T_b32a5954_50a3_11ed_9bb5_14c213098690row0_col6\" class=\"data row0 col6\" >0.349595</td>\n",
       "            </tr>\n",
       "            <tr>\n",
       "                        <th id=\"T_b32a5954_50a3_11ed_9bb5_14c213098690level0_row1\" class=\"row_heading level0 row1\" >totalTasks</th>\n",
       "                        <td id=\"T_b32a5954_50a3_11ed_9bb5_14c213098690row1_col0\" class=\"data row1 col0\" >0.332074</td>\n",
       "                        <td id=\"T_b32a5954_50a3_11ed_9bb5_14c213098690row1_col1\" class=\"data row1 col1\" >1.000000</td>\n",
       "                        <td id=\"T_b32a5954_50a3_11ed_9bb5_14c213098690row1_col2\" class=\"data row1 col2\" >-0.064651</td>\n",
       "                        <td id=\"T_b32a5954_50a3_11ed_9bb5_14c213098690row1_col3\" class=\"data row1 col3\" >-0.048801</td>\n",
       "                        <td id=\"T_b32a5954_50a3_11ed_9bb5_14c213098690row1_col4\" class=\"data row1 col4\" >-0.060298</td>\n",
       "                        <td id=\"T_b32a5954_50a3_11ed_9bb5_14c213098690row1_col5\" class=\"data row1 col5\" >0.201013</td>\n",
       "                        <td id=\"T_b32a5954_50a3_11ed_9bb5_14c213098690row1_col6\" class=\"data row1 col6\" >0.935904</td>\n",
       "            </tr>\n",
       "            <tr>\n",
       "                        <th id=\"T_b32a5954_50a3_11ed_9bb5_14c213098690level0_row2\" class=\"row_heading level0 row2\" >totalInputBytes</th>\n",
       "                        <td id=\"T_b32a5954_50a3_11ed_9bb5_14c213098690row2_col0\" class=\"data row2 col0\" >0.214159</td>\n",
       "                        <td id=\"T_b32a5954_50a3_11ed_9bb5_14c213098690row2_col1\" class=\"data row2 col1\" >-0.064651</td>\n",
       "                        <td id=\"T_b32a5954_50a3_11ed_9bb5_14c213098690row2_col2\" class=\"data row2 col2\" >1.000000</td>\n",
       "                        <td id=\"T_b32a5954_50a3_11ed_9bb5_14c213098690row2_col3\" class=\"data row2 col3\" >0.037448</td>\n",
       "                        <td id=\"T_b32a5954_50a3_11ed_9bb5_14c213098690row2_col4\" class=\"data row2 col4\" >0.136538</td>\n",
       "                        <td id=\"T_b32a5954_50a3_11ed_9bb5_14c213098690row2_col5\" class=\"data row2 col5\" >0.319344</td>\n",
       "                        <td id=\"T_b32a5954_50a3_11ed_9bb5_14c213098690row2_col6\" class=\"data row2 col6\" >-0.012781</td>\n",
       "            </tr>\n",
       "            <tr>\n",
       "                        <th id=\"T_b32a5954_50a3_11ed_9bb5_14c213098690level0_row3\" class=\"row_heading level0 row3\" >totalShuffleRead</th>\n",
       "                        <td id=\"T_b32a5954_50a3_11ed_9bb5_14c213098690row3_col0\" class=\"data row3 col0\" >-0.190419</td>\n",
       "                        <td id=\"T_b32a5954_50a3_11ed_9bb5_14c213098690row3_col1\" class=\"data row3 col1\" >-0.048801</td>\n",
       "                        <td id=\"T_b32a5954_50a3_11ed_9bb5_14c213098690row3_col2\" class=\"data row3 col2\" >0.037448</td>\n",
       "                        <td id=\"T_b32a5954_50a3_11ed_9bb5_14c213098690row3_col3\" class=\"data row3 col3\" >1.000000</td>\n",
       "                        <td id=\"T_b32a5954_50a3_11ed_9bb5_14c213098690row3_col4\" class=\"data row3 col4\" >0.878631</td>\n",
       "                        <td id=\"T_b32a5954_50a3_11ed_9bb5_14c213098690row3_col5\" class=\"data row3 col5\" >-0.183412</td>\n",
       "                        <td id=\"T_b32a5954_50a3_11ed_9bb5_14c213098690row3_col6\" class=\"data row3 col6\" >0.023747</td>\n",
       "            </tr>\n",
       "            <tr>\n",
       "                        <th id=\"T_b32a5954_50a3_11ed_9bb5_14c213098690level0_row4\" class=\"row_heading level0 row4\" >totalShuffleWrite</th>\n",
       "                        <td id=\"T_b32a5954_50a3_11ed_9bb5_14c213098690row4_col0\" class=\"data row4 col0\" >-0.233803</td>\n",
       "                        <td id=\"T_b32a5954_50a3_11ed_9bb5_14c213098690row4_col1\" class=\"data row4 col1\" >-0.060298</td>\n",
       "                        <td id=\"T_b32a5954_50a3_11ed_9bb5_14c213098690row4_col2\" class=\"data row4 col2\" >0.136538</td>\n",
       "                        <td id=\"T_b32a5954_50a3_11ed_9bb5_14c213098690row4_col3\" class=\"data row4 col3\" >0.878631</td>\n",
       "                        <td id=\"T_b32a5954_50a3_11ed_9bb5_14c213098690row4_col4\" class=\"data row4 col4\" >1.000000</td>\n",
       "                        <td id=\"T_b32a5954_50a3_11ed_9bb5_14c213098690row4_col5\" class=\"data row4 col5\" >-0.224982</td>\n",
       "                        <td id=\"T_b32a5954_50a3_11ed_9bb5_14c213098690row4_col6\" class=\"data row4 col6\" >0.024441</td>\n",
       "            </tr>\n",
       "            <tr>\n",
       "                        <th id=\"T_b32a5954_50a3_11ed_9bb5_14c213098690level0_row5\" class=\"row_heading level0 row5\" >maxMemory</th>\n",
       "                        <td id=\"T_b32a5954_50a3_11ed_9bb5_14c213098690row5_col0\" class=\"data row5 col0\" >0.953041</td>\n",
       "                        <td id=\"T_b32a5954_50a3_11ed_9bb5_14c213098690row5_col1\" class=\"data row5 col1\" >0.201013</td>\n",
       "                        <td id=\"T_b32a5954_50a3_11ed_9bb5_14c213098690row5_col2\" class=\"data row5 col2\" >0.319344</td>\n",
       "                        <td id=\"T_b32a5954_50a3_11ed_9bb5_14c213098690row5_col3\" class=\"data row5 col3\" >-0.183412</td>\n",
       "                        <td id=\"T_b32a5954_50a3_11ed_9bb5_14c213098690row5_col4\" class=\"data row5 col4\" >-0.224982</td>\n",
       "                        <td id=\"T_b32a5954_50a3_11ed_9bb5_14c213098690row5_col5\" class=\"data row5 col5\" >1.000000</td>\n",
       "                        <td id=\"T_b32a5954_50a3_11ed_9bb5_14c213098690row5_col6\" class=\"data row5 col6\" >0.221920</td>\n",
       "            </tr>\n",
       "            <tr>\n",
       "                        <th id=\"T_b32a5954_50a3_11ed_9bb5_14c213098690level0_row6\" class=\"row_heading level0 row6\" >totalDuration</th>\n",
       "                        <td id=\"T_b32a5954_50a3_11ed_9bb5_14c213098690row6_col0\" class=\"data row6 col0\" >0.349595</td>\n",
       "                        <td id=\"T_b32a5954_50a3_11ed_9bb5_14c213098690row6_col1\" class=\"data row6 col1\" >0.935904</td>\n",
       "                        <td id=\"T_b32a5954_50a3_11ed_9bb5_14c213098690row6_col2\" class=\"data row6 col2\" >-0.012781</td>\n",
       "                        <td id=\"T_b32a5954_50a3_11ed_9bb5_14c213098690row6_col3\" class=\"data row6 col3\" >0.023747</td>\n",
       "                        <td id=\"T_b32a5954_50a3_11ed_9bb5_14c213098690row6_col4\" class=\"data row6 col4\" >0.024441</td>\n",
       "                        <td id=\"T_b32a5954_50a3_11ed_9bb5_14c213098690row6_col5\" class=\"data row6 col5\" >0.221920</td>\n",
       "                        <td id=\"T_b32a5954_50a3_11ed_9bb5_14c213098690row6_col6\" class=\"data row6 col6\" >1.000000</td>\n",
       "            </tr>\n",
       "    </tbody></table>"
      ],
      "text/plain": [
       "<pandas.io.formats.style.Styler at 0x7f8ec2f11f10>"
      ]
     },
     "execution_count": 466,
     "metadata": {},
     "output_type": "execute_result"
    }
   ],
   "source": [
    "import pandas as pd\n",
    "import numpy as np\n",
    "corr = tpot_max_scaled.corr()\n",
    "corr.style.background_gradient(cmap='coolwarm')"
   ]
  },
  {
   "cell_type": "code",
   "execution_count": 467,
   "metadata": {
    "colab": {
     "base_uri": "https://localhost:8080/",
     "height": 424
    },
    "executionInfo": {
     "elapsed": 239,
     "status": "ok",
     "timestamp": 1664356536872,
     "user": {
      "displayName": "diaa abo",
      "userId": "11943845526597913844"
     },
     "user_tz": -120
    },
    "id": "4OUikwn6G8UY",
    "outputId": "e7d61d58-8800-4671-889d-b41d67c2e549"
   },
   "outputs": [
    {
     "data": {
      "text/html": [
       "<div>\n",
       "<style scoped>\n",
       "    .dataframe tbody tr th:only-of-type {\n",
       "        vertical-align: middle;\n",
       "    }\n",
       "\n",
       "    .dataframe tbody tr th {\n",
       "        vertical-align: top;\n",
       "    }\n",
       "\n",
       "    .dataframe thead th {\n",
       "        text-align: right;\n",
       "    }\n",
       "</style>\n",
       "<table border=\"1\" class=\"dataframe\">\n",
       "  <thead>\n",
       "    <tr style=\"text-align: right;\">\n",
       "      <th></th>\n",
       "      <th>totalCores</th>\n",
       "      <th>totalTasks</th>\n",
       "      <th>totalInputBytes</th>\n",
       "      <th>totalShuffleRead</th>\n",
       "      <th>totalShuffleWrite</th>\n",
       "      <th>totalDuration</th>\n",
       "    </tr>\n",
       "  </thead>\n",
       "  <tbody>\n",
       "    <tr>\n",
       "      <th>1</th>\n",
       "      <td>2</td>\n",
       "      <td>0.008066</td>\n",
       "      <td>0.000000</td>\n",
       "      <td>0.012550</td>\n",
       "      <td>0.011084</td>\n",
       "      <td>21757</td>\n",
       "    </tr>\n",
       "    <tr>\n",
       "      <th>2</th>\n",
       "      <td>2</td>\n",
       "      <td>0.004634</td>\n",
       "      <td>0.000000</td>\n",
       "      <td>0.004524</td>\n",
       "      <td>0.010772</td>\n",
       "      <td>20817</td>\n",
       "    </tr>\n",
       "    <tr>\n",
       "      <th>3</th>\n",
       "      <td>2</td>\n",
       "      <td>0.005092</td>\n",
       "      <td>0.000000</td>\n",
       "      <td>0.007714</td>\n",
       "      <td>0.010896</td>\n",
       "      <td>20800</td>\n",
       "    </tr>\n",
       "    <tr>\n",
       "      <th>5</th>\n",
       "      <td>2</td>\n",
       "      <td>0.008066</td>\n",
       "      <td>0.000000</td>\n",
       "      <td>0.012550</td>\n",
       "      <td>0.011084</td>\n",
       "      <td>21757</td>\n",
       "    </tr>\n",
       "    <tr>\n",
       "      <th>6</th>\n",
       "      <td>2</td>\n",
       "      <td>0.004634</td>\n",
       "      <td>0.000000</td>\n",
       "      <td>0.004524</td>\n",
       "      <td>0.010772</td>\n",
       "      <td>20817</td>\n",
       "    </tr>\n",
       "    <tr>\n",
       "      <th>...</th>\n",
       "      <td>...</td>\n",
       "      <td>...</td>\n",
       "      <td>...</td>\n",
       "      <td>...</td>\n",
       "      <td>...</td>\n",
       "      <td>...</td>\n",
       "    </tr>\n",
       "    <tr>\n",
       "      <th>461</th>\n",
       "      <td>1</td>\n",
       "      <td>0.001316</td>\n",
       "      <td>0.005555</td>\n",
       "      <td>0.000086</td>\n",
       "      <td>0.000094</td>\n",
       "      <td>16102</td>\n",
       "    </tr>\n",
       "    <tr>\n",
       "      <th>462</th>\n",
       "      <td>1</td>\n",
       "      <td>0.001201</td>\n",
       "      <td>0.032732</td>\n",
       "      <td>0.000012</td>\n",
       "      <td>0.000036</td>\n",
       "      <td>20120</td>\n",
       "    </tr>\n",
       "    <tr>\n",
       "      <th>464</th>\n",
       "      <td>1</td>\n",
       "      <td>0.001545</td>\n",
       "      <td>0.000000</td>\n",
       "      <td>0.006025</td>\n",
       "      <td>0.019879</td>\n",
       "      <td>21108</td>\n",
       "    </tr>\n",
       "    <tr>\n",
       "      <th>465</th>\n",
       "      <td>1</td>\n",
       "      <td>0.004863</td>\n",
       "      <td>0.008444</td>\n",
       "      <td>0.053365</td>\n",
       "      <td>0.058601</td>\n",
       "      <td>24126</td>\n",
       "    </tr>\n",
       "    <tr>\n",
       "      <th>467</th>\n",
       "      <td>1</td>\n",
       "      <td>0.000973</td>\n",
       "      <td>0.000131</td>\n",
       "      <td>0.000000</td>\n",
       "      <td>0.000000</td>\n",
       "      <td>4568</td>\n",
       "    </tr>\n",
       "  </tbody>\n",
       "</table>\n",
       "<p>241 rows × 6 columns</p>\n",
       "</div>"
      ],
      "text/plain": [
       "     totalCores  totalTasks  totalInputBytes  totalShuffleRead  \\\n",
       "1             2    0.008066         0.000000          0.012550   \n",
       "2             2    0.004634         0.000000          0.004524   \n",
       "3             2    0.005092         0.000000          0.007714   \n",
       "5             2    0.008066         0.000000          0.012550   \n",
       "6             2    0.004634         0.000000          0.004524   \n",
       "..          ...         ...              ...               ...   \n",
       "461           1    0.001316         0.005555          0.000086   \n",
       "462           1    0.001201         0.032732          0.000012   \n",
       "464           1    0.001545         0.000000          0.006025   \n",
       "465           1    0.004863         0.008444          0.053365   \n",
       "467           1    0.000973         0.000131          0.000000   \n",
       "\n",
       "     totalShuffleWrite  totalDuration  \n",
       "1             0.011084          21757  \n",
       "2             0.010772          20817  \n",
       "3             0.010896          20800  \n",
       "5             0.011084          21757  \n",
       "6             0.010772          20817  \n",
       "..                 ...            ...  \n",
       "461           0.000094          16102  \n",
       "462           0.000036          20120  \n",
       "464           0.019879          21108  \n",
       "465           0.058601          24126  \n",
       "467           0.000000           4568  \n",
       "\n",
       "[241 rows x 6 columns]"
      ]
     },
     "execution_count": 467,
     "metadata": {},
     "output_type": "execute_result"
    }
   ],
   "source": [
    "linear_df = tpot_max_scaled.drop(['maxMemory'],axis='columns')\n",
    "linear_df"
   ]
  },
  {
   "cell_type": "code",
   "execution_count": 468,
   "metadata": {
    "colab": {
     "base_uri": "https://localhost:8080/",
     "height": 175
    },
    "executionInfo": {
     "elapsed": 522,
     "status": "ok",
     "timestamp": 1664356538569,
     "user": {
      "displayName": "diaa abo",
      "userId": "11943845526597913844"
     },
     "user_tz": -120
    },
    "id": "7Zj-aYSwG8UY",
    "outputId": "12ef73b4-872a-4548-deb4-ac84652e1b0a"
   },
   "outputs": [
    {
     "data": {
      "text/html": [
       "<style  type=\"text/css\" >\n",
       "    #T_b5c2ae78_50a3_11ed_9bb5_14c213098690row0_col0 {\n",
       "            background-color:  #b40426;\n",
       "            color:  #f1f1f1;\n",
       "        }    #T_b5c2ae78_50a3_11ed_9bb5_14c213098690row0_col1 {\n",
       "            background-color:  #b7cff9;\n",
       "            color:  #000000;\n",
       "        }    #T_b5c2ae78_50a3_11ed_9bb5_14c213098690row0_col2 {\n",
       "            background-color:  #92b4fe;\n",
       "            color:  #000000;\n",
       "        }    #T_b5c2ae78_50a3_11ed_9bb5_14c213098690row0_col3 {\n",
       "            background-color:  #3b4cc0;\n",
       "            color:  #f1f1f1;\n",
       "        }    #T_b5c2ae78_50a3_11ed_9bb5_14c213098690row0_col4 {\n",
       "            background-color:  #3b4cc0;\n",
       "            color:  #f1f1f1;\n",
       "        }    #T_b5c2ae78_50a3_11ed_9bb5_14c213098690row0_col5 {\n",
       "            background-color:  #b2ccfb;\n",
       "            color:  #000000;\n",
       "        }    #T_b5c2ae78_50a3_11ed_9bb5_14c213098690row1_col0 {\n",
       "            background-color:  #d2dbe8;\n",
       "            color:  #000000;\n",
       "        }    #T_b5c2ae78_50a3_11ed_9bb5_14c213098690row1_col1 {\n",
       "            background-color:  #b40426;\n",
       "            color:  #f1f1f1;\n",
       "        }    #T_b5c2ae78_50a3_11ed_9bb5_14c213098690row1_col2 {\n",
       "            background-color:  #3b4cc0;\n",
       "            color:  #f1f1f1;\n",
       "        }    #T_b5c2ae78_50a3_11ed_9bb5_14c213098690row1_col3 {\n",
       "            background-color:  #5f7fe8;\n",
       "            color:  #000000;\n",
       "        }    #T_b5c2ae78_50a3_11ed_9bb5_14c213098690row1_col4 {\n",
       "            background-color:  #6788ee;\n",
       "            color:  #000000;\n",
       "        }    #T_b5c2ae78_50a3_11ed_9bb5_14c213098690row1_col5 {\n",
       "            background-color:  #cb3e38;\n",
       "            color:  #f1f1f1;\n",
       "        }    #T_b5c2ae78_50a3_11ed_9bb5_14c213098690row2_col0 {\n",
       "            background-color:  #b3cdfb;\n",
       "            color:  #000000;\n",
       "        }    #T_b5c2ae78_50a3_11ed_9bb5_14c213098690row2_col1 {\n",
       "            background-color:  #3b4cc0;\n",
       "            color:  #f1f1f1;\n",
       "        }    #T_b5c2ae78_50a3_11ed_9bb5_14c213098690row2_col2 {\n",
       "            background-color:  #b40426;\n",
       "            color:  #f1f1f1;\n",
       "        }    #T_b5c2ae78_50a3_11ed_9bb5_14c213098690row2_col3 {\n",
       "            background-color:  #799cf8;\n",
       "            color:  #000000;\n",
       "        }    #T_b5c2ae78_50a3_11ed_9bb5_14c213098690row2_col4 {\n",
       "            background-color:  #9ebeff;\n",
       "            color:  #000000;\n",
       "        }    #T_b5c2ae78_50a3_11ed_9bb5_14c213098690row2_col5 {\n",
       "            background-color:  #3b4cc0;\n",
       "            color:  #f1f1f1;\n",
       "        }    #T_b5c2ae78_50a3_11ed_9bb5_14c213098690row3_col0 {\n",
       "            background-color:  #455cce;\n",
       "            color:  #f1f1f1;\n",
       "        }    #T_b5c2ae78_50a3_11ed_9bb5_14c213098690row3_col1 {\n",
       "            background-color:  #3e51c5;\n",
       "            color:  #f1f1f1;\n",
       "        }    #T_b5c2ae78_50a3_11ed_9bb5_14c213098690row3_col2 {\n",
       "            background-color:  #5875e1;\n",
       "            color:  #000000;\n",
       "        }    #T_b5c2ae78_50a3_11ed_9bb5_14c213098690row3_col3 {\n",
       "            background-color:  #b40426;\n",
       "            color:  #f1f1f1;\n",
       "        }    #T_b5c2ae78_50a3_11ed_9bb5_14c213098690row3_col4 {\n",
       "            background-color:  #d65244;\n",
       "            color:  #000000;\n",
       "        }    #T_b5c2ae78_50a3_11ed_9bb5_14c213098690row3_col5 {\n",
       "            background-color:  #455cce;\n",
       "            color:  #f1f1f1;\n",
       "        }    #T_b5c2ae78_50a3_11ed_9bb5_14c213098690row4_col0 {\n",
       "            background-color:  #3b4cc0;\n",
       "            color:  #f1f1f1;\n",
       "        }    #T_b5c2ae78_50a3_11ed_9bb5_14c213098690row4_col1 {\n",
       "            background-color:  #3c4ec2;\n",
       "            color:  #f1f1f1;\n",
       "        }    #T_b5c2ae78_50a3_11ed_9bb5_14c213098690row4_col2 {\n",
       "            background-color:  #779af7;\n",
       "            color:  #000000;\n",
       "        }    #T_b5c2ae78_50a3_11ed_9bb5_14c213098690row4_col3 {\n",
       "            background-color:  #d75445;\n",
       "            color:  #000000;\n",
       "        }    #T_b5c2ae78_50a3_11ed_9bb5_14c213098690row4_col4 {\n",
       "            background-color:  #b40426;\n",
       "            color:  #f1f1f1;\n",
       "        }    #T_b5c2ae78_50a3_11ed_9bb5_14c213098690row4_col5 {\n",
       "            background-color:  #455cce;\n",
       "            color:  #f1f1f1;\n",
       "        }    #T_b5c2ae78_50a3_11ed_9bb5_14c213098690row5_col0 {\n",
       "            background-color:  #d6dce4;\n",
       "            color:  #000000;\n",
       "        }    #T_b5c2ae78_50a3_11ed_9bb5_14c213098690row5_col1 {\n",
       "            background-color:  #ca3b37;\n",
       "            color:  #f1f1f1;\n",
       "        }    #T_b5c2ae78_50a3_11ed_9bb5_14c213098690row5_col2 {\n",
       "            background-color:  #4961d2;\n",
       "            color:  #f1f1f1;\n",
       "        }    #T_b5c2ae78_50a3_11ed_9bb5_14c213098690row5_col3 {\n",
       "            background-color:  #7597f6;\n",
       "            color:  #000000;\n",
       "        }    #T_b5c2ae78_50a3_11ed_9bb5_14c213098690row5_col4 {\n",
       "            background-color:  #7ea1fa;\n",
       "            color:  #000000;\n",
       "        }    #T_b5c2ae78_50a3_11ed_9bb5_14c213098690row5_col5 {\n",
       "            background-color:  #b40426;\n",
       "            color:  #f1f1f1;\n",
       "        }</style><table id=\"T_b5c2ae78_50a3_11ed_9bb5_14c213098690\" ><thead>    <tr>        <th class=\"blank level0\" ></th>        <th class=\"col_heading level0 col0\" >totalCores</th>        <th class=\"col_heading level0 col1\" >totalTasks</th>        <th class=\"col_heading level0 col2\" >totalInputBytes</th>        <th class=\"col_heading level0 col3\" >totalShuffleRead</th>        <th class=\"col_heading level0 col4\" >totalShuffleWrite</th>        <th class=\"col_heading level0 col5\" >totalDuration</th>    </tr></thead><tbody>\n",
       "                <tr>\n",
       "                        <th id=\"T_b5c2ae78_50a3_11ed_9bb5_14c213098690level0_row0\" class=\"row_heading level0 row0\" >totalCores</th>\n",
       "                        <td id=\"T_b5c2ae78_50a3_11ed_9bb5_14c213098690row0_col0\" class=\"data row0 col0\" >1.000000</td>\n",
       "                        <td id=\"T_b5c2ae78_50a3_11ed_9bb5_14c213098690row0_col1\" class=\"data row0 col1\" >0.332074</td>\n",
       "                        <td id=\"T_b5c2ae78_50a3_11ed_9bb5_14c213098690row0_col2\" class=\"data row0 col2\" >0.214159</td>\n",
       "                        <td id=\"T_b5c2ae78_50a3_11ed_9bb5_14c213098690row0_col3\" class=\"data row0 col3\" >-0.190419</td>\n",
       "                        <td id=\"T_b5c2ae78_50a3_11ed_9bb5_14c213098690row0_col4\" class=\"data row0 col4\" >-0.233803</td>\n",
       "                        <td id=\"T_b5c2ae78_50a3_11ed_9bb5_14c213098690row0_col5\" class=\"data row0 col5\" >0.349595</td>\n",
       "            </tr>\n",
       "            <tr>\n",
       "                        <th id=\"T_b5c2ae78_50a3_11ed_9bb5_14c213098690level0_row1\" class=\"row_heading level0 row1\" >totalTasks</th>\n",
       "                        <td id=\"T_b5c2ae78_50a3_11ed_9bb5_14c213098690row1_col0\" class=\"data row1 col0\" >0.332074</td>\n",
       "                        <td id=\"T_b5c2ae78_50a3_11ed_9bb5_14c213098690row1_col1\" class=\"data row1 col1\" >1.000000</td>\n",
       "                        <td id=\"T_b5c2ae78_50a3_11ed_9bb5_14c213098690row1_col2\" class=\"data row1 col2\" >-0.064651</td>\n",
       "                        <td id=\"T_b5c2ae78_50a3_11ed_9bb5_14c213098690row1_col3\" class=\"data row1 col3\" >-0.048801</td>\n",
       "                        <td id=\"T_b5c2ae78_50a3_11ed_9bb5_14c213098690row1_col4\" class=\"data row1 col4\" >-0.060298</td>\n",
       "                        <td id=\"T_b5c2ae78_50a3_11ed_9bb5_14c213098690row1_col5\" class=\"data row1 col5\" >0.935904</td>\n",
       "            </tr>\n",
       "            <tr>\n",
       "                        <th id=\"T_b5c2ae78_50a3_11ed_9bb5_14c213098690level0_row2\" class=\"row_heading level0 row2\" >totalInputBytes</th>\n",
       "                        <td id=\"T_b5c2ae78_50a3_11ed_9bb5_14c213098690row2_col0\" class=\"data row2 col0\" >0.214159</td>\n",
       "                        <td id=\"T_b5c2ae78_50a3_11ed_9bb5_14c213098690row2_col1\" class=\"data row2 col1\" >-0.064651</td>\n",
       "                        <td id=\"T_b5c2ae78_50a3_11ed_9bb5_14c213098690row2_col2\" class=\"data row2 col2\" >1.000000</td>\n",
       "                        <td id=\"T_b5c2ae78_50a3_11ed_9bb5_14c213098690row2_col3\" class=\"data row2 col3\" >0.037448</td>\n",
       "                        <td id=\"T_b5c2ae78_50a3_11ed_9bb5_14c213098690row2_col4\" class=\"data row2 col4\" >0.136538</td>\n",
       "                        <td id=\"T_b5c2ae78_50a3_11ed_9bb5_14c213098690row2_col5\" class=\"data row2 col5\" >-0.012781</td>\n",
       "            </tr>\n",
       "            <tr>\n",
       "                        <th id=\"T_b5c2ae78_50a3_11ed_9bb5_14c213098690level0_row3\" class=\"row_heading level0 row3\" >totalShuffleRead</th>\n",
       "                        <td id=\"T_b5c2ae78_50a3_11ed_9bb5_14c213098690row3_col0\" class=\"data row3 col0\" >-0.190419</td>\n",
       "                        <td id=\"T_b5c2ae78_50a3_11ed_9bb5_14c213098690row3_col1\" class=\"data row3 col1\" >-0.048801</td>\n",
       "                        <td id=\"T_b5c2ae78_50a3_11ed_9bb5_14c213098690row3_col2\" class=\"data row3 col2\" >0.037448</td>\n",
       "                        <td id=\"T_b5c2ae78_50a3_11ed_9bb5_14c213098690row3_col3\" class=\"data row3 col3\" >1.000000</td>\n",
       "                        <td id=\"T_b5c2ae78_50a3_11ed_9bb5_14c213098690row3_col4\" class=\"data row3 col4\" >0.878631</td>\n",
       "                        <td id=\"T_b5c2ae78_50a3_11ed_9bb5_14c213098690row3_col5\" class=\"data row3 col5\" >0.023747</td>\n",
       "            </tr>\n",
       "            <tr>\n",
       "                        <th id=\"T_b5c2ae78_50a3_11ed_9bb5_14c213098690level0_row4\" class=\"row_heading level0 row4\" >totalShuffleWrite</th>\n",
       "                        <td id=\"T_b5c2ae78_50a3_11ed_9bb5_14c213098690row4_col0\" class=\"data row4 col0\" >-0.233803</td>\n",
       "                        <td id=\"T_b5c2ae78_50a3_11ed_9bb5_14c213098690row4_col1\" class=\"data row4 col1\" >-0.060298</td>\n",
       "                        <td id=\"T_b5c2ae78_50a3_11ed_9bb5_14c213098690row4_col2\" class=\"data row4 col2\" >0.136538</td>\n",
       "                        <td id=\"T_b5c2ae78_50a3_11ed_9bb5_14c213098690row4_col3\" class=\"data row4 col3\" >0.878631</td>\n",
       "                        <td id=\"T_b5c2ae78_50a3_11ed_9bb5_14c213098690row4_col4\" class=\"data row4 col4\" >1.000000</td>\n",
       "                        <td id=\"T_b5c2ae78_50a3_11ed_9bb5_14c213098690row4_col5\" class=\"data row4 col5\" >0.024441</td>\n",
       "            </tr>\n",
       "            <tr>\n",
       "                        <th id=\"T_b5c2ae78_50a3_11ed_9bb5_14c213098690level0_row5\" class=\"row_heading level0 row5\" >totalDuration</th>\n",
       "                        <td id=\"T_b5c2ae78_50a3_11ed_9bb5_14c213098690row5_col0\" class=\"data row5 col0\" >0.349595</td>\n",
       "                        <td id=\"T_b5c2ae78_50a3_11ed_9bb5_14c213098690row5_col1\" class=\"data row5 col1\" >0.935904</td>\n",
       "                        <td id=\"T_b5c2ae78_50a3_11ed_9bb5_14c213098690row5_col2\" class=\"data row5 col2\" >-0.012781</td>\n",
       "                        <td id=\"T_b5c2ae78_50a3_11ed_9bb5_14c213098690row5_col3\" class=\"data row5 col3\" >0.023747</td>\n",
       "                        <td id=\"T_b5c2ae78_50a3_11ed_9bb5_14c213098690row5_col4\" class=\"data row5 col4\" >0.024441</td>\n",
       "                        <td id=\"T_b5c2ae78_50a3_11ed_9bb5_14c213098690row5_col5\" class=\"data row5 col5\" >1.000000</td>\n",
       "            </tr>\n",
       "    </tbody></table>"
      ],
      "text/plain": [
       "<pandas.io.formats.style.Styler at 0x7f8ec5dfc490>"
      ]
     },
     "execution_count": 468,
     "metadata": {},
     "output_type": "execute_result"
    }
   ],
   "source": [
    "corr = linear_df.corr()\n",
    "corr.style.background_gradient(cmap='coolwarm')"
   ]
  },
  {
   "cell_type": "code",
   "execution_count": 469,
   "metadata": {
    "executionInfo": {
     "elapsed": 309,
     "status": "ok",
     "timestamp": 1664356539869,
     "user": {
      "displayName": "diaa abo",
      "userId": "11943845526597913844"
     },
     "user_tz": -120
    },
    "id": "nMWUVwhnG8UY"
   },
   "outputs": [],
   "source": [
    "inputs=linear_df.drop(['totalDuration'],axis='columns')\n",
    "target=linear_df['totalDuration']"
   ]
  },
  {
   "cell_type": "markdown",
   "metadata": {
    "id": "ogBnURWDG8UY"
   },
   "source": [
    "our target data here will be totalDuration as well "
   ]
  },
  {
   "cell_type": "code",
   "execution_count": 470,
   "metadata": {
    "executionInfo": {
     "elapsed": 218,
     "status": "ok",
     "timestamp": 1664356541377,
     "user": {
      "displayName": "diaa abo",
      "userId": "11943845526597913844"
     },
     "user_tz": -120
    },
    "id": "meEZvNWbG8UY"
   },
   "outputs": [],
   "source": [
    "X=inputs\n",
    "Y=target"
   ]
  },
  {
   "cell_type": "code",
   "execution_count": 471,
   "metadata": {
    "colab": {
     "base_uri": "https://localhost:8080/"
    },
    "executionInfo": {
     "elapsed": 7,
     "status": "ok",
     "timestamp": 1664356542438,
     "user": {
      "displayName": "diaa abo",
      "userId": "11943845526597913844"
     },
     "user_tz": -120
    },
    "id": "67MWyYvwG8UZ",
    "outputId": "71cd815a-1b0a-4908-9bce-6700b60ec684"
   },
   "outputs": [
    {
     "name": "stdout",
     "output_type": "stream",
     "text": [
      "(161, 5)\n",
      "(80, 5)\n",
      "(161,)\n",
      "(80,)\n"
     ]
    }
   ],
   "source": [
    "#splitting the data between training data and test data : \n",
    "X_train, X_test, Y_train, Y_test = train_test_split(X, Y, test_size = 0.33, random_state = 5)\n",
    "print(X_train.shape)\n",
    "print(X_test.shape)\n",
    "print(Y_train.shape)\n",
    "print(Y_test.shape)"
   ]
  },
  {
   "cell_type": "code",
   "execution_count": null,
   "metadata": {
    "executionInfo": {
     "elapsed": 260,
     "status": "ok",
     "timestamp": 1664356545980,
     "user": {
      "displayName": "diaa abo",
      "userId": "11943845526597913844"
     },
     "user_tz": -120
    },
    "id": "w1aS6rXZG8UZ"
   },
   "outputs": [],
   "source": []
  },
  {
   "cell_type": "code",
   "execution_count": 472,
   "metadata": {
    "executionInfo": {
     "elapsed": 8,
     "status": "ok",
     "timestamp": 1664356547578,
     "user": {
      "displayName": "diaa abo",
      "userId": "11943845526597913844"
     },
     "user_tz": -120
    },
    "id": "q9cZFuY8G8UZ"
   },
   "outputs": [],
   "source": [
    "# basic linear regression : \n",
    "from sklearn.linear_model import LinearRegression\n",
    "lm = LinearRegression()\n",
    "lm.fit(X_train,Y_train)\n",
    "Y_pred_train = lm.predict(X_train) #predictions on training data\n",
    "Y_pred = lm.predict(X_test) #predictions on testing data\n",
    "# We plot predicted Y (y-axis) against actual Y (x-axis).\n",
    "Train_Data_test=X_test.copy()\n",
    "\n",
    "Train_Data_test['totalDuration']=Y_test\n",
    "Train_Data_test['time_pred']=Y_pred \n",
    "#Train_Data_test\n",
    "#import matplotlib.pyplot as plt\n",
    "#plt.scatter(Y_test, Y_pred)\n",
    "#plt.xlabel(\"Actual time: $Y_i$\" )\n",
    "#plt.ylabel(\"Predicted time: $\\hat{Y}_i$\")\n",
    "#plt.title(\"Predicted time vs Actual time: $Y_i$ vs $\\hat{Y}_i$\")\n",
    "#plt.show()"
   ]
  },
  {
   "cell_type": "code",
   "execution_count": 473,
   "metadata": {
    "colab": {
     "base_uri": "https://localhost:8080/",
     "height": 363
    },
    "executionInfo": {
     "elapsed": 385,
     "status": "ok",
     "timestamp": 1664356550051,
     "user": {
      "displayName": "diaa abo",
      "userId": "11943845526597913844"
     },
     "user_tz": -120
    },
    "id": "1H1nBrcUG8Ua",
    "outputId": "a412c4f5-5785-4a58-e523-a26833ed8711"
   },
   "outputs": [
    {
     "data": {
      "text/html": [
       "<div>\n",
       "<style scoped>\n",
       "    .dataframe tbody tr th:only-of-type {\n",
       "        vertical-align: middle;\n",
       "    }\n",
       "\n",
       "    .dataframe tbody tr th {\n",
       "        vertical-align: top;\n",
       "    }\n",
       "\n",
       "    .dataframe thead th {\n",
       "        text-align: right;\n",
       "    }\n",
       "</style>\n",
       "<table border=\"1\" class=\"dataframe\">\n",
       "  <thead>\n",
       "    <tr style=\"text-align: right;\">\n",
       "      <th></th>\n",
       "      <th>totalCores</th>\n",
       "      <th>totalTasks</th>\n",
       "      <th>totalInputBytes</th>\n",
       "      <th>totalShuffleRead</th>\n",
       "      <th>totalShuffleWrite</th>\n",
       "      <th>totalDuration</th>\n",
       "      <th>time_pred</th>\n",
       "    </tr>\n",
       "  </thead>\n",
       "  <tbody>\n",
       "    <tr>\n",
       "      <th>355</th>\n",
       "      <td>1</td>\n",
       "      <td>0.001087</td>\n",
       "      <td>0.025982</td>\n",
       "      <td>3.408678e-05</td>\n",
       "      <td>0.000139</td>\n",
       "      <td>15723</td>\n",
       "      <td>13928.847275</td>\n",
       "    </tr>\n",
       "    <tr>\n",
       "      <th>315</th>\n",
       "      <td>1</td>\n",
       "      <td>0.002918</td>\n",
       "      <td>0.020502</td>\n",
       "      <td>8.323106e-05</td>\n",
       "      <td>0.000110</td>\n",
       "      <td>8077</td>\n",
       "      <td>14645.158102</td>\n",
       "    </tr>\n",
       "    <tr>\n",
       "      <th>241</th>\n",
       "      <td>1</td>\n",
       "      <td>0.000286</td>\n",
       "      <td>0.000000</td>\n",
       "      <td>0.000000e+00</td>\n",
       "      <td>0.000000</td>\n",
       "      <td>4382</td>\n",
       "      <td>13325.459284</td>\n",
       "    </tr>\n",
       "    <tr>\n",
       "      <th>366</th>\n",
       "      <td>1</td>\n",
       "      <td>0.013330</td>\n",
       "      <td>0.001018</td>\n",
       "      <td>5.807301e-07</td>\n",
       "      <td>0.000010</td>\n",
       "      <td>23337</td>\n",
       "      <td>18840.038458</td>\n",
       "    </tr>\n",
       "    <tr>\n",
       "      <th>90</th>\n",
       "      <td>1</td>\n",
       "      <td>0.001201</td>\n",
       "      <td>0.032732</td>\n",
       "      <td>1.249607e-05</td>\n",
       "      <td>0.000036</td>\n",
       "      <td>20120</td>\n",
       "      <td>14041.326103</td>\n",
       "    </tr>\n",
       "    <tr>\n",
       "      <th>307</th>\n",
       "      <td>1</td>\n",
       "      <td>0.000572</td>\n",
       "      <td>0.001109</td>\n",
       "      <td>2.033592e-05</td>\n",
       "      <td>0.000027</td>\n",
       "      <td>7353</td>\n",
       "      <td>13458.153245</td>\n",
       "    </tr>\n",
       "    <tr>\n",
       "      <th>373</th>\n",
       "      <td>1</td>\n",
       "      <td>0.004863</td>\n",
       "      <td>0.008444</td>\n",
       "      <td>5.336548e-02</td>\n",
       "      <td>0.058601</td>\n",
       "      <td>24126</td>\n",
       "      <td>17194.335800</td>\n",
       "    </tr>\n",
       "    <tr>\n",
       "      <th>110</th>\n",
       "      <td>2</td>\n",
       "      <td>0.023913</td>\n",
       "      <td>1.000000</td>\n",
       "      <td>2.785225e-02</td>\n",
       "      <td>0.028975</td>\n",
       "      <td>43965</td>\n",
       "      <td>41679.584156</td>\n",
       "    </tr>\n",
       "    <tr>\n",
       "      <th>349</th>\n",
       "      <td>1</td>\n",
       "      <td>0.000973</td>\n",
       "      <td>0.000131</td>\n",
       "      <td>0.000000e+00</td>\n",
       "      <td>0.000000</td>\n",
       "      <td>5735</td>\n",
       "      <td>13616.459436</td>\n",
       "    </tr>\n",
       "    <tr>\n",
       "      <th>103</th>\n",
       "      <td>2</td>\n",
       "      <td>0.003204</td>\n",
       "      <td>0.000000</td>\n",
       "      <td>0.000000e+00</td>\n",
       "      <td>0.000001</td>\n",
       "      <td>12298</td>\n",
       "      <td>21996.889300</td>\n",
       "    </tr>\n",
       "  </tbody>\n",
       "</table>\n",
       "</div>"
      ],
      "text/plain": [
       "     totalCores  totalTasks  totalInputBytes  totalShuffleRead  \\\n",
       "355           1    0.001087         0.025982      3.408678e-05   \n",
       "315           1    0.002918         0.020502      8.323106e-05   \n",
       "241           1    0.000286         0.000000      0.000000e+00   \n",
       "366           1    0.013330         0.001018      5.807301e-07   \n",
       "90            1    0.001201         0.032732      1.249607e-05   \n",
       "307           1    0.000572         0.001109      2.033592e-05   \n",
       "373           1    0.004863         0.008444      5.336548e-02   \n",
       "110           2    0.023913         1.000000      2.785225e-02   \n",
       "349           1    0.000973         0.000131      0.000000e+00   \n",
       "103           2    0.003204         0.000000      0.000000e+00   \n",
       "\n",
       "     totalShuffleWrite  totalDuration     time_pred  \n",
       "355           0.000139          15723  13928.847275  \n",
       "315           0.000110           8077  14645.158102  \n",
       "241           0.000000           4382  13325.459284  \n",
       "366           0.000010          23337  18840.038458  \n",
       "90            0.000036          20120  14041.326103  \n",
       "307           0.000027           7353  13458.153245  \n",
       "373           0.058601          24126  17194.335800  \n",
       "110           0.028975          43965  41679.584156  \n",
       "349           0.000000           5735  13616.459436  \n",
       "103           0.000001          12298  21996.889300  "
      ]
     },
     "execution_count": 473,
     "metadata": {},
     "output_type": "execute_result"
    }
   ],
   "source": [
    "Train_Data_test.head(10)"
   ]
  },
  {
   "cell_type": "code",
   "execution_count": 474,
   "metadata": {
    "executionInfo": {
     "elapsed": 229,
     "status": "ok",
     "timestamp": 1664356783502,
     "user": {
      "displayName": "diaa abo",
      "userId": "11943845526597913844"
     },
     "user_tz": -120
    },
    "id": "lxg6Sx1kG8Ua"
   },
   "outputs": [],
   "source": [
    "Train_Data_test[\"time_pred\"]=Train_Data_test[\"time_pred\"]/60\n",
    "Train_Data_test[\"totalDuration\"]=Train_Data_test[\"totalDuration\"]/60\n",
    "Train_Data_test[\"training_error\"]=abs(Train_Data_test[\"totalDuration\"]-Train_Data_test[\"time_pred\"])\n"
   ]
  },
  {
   "cell_type": "code",
   "execution_count": null,
   "metadata": {
    "id": "dbjziTa1b3IV"
   },
   "outputs": [],
   "source": []
  },
  {
   "cell_type": "code",
   "execution_count": 475,
   "metadata": {
    "colab": {
     "base_uri": "https://localhost:8080/",
     "height": 206
    },
    "executionInfo": {
     "elapsed": 343,
     "status": "ok",
     "timestamp": 1664356785782,
     "user": {
      "displayName": "diaa abo",
      "userId": "11943845526597913844"
     },
     "user_tz": -120
    },
    "id": "Ypl9Pt0MG8Ua",
    "outputId": "3039df53-2292-4fd1-8577-85054bc5b7cd"
   },
   "outputs": [
    {
     "data": {
      "text/html": [
       "<div>\n",
       "<style scoped>\n",
       "    .dataframe tbody tr th:only-of-type {\n",
       "        vertical-align: middle;\n",
       "    }\n",
       "\n",
       "    .dataframe tbody tr th {\n",
       "        vertical-align: top;\n",
       "    }\n",
       "\n",
       "    .dataframe thead th {\n",
       "        text-align: right;\n",
       "    }\n",
       "</style>\n",
       "<table border=\"1\" class=\"dataframe\">\n",
       "  <thead>\n",
       "    <tr style=\"text-align: right;\">\n",
       "      <th></th>\n",
       "      <th>totalCores</th>\n",
       "      <th>totalTasks</th>\n",
       "      <th>totalInputBytes</th>\n",
       "      <th>totalShuffleRead</th>\n",
       "      <th>totalShuffleWrite</th>\n",
       "      <th>totalDuration</th>\n",
       "      <th>time_pred</th>\n",
       "      <th>training_error</th>\n",
       "    </tr>\n",
       "  </thead>\n",
       "  <tbody>\n",
       "    <tr>\n",
       "      <th>355</th>\n",
       "      <td>1</td>\n",
       "      <td>0.001087</td>\n",
       "      <td>0.025982</td>\n",
       "      <td>3.408678e-05</td>\n",
       "      <td>0.000139</td>\n",
       "      <td>262.050000</td>\n",
       "      <td>232.147455</td>\n",
       "      <td>29.902545</td>\n",
       "    </tr>\n",
       "    <tr>\n",
       "      <th>315</th>\n",
       "      <td>1</td>\n",
       "      <td>0.002918</td>\n",
       "      <td>0.020502</td>\n",
       "      <td>8.323106e-05</td>\n",
       "      <td>0.000110</td>\n",
       "      <td>134.616667</td>\n",
       "      <td>244.085968</td>\n",
       "      <td>109.469302</td>\n",
       "    </tr>\n",
       "    <tr>\n",
       "      <th>241</th>\n",
       "      <td>1</td>\n",
       "      <td>0.000286</td>\n",
       "      <td>0.000000</td>\n",
       "      <td>0.000000e+00</td>\n",
       "      <td>0.000000</td>\n",
       "      <td>73.033333</td>\n",
       "      <td>222.090988</td>\n",
       "      <td>149.057655</td>\n",
       "    </tr>\n",
       "    <tr>\n",
       "      <th>366</th>\n",
       "      <td>1</td>\n",
       "      <td>0.013330</td>\n",
       "      <td>0.001018</td>\n",
       "      <td>5.807301e-07</td>\n",
       "      <td>0.000010</td>\n",
       "      <td>388.950000</td>\n",
       "      <td>314.000641</td>\n",
       "      <td>74.949359</td>\n",
       "    </tr>\n",
       "    <tr>\n",
       "      <th>90</th>\n",
       "      <td>1</td>\n",
       "      <td>0.001201</td>\n",
       "      <td>0.032732</td>\n",
       "      <td>1.249607e-05</td>\n",
       "      <td>0.000036</td>\n",
       "      <td>335.333333</td>\n",
       "      <td>234.022102</td>\n",
       "      <td>101.311232</td>\n",
       "    </tr>\n",
       "  </tbody>\n",
       "</table>\n",
       "</div>"
      ],
      "text/plain": [
       "     totalCores  totalTasks  totalInputBytes  totalShuffleRead  \\\n",
       "355           1    0.001087         0.025982      3.408678e-05   \n",
       "315           1    0.002918         0.020502      8.323106e-05   \n",
       "241           1    0.000286         0.000000      0.000000e+00   \n",
       "366           1    0.013330         0.001018      5.807301e-07   \n",
       "90            1    0.001201         0.032732      1.249607e-05   \n",
       "\n",
       "     totalShuffleWrite  totalDuration   time_pred  training_error  \n",
       "355           0.000139     262.050000  232.147455       29.902545  \n",
       "315           0.000110     134.616667  244.085968      109.469302  \n",
       "241           0.000000      73.033333  222.090988      149.057655  \n",
       "366           0.000010     388.950000  314.000641       74.949359  \n",
       "90            0.000036     335.333333  234.022102      101.311232  "
      ]
     },
     "execution_count": 475,
     "metadata": {},
     "output_type": "execute_result"
    }
   ],
   "source": [
    "Train_Data_test.head()"
   ]
  },
  {
   "cell_type": "markdown",
   "metadata": {
    "id": "slV7zZEeG8Ua"
   },
   "source": [
    "now lets compare our results, the total duration with the time prediction"
   ]
  },
  {
   "cell_type": "code",
   "execution_count": 476,
   "metadata": {
    "colab": {
     "base_uri": "https://localhost:8080/",
     "height": 369
    },
    "executionInfo": {
     "elapsed": 1372,
     "status": "ok",
     "timestamp": 1664357948543,
     "user": {
      "displayName": "diaa abo",
      "userId": "11943845526597913844"
     },
     "user_tz": -120
    },
    "id": "kZYGTwepa5qG",
    "outputId": "7382286b-68b5-438a-946f-94e5a7324c99"
   },
   "outputs": [
    {
     "data": {
      "image/png": "[encoded data removed]",
      "text/plain": [
       "<Figure size 864x360 with 1 Axes>"
      ]
     },
     "metadata": {
      "needs_background": "light"
     },
     "output_type": "display_data"
    }
   ],
   "source": [
    "\n",
    "import matplotlib.pyplot as mp\n",
    "mp.rcParams[\"figure.figsize\"] = [12, 5]\n",
    "mp.rcParams[\"figure.autolayout\"] = True\n",
    "\n",
    "#df = pd.DataFrame(dict(data=[2, 4, 1, 5, 9, 6, 0, 7]))\n",
    "fig, ax = mp.subplots()\n",
    "Train_Data_test_plot_linear = Train_Data_test.reset_index()\n",
    "\n",
    "Train_Data_test_plot_linear['totalDuration'].plot(kind='line', color='black', ms=10)\n",
    "\n",
    "Train_Data_test_plot_linear['time_pred'].plot(kind='line',style=['-'], color='blue', ms=10)\n",
    "\n",
    "ax.legend(labels=['original time ', 'predicted'])\n",
    "\n",
    "\n",
    "mp.show()"
   ]
  },
  {
   "cell_type": "code",
   "execution_count": 477,
   "metadata": {},
   "outputs": [
    {
     "data": {
      "text/plain": [
       "<matplotlib.axes._subplots.AxesSubplot at 0x7f8ec5ec7f10>"
      ]
     },
     "execution_count": 477,
     "metadata": {},
     "output_type": "execute_result"
    },
    {
     "data": {
      "image/png": "[encoded data removed]",
      "text/plain": [
       "<Figure size 864x360 with 1 Axes>"
      ]
     },
     "metadata": {
      "needs_background": "light"
     },
     "output_type": "display_data"
    }
   ],
   "source": [
    "\n",
    "Train_Data_test_plot_linear['training_error'].plot(kind='line', color='red', label= 'Training Error' )\n",
    "\n"
   ]
  },
  {
   "cell_type": "code",
   "execution_count": 478,
   "metadata": {
    "colab": {
     "base_uri": "https://localhost:8080/"
    },
    "executionInfo": {
     "elapsed": 226,
     "status": "ok",
     "timestamp": 1664349887846,
     "user": {
      "displayName": "diaa abo",
      "userId": "11943845526597913844"
     },
     "user_tz": -120
    },
    "id": "j5bd5-inG8Ub",
    "outputId": "e5bb531f-9407-4b73-8078-9607b0cb6ecb"
   },
   "outputs": [
    {
     "name": "stdout",
     "output_type": "stream",
     "text": [
      "5764.527708730133\n"
     ]
    }
   ],
   "source": [
    "print(lm.intercept_)\n"
   ]
  },
  {
   "cell_type": "code",
   "execution_count": 479,
   "metadata": {
    "colab": {
     "base_uri": "https://localhost:8080/"
    },
    "executionInfo": {
     "elapsed": 5,
     "status": "ok",
     "timestamp": 1664349888941,
     "user": {
      "displayName": "diaa abo",
      "userId": "11943845526597913844"
     },
     "user_tz": -120
    },
    "id": "zCUWYduVG8Ub",
    "outputId": "87a9e6f1-ee65-4fa2-fe46-c844560b919a"
   },
   "outputs": [
    {
     "name": "stdout",
     "output_type": "stream",
     "text": [
      "[  7440.22943933 421974.66855387  10033.07801056  -3653.31576693\n",
      "  34946.12224496]\n"
     ]
    }
   ],
   "source": [
    "print(lm.coef_)\n"
   ]
  },
  {
   "cell_type": "code",
   "execution_count": 480,
   "metadata": {
    "colab": {
     "base_uri": "https://localhost:8080/"
    },
    "executionInfo": {
     "elapsed": 240,
     "status": "ok",
     "timestamp": 1664349895181,
     "user": {
      "displayName": "diaa abo",
      "userId": "11943845526597913844"
     },
     "user_tz": -120
    },
    "id": "jyTtfhZ8G8Ub",
    "outputId": "4ea1a9c0-d490-4ba7-c7cd-61ed8d86cfdf"
   },
   "outputs": [
    {
     "name": "stdout",
     "output_type": "stream",
     "text": [
      "Mean Absolute Error: 13563.864181831206\n",
      "Mean Squared Error: 917895818.1261041\n",
      "Root Mean Squared Error: 30296.795509197076\n"
     ]
    }
   ],
   "source": [
    "from sklearn import metrics\n",
    "print('Mean Absolute Error:', metrics.mean_absolute_error(Y_test, Y_pred))\n",
    "print('Mean Squared Error:', metrics.mean_squared_error(Y_test, Y_pred))\n",
    "print('Root Mean Squared Error:', np.sqrt(metrics.mean_squared_error(Y_test, Y_pred)))"
   ]
  },
  {
   "cell_type": "code",
   "execution_count": 481,
   "metadata": {
    "colab": {
     "base_uri": "https://localhost:8080/",
     "height": 143
    },
    "executionInfo": {
     "elapsed": 226,
     "status": "ok",
     "timestamp": 1664349923072,
     "user": {
      "displayName": "diaa abo",
      "userId": "11943845526597913844"
     },
     "user_tz": -120
    },
    "id": "50qYLMfLG8Uc",
    "outputId": "48361a13-65ca-49d7-f969-516ebf12717c"
   },
   "outputs": [
    {
     "data": {
      "text/html": [
       "<div>\n",
       "<style scoped>\n",
       "    .dataframe tbody tr th:only-of-type {\n",
       "        vertical-align: middle;\n",
       "    }\n",
       "\n",
       "    .dataframe tbody tr th {\n",
       "        vertical-align: top;\n",
       "    }\n",
       "\n",
       "    .dataframe thead th {\n",
       "        text-align: right;\n",
       "    }\n",
       "</style>\n",
       "<table border=\"1\" class=\"dataframe\">\n",
       "  <thead>\n",
       "    <tr style=\"text-align: right;\">\n",
       "      <th></th>\n",
       "      <th>Coefficient</th>\n",
       "    </tr>\n",
       "  </thead>\n",
       "  <tbody>\n",
       "    <tr>\n",
       "      <th>totalCores</th>\n",
       "      <td>7440.229439</td>\n",
       "    </tr>\n",
       "    <tr>\n",
       "      <th>totalTasks</th>\n",
       "      <td>421974.668554</td>\n",
       "    </tr>\n",
       "    <tr>\n",
       "      <th>totalInputBytes</th>\n",
       "      <td>10033.078011</td>\n",
       "    </tr>\n",
       "    <tr>\n",
       "      <th>totalShuffleRead</th>\n",
       "      <td>-3653.315767</td>\n",
       "    </tr>\n",
       "    <tr>\n",
       "      <th>totalShuffleWrite</th>\n",
       "      <td>34946.122245</td>\n",
       "    </tr>\n",
       "  </tbody>\n",
       "</table>\n",
       "</div>"
      ],
      "text/plain": [
       "                     Coefficient\n",
       "totalCores           7440.229439\n",
       "totalTasks         421974.668554\n",
       "totalInputBytes     10033.078011\n",
       "totalShuffleRead    -3653.315767\n",
       "totalShuffleWrite   34946.122245"
      ]
     },
     "execution_count": 481,
     "metadata": {},
     "output_type": "execute_result"
    }
   ],
   "source": [
    "coeff_df = pd.DataFrame(lm.coef_, X.columns, columns=['Coefficient'])\n",
    "coeff_df"
   ]
  },
  {
   "cell_type": "markdown",
   "metadata": {
    "id": "W7edFF1tG8Uc"
   },
   "source": [
    "### Though our model in this case is not very precise"
   ]
  },
  {
   "cell_type": "markdown",
   "metadata": {
    "id": "U827M3tYG8Uc"
   },
   "source": [
    " ## -----------------------------------------------------------------------"
   ]
  },
  {
   "cell_type": "markdown",
   "metadata": {
    "id": "MgPZnGvSG8Ud"
   },
   "source": [
    "# now we are gonna try DecisionTree in order to predict the execution time again: "
   ]
  },
  {
   "cell_type": "code",
   "execution_count": 482,
   "metadata": {
    "executionInfo": {
     "elapsed": 239,
     "status": "ok",
     "timestamp": 1664349953748,
     "user": {
      "displayName": "diaa abo",
      "userId": "11943845526597913844"
     },
     "user_tz": -120
    },
    "id": "9WSUjFWbG8Ud"
   },
   "outputs": [],
   "source": [
    "from sklearn.tree import DecisionTreeClassifier\n",
    "from sklearn.model_selection import GridSearchCV"
   ]
  },
  {
   "cell_type": "code",
   "execution_count": 483,
   "metadata": {
    "executionInfo": {
     "elapsed": 2,
     "status": "ok",
     "timestamp": 1664349953983,
     "user": {
      "displayName": "diaa abo",
      "userId": "11943845526597913844"
     },
     "user_tz": -120
    },
    "id": "-jHyh2g2G8Ud"
   },
   "outputs": [],
   "source": [
    "param_grid = {\n",
    "    \"max_depth\": [3,5,10,15,20,None],\n",
    "    \"min_samples_split\": [2,5,7,10],\n",
    "    \"min_samples_leaf\": [1,2,5]\n",
    "}"
   ]
  },
  {
   "cell_type": "code",
   "execution_count": 484,
   "metadata": {
    "executionInfo": {
     "elapsed": 5,
     "status": "ok",
     "timestamp": 1664349955093,
     "user": {
      "displayName": "diaa abo",
      "userId": "11943845526597913844"
     },
     "user_tz": -120
    },
    "id": "nq1Zc-kPG8Ue"
   },
   "outputs": [],
   "source": [
    "model=DecisionTreeClassifier(random_state=0)"
   ]
  },
  {
   "cell_type": "code",
   "execution_count": null,
   "metadata": {},
   "outputs": [],
   "source": []
  },
  {
   "cell_type": "code",
   "execution_count": 485,
   "metadata": {
    "executionInfo": {
     "elapsed": 667,
     "status": "ok",
     "timestamp": 1664349959267,
     "user": {
      "displayName": "diaa abo",
      "userId": "11943845526597913844"
     },
     "user_tz": -120
    },
    "id": "vjOHWoKRG8Ue"
   },
   "outputs": [],
   "source": [
    "# spliting the data: \n",
    "X_train, X_test, y_train, y_test = train_test_split(X, Y, test_size=0.3, random_state=1, ) # 70% training and 30% test\n"
   ]
  },
  {
   "cell_type": "code",
   "execution_count": 486,
   "metadata": {},
   "outputs": [
    {
     "data": {
      "text/plain": [
       "totalCores           168\n",
       "totalTasks           168\n",
       "totalInputBytes      168\n",
       "totalShuffleRead     168\n",
       "totalShuffleWrite    168\n",
       "dtype: int64"
      ]
     },
     "execution_count": 486,
     "metadata": {},
     "output_type": "execute_result"
    }
   ],
   "source": [
    "X_train.count()"
   ]
  },
  {
   "cell_type": "code",
   "execution_count": 487,
   "metadata": {},
   "outputs": [
    {
     "data": {
      "text/plain": [
       "totalCores           73\n",
       "totalTasks           73\n",
       "totalInputBytes      73\n",
       "totalShuffleRead     73\n",
       "totalShuffleWrite    73\n",
       "dtype: int64"
      ]
     },
     "execution_count": 487,
     "metadata": {},
     "output_type": "execute_result"
    }
   ],
   "source": [
    "X_test.count()"
   ]
  },
  {
   "cell_type": "code",
   "execution_count": 488,
   "metadata": {
    "colab": {
     "base_uri": "https://localhost:8080/"
    },
    "executionInfo": {
     "elapsed": 4,
     "status": "ok",
     "timestamp": 1664349960485,
     "user": {
      "displayName": "diaa abo",
      "userId": "11943845526597913844"
     },
     "user_tz": -120
    },
    "id": "rh0TnobYG8Ue",
    "outputId": "7c036b17-edae-430b-c967-943743ced2c1"
   },
   "outputs": [
    {
     "data": {
      "text/plain": [
       "83"
      ]
     },
     "execution_count": 488,
     "metadata": {},
     "output_type": "execute_result"
    }
   ],
   "source": [
    "# fiting the model: \n",
    "model.fit(X_train,y_train).tree_.node_count"
   ]
  },
  {
   "cell_type": "code",
   "execution_count": 489,
   "metadata": {
    "executionInfo": {
     "elapsed": 216,
     "status": "ok",
     "timestamp": 1664349962456,
     "user": {
      "displayName": "diaa abo",
      "userId": "11943845526597913844"
     },
     "user_tz": -120
    },
    "id": "kFlHoYXOG8Ue"
   },
   "outputs": [],
   "source": [
    "pred = model.predict(X_test)"
   ]
  },
  {
   "cell_type": "code",
   "execution_count": 490,
   "metadata": {
    "colab": {
     "base_uri": "https://localhost:8080/"
    },
    "executionInfo": {
     "elapsed": 262,
     "status": "ok",
     "timestamp": 1664349963821,
     "user": {
      "displayName": "diaa abo",
      "userId": "11943845526597913844"
     },
     "user_tz": -120
    },
    "id": "7klogtGcG8Ue",
    "outputId": "9c6c0daa-c8f5-42ad-e3a2-944729010c38"
   },
   "outputs": [
    {
     "name": "stdout",
     "output_type": "stream",
     "text": [
      "Accuracy: 0.8767123287671232\n"
     ]
    }
   ],
   "source": [
    "print(\"Accuracy:\",metrics.accuracy_score(y_test, pred))"
   ]
  },
  {
   "cell_type": "markdown",
   "metadata": {
    "id": "Rm3R4wS0G8Uf"
   },
   "source": [
    "as we can see the Accuracy that we have got is considered as a good accuracy "
   ]
  },
  {
   "cell_type": "code",
   "execution_count": 491,
   "metadata": {
    "executionInfo": {
     "elapsed": 245,
     "status": "ok",
     "timestamp": 1664349969088,
     "user": {
      "displayName": "diaa abo",
      "userId": "11943845526597913844"
     },
     "user_tz": -120
    },
    "id": "jufo2i6tG8Uf"
   },
   "outputs": [],
   "source": [
    "model=DecisionTreeClassifier(ccp_alpha=0.001, random_state=0)"
   ]
  },
  {
   "cell_type": "code",
   "execution_count": 492,
   "metadata": {
    "colab": {
     "base_uri": "https://localhost:8080/"
    },
    "executionInfo": {
     "elapsed": 5,
     "status": "ok",
     "timestamp": 1664349970539,
     "user": {
      "displayName": "diaa abo",
      "userId": "11943845526597913844"
     },
     "user_tz": -120
    },
    "id": "KpI1MB-IG8Uf",
    "outputId": "f98eb248-e07e-498e-e1fb-53444988d466"
   },
   "outputs": [
    {
     "data": {
      "text/plain": [
       "83"
      ]
     },
     "execution_count": 492,
     "metadata": {},
     "output_type": "execute_result"
    }
   ],
   "source": [
    "model.fit(X_train,y_train).tree_.node_count"
   ]
  },
  {
   "cell_type": "code",
   "execution_count": 493,
   "metadata": {
    "executionInfo": {
     "elapsed": 260,
     "status": "ok",
     "timestamp": 1664349981315,
     "user": {
      "displayName": "diaa abo",
      "userId": "11943845526597913844"
     },
     "user_tz": -120
    },
    "id": "0fZCaE4RG8Ug"
   },
   "outputs": [
    {
     "name": "stderr",
     "output_type": "stream",
     "text": [
      "/Users/diaaab/opt/anaconda3/lib/python3.7/site-packages/ipykernel_launcher.py:1: SettingWithCopyWarning: \n",
      "A value is trying to be set on a copy of a slice from a DataFrame.\n",
      "Try using .loc[row_indexer,col_indexer] = value instead\n",
      "\n",
      "See the caveats in the documentation: https://pandas.pydata.org/pandas-docs/stable/user_guide/indexing.html#returning-a-view-versus-a-copy\n",
      "  \"\"\"Entry point for launching an IPython kernel.\n"
     ]
    }
   ],
   "source": [
    "X_test[\"totalDuration\"]=y_test"
   ]
  },
  {
   "cell_type": "code",
   "execution_count": 494,
   "metadata": {
    "executionInfo": {
     "elapsed": 2,
     "status": "ok",
     "timestamp": 1664349981540,
     "user": {
      "displayName": "diaa abo",
      "userId": "11943845526597913844"
     },
     "user_tz": -120
    },
    "id": "d1DpE7cfG8Ug"
   },
   "outputs": [
    {
     "name": "stderr",
     "output_type": "stream",
     "text": [
      "/Users/diaaab/opt/anaconda3/lib/python3.7/site-packages/ipykernel_launcher.py:1: SettingWithCopyWarning: \n",
      "A value is trying to be set on a copy of a slice from a DataFrame.\n",
      "Try using .loc[row_indexer,col_indexer] = value instead\n",
      "\n",
      "See the caveats in the documentation: https://pandas.pydata.org/pandas-docs/stable/user_guide/indexing.html#returning-a-view-versus-a-copy\n",
      "  \"\"\"Entry point for launching an IPython kernel.\n"
     ]
    }
   ],
   "source": [
    "X_test[\"time_prediction\"]=pred.tolist()"
   ]
  },
  {
   "cell_type": "code",
   "execution_count": 495,
   "metadata": {
    "executionInfo": {
     "elapsed": 238,
     "status": "ok",
     "timestamp": 1664349990547,
     "user": {
      "displayName": "diaa abo",
      "userId": "11943845526597913844"
     },
     "user_tz": -120
    },
    "id": "Z4O7-54SG8Ug"
   },
   "outputs": [
    {
     "name": "stderr",
     "output_type": "stream",
     "text": [
      "/Users/diaaab/opt/anaconda3/lib/python3.7/site-packages/ipykernel_launcher.py:1: SettingWithCopyWarning: \n",
      "A value is trying to be set on a copy of a slice from a DataFrame.\n",
      "Try using .loc[row_indexer,col_indexer] = value instead\n",
      "\n",
      "See the caveats in the documentation: https://pandas.pydata.org/pandas-docs/stable/user_guide/indexing.html#returning-a-view-versus-a-copy\n",
      "  \"\"\"Entry point for launching an IPython kernel.\n",
      "/Users/diaaab/opt/anaconda3/lib/python3.7/site-packages/ipykernel_launcher.py:2: SettingWithCopyWarning: \n",
      "A value is trying to be set on a copy of a slice from a DataFrame.\n",
      "Try using .loc[row_indexer,col_indexer] = value instead\n",
      "\n",
      "See the caveats in the documentation: https://pandas.pydata.org/pandas-docs/stable/user_guide/indexing.html#returning-a-view-versus-a-copy\n",
      "  \n"
     ]
    }
   ],
   "source": [
    "X_test[\"totalDuration\"]=X_test[\"totalDuration\"]/60\n",
    "X_test[\"time_prediction\"]=X_test[\"time_prediction\"]/60\n"
   ]
  },
  {
   "cell_type": "code",
   "execution_count": 496,
   "metadata": {
    "colab": {
     "base_uri": "https://localhost:8080/",
     "height": 363
    },
    "executionInfo": {
     "elapsed": 262,
     "status": "ok",
     "timestamp": 1664349995756,
     "user": {
      "displayName": "diaa abo",
      "userId": "11943845526597913844"
     },
     "user_tz": -120
    },
    "id": "6IGSljRlG8Uh",
    "outputId": "5d3e00ce-56c1-4e5e-c938-1df952fce7b9"
   },
   "outputs": [
    {
     "data": {
      "text/html": [
       "<div>\n",
       "<style scoped>\n",
       "    .dataframe tbody tr th:only-of-type {\n",
       "        vertical-align: middle;\n",
       "    }\n",
       "\n",
       "    .dataframe tbody tr th {\n",
       "        vertical-align: top;\n",
       "    }\n",
       "\n",
       "    .dataframe thead th {\n",
       "        text-align: right;\n",
       "    }\n",
       "</style>\n",
       "<table border=\"1\" class=\"dataframe\">\n",
       "  <thead>\n",
       "    <tr style=\"text-align: right;\">\n",
       "      <th></th>\n",
       "      <th>totalCores</th>\n",
       "      <th>totalTasks</th>\n",
       "      <th>totalInputBytes</th>\n",
       "      <th>totalShuffleRead</th>\n",
       "      <th>totalShuffleWrite</th>\n",
       "      <th>totalDuration</th>\n",
       "      <th>time_prediction</th>\n",
       "    </tr>\n",
       "  </thead>\n",
       "  <tbody>\n",
       "    <tr>\n",
       "      <th>130</th>\n",
       "      <td>1</td>\n",
       "      <td>0.000572</td>\n",
       "      <td>0.001109</td>\n",
       "      <td>0.000020</td>\n",
       "      <td>0.000027</td>\n",
       "      <td>114.483333</td>\n",
       "      <td>122.550000</td>\n",
       "    </tr>\n",
       "    <tr>\n",
       "      <th>467</th>\n",
       "      <td>1</td>\n",
       "      <td>0.000973</td>\n",
       "      <td>0.000131</td>\n",
       "      <td>0.000000</td>\n",
       "      <td>0.000000</td>\n",
       "      <td>76.133333</td>\n",
       "      <td>90.783333</td>\n",
       "    </tr>\n",
       "    <tr>\n",
       "      <th>391</th>\n",
       "      <td>2</td>\n",
       "      <td>0.000114</td>\n",
       "      <td>0.333333</td>\n",
       "      <td>0.000000</td>\n",
       "      <td>0.000000</td>\n",
       "      <td>124.200000</td>\n",
       "      <td>124.200000</td>\n",
       "    </tr>\n",
       "    <tr>\n",
       "      <th>245</th>\n",
       "      <td>1</td>\n",
       "      <td>0.001316</td>\n",
       "      <td>0.034259</td>\n",
       "      <td>0.000094</td>\n",
       "      <td>0.000137</td>\n",
       "      <td>249.583333</td>\n",
       "      <td>249.583333</td>\n",
       "    </tr>\n",
       "    <tr>\n",
       "      <th>176</th>\n",
       "      <td>1</td>\n",
       "      <td>0.005034</td>\n",
       "      <td>0.040878</td>\n",
       "      <td>0.127632</td>\n",
       "      <td>0.476208</td>\n",
       "      <td>615.366667</td>\n",
       "      <td>615.366667</td>\n",
       "    </tr>\n",
       "    <tr>\n",
       "      <th>427</th>\n",
       "      <td>1</td>\n",
       "      <td>0.000343</td>\n",
       "      <td>0.004406</td>\n",
       "      <td>0.000044</td>\n",
       "      <td>0.000058</td>\n",
       "      <td>69.250000</td>\n",
       "      <td>69.250000</td>\n",
       "    </tr>\n",
       "    <tr>\n",
       "      <th>107</th>\n",
       "      <td>2</td>\n",
       "      <td>0.021625</td>\n",
       "      <td>0.000000</td>\n",
       "      <td>0.000097</td>\n",
       "      <td>0.000209</td>\n",
       "      <td>722.983333</td>\n",
       "      <td>722.983333</td>\n",
       "    </tr>\n",
       "    <tr>\n",
       "      <th>363</th>\n",
       "      <td>1</td>\n",
       "      <td>0.004119</td>\n",
       "      <td>0.016908</td>\n",
       "      <td>0.549679</td>\n",
       "      <td>0.497910</td>\n",
       "      <td>641.133333</td>\n",
       "      <td>641.133333</td>\n",
       "    </tr>\n",
       "    <tr>\n",
       "      <th>347</th>\n",
       "      <td>2</td>\n",
       "      <td>1.000000</td>\n",
       "      <td>0.000000</td>\n",
       "      <td>0.015789</td>\n",
       "      <td>0.022408</td>\n",
       "      <td>5023.100000</td>\n",
       "      <td>5023.100000</td>\n",
       "    </tr>\n",
       "    <tr>\n",
       "      <th>6</th>\n",
       "      <td>2</td>\n",
       "      <td>0.004634</td>\n",
       "      <td>0.000000</td>\n",
       "      <td>0.004524</td>\n",
       "      <td>0.010772</td>\n",
       "      <td>346.950000</td>\n",
       "      <td>346.950000</td>\n",
       "    </tr>\n",
       "  </tbody>\n",
       "</table>\n",
       "</div>"
      ],
      "text/plain": [
       "     totalCores  totalTasks  totalInputBytes  totalShuffleRead  \\\n",
       "130           1    0.000572         0.001109          0.000020   \n",
       "467           1    0.000973         0.000131          0.000000   \n",
       "391           2    0.000114         0.333333          0.000000   \n",
       "245           1    0.001316         0.034259          0.000094   \n",
       "176           1    0.005034         0.040878          0.127632   \n",
       "427           1    0.000343         0.004406          0.000044   \n",
       "107           2    0.021625         0.000000          0.000097   \n",
       "363           1    0.004119         0.016908          0.549679   \n",
       "347           2    1.000000         0.000000          0.015789   \n",
       "6             2    0.004634         0.000000          0.004524   \n",
       "\n",
       "     totalShuffleWrite  totalDuration  time_prediction  \n",
       "130           0.000027     114.483333       122.550000  \n",
       "467           0.000000      76.133333        90.783333  \n",
       "391           0.000000     124.200000       124.200000  \n",
       "245           0.000137     249.583333       249.583333  \n",
       "176           0.476208     615.366667       615.366667  \n",
       "427           0.000058      69.250000        69.250000  \n",
       "107           0.000209     722.983333       722.983333  \n",
       "363           0.497910     641.133333       641.133333  \n",
       "347           0.022408    5023.100000      5023.100000  \n",
       "6             0.010772     346.950000       346.950000  "
      ]
     },
     "execution_count": 496,
     "metadata": {},
     "output_type": "execute_result"
    }
   ],
   "source": [
    "X_test.head(10)"
   ]
  },
  {
   "cell_type": "code",
   "execution_count": 497,
   "metadata": {},
   "outputs": [
    {
     "name": "stderr",
     "output_type": "stream",
     "text": [
      "/Users/diaaab/opt/anaconda3/lib/python3.7/site-packages/ipykernel_launcher.py:1: SettingWithCopyWarning: \n",
      "A value is trying to be set on a copy of a slice from a DataFrame.\n",
      "Try using .loc[row_indexer,col_indexer] = value instead\n",
      "\n",
      "See the caveats in the documentation: https://pandas.pydata.org/pandas-docs/stable/user_guide/indexing.html#returning-a-view-versus-a-copy\n",
      "  \"\"\"Entry point for launching an IPython kernel.\n"
     ]
    }
   ],
   "source": [
    "X_test[\"training_error\"]=abs(X_test[\"totalDuration\"]-X_test[\"time_prediction\"])\n",
    "\n"
   ]
  },
  {
   "cell_type": "code",
   "execution_count": 498,
   "metadata": {},
   "outputs": [
    {
     "data": {
      "text/html": [
       "<div>\n",
       "<style scoped>\n",
       "    .dataframe tbody tr th:only-of-type {\n",
       "        vertical-align: middle;\n",
       "    }\n",
       "\n",
       "    .dataframe tbody tr th {\n",
       "        vertical-align: top;\n",
       "    }\n",
       "\n",
       "    .dataframe thead th {\n",
       "        text-align: right;\n",
       "    }\n",
       "</style>\n",
       "<table border=\"1\" class=\"dataframe\">\n",
       "  <thead>\n",
       "    <tr style=\"text-align: right;\">\n",
       "      <th></th>\n",
       "      <th>totalCores</th>\n",
       "      <th>totalTasks</th>\n",
       "      <th>totalInputBytes</th>\n",
       "      <th>totalShuffleRead</th>\n",
       "      <th>totalShuffleWrite</th>\n",
       "      <th>totalDuration</th>\n",
       "      <th>time_prediction</th>\n",
       "      <th>training_error</th>\n",
       "    </tr>\n",
       "  </thead>\n",
       "  <tbody>\n",
       "    <tr>\n",
       "      <th>130</th>\n",
       "      <td>1</td>\n",
       "      <td>0.000572</td>\n",
       "      <td>0.001109</td>\n",
       "      <td>0.000020</td>\n",
       "      <td>0.000027</td>\n",
       "      <td>114.483333</td>\n",
       "      <td>122.550000</td>\n",
       "      <td>8.066667</td>\n",
       "    </tr>\n",
       "    <tr>\n",
       "      <th>467</th>\n",
       "      <td>1</td>\n",
       "      <td>0.000973</td>\n",
       "      <td>0.000131</td>\n",
       "      <td>0.000000</td>\n",
       "      <td>0.000000</td>\n",
       "      <td>76.133333</td>\n",
       "      <td>90.783333</td>\n",
       "      <td>14.650000</td>\n",
       "    </tr>\n",
       "    <tr>\n",
       "      <th>391</th>\n",
       "      <td>2</td>\n",
       "      <td>0.000114</td>\n",
       "      <td>0.333333</td>\n",
       "      <td>0.000000</td>\n",
       "      <td>0.000000</td>\n",
       "      <td>124.200000</td>\n",
       "      <td>124.200000</td>\n",
       "      <td>0.000000</td>\n",
       "    </tr>\n",
       "    <tr>\n",
       "      <th>245</th>\n",
       "      <td>1</td>\n",
       "      <td>0.001316</td>\n",
       "      <td>0.034259</td>\n",
       "      <td>0.000094</td>\n",
       "      <td>0.000137</td>\n",
       "      <td>249.583333</td>\n",
       "      <td>249.583333</td>\n",
       "      <td>0.000000</td>\n",
       "    </tr>\n",
       "    <tr>\n",
       "      <th>176</th>\n",
       "      <td>1</td>\n",
       "      <td>0.005034</td>\n",
       "      <td>0.040878</td>\n",
       "      <td>0.127632</td>\n",
       "      <td>0.476208</td>\n",
       "      <td>615.366667</td>\n",
       "      <td>615.366667</td>\n",
       "      <td>0.000000</td>\n",
       "    </tr>\n",
       "    <tr>\n",
       "      <th>...</th>\n",
       "      <td>...</td>\n",
       "      <td>...</td>\n",
       "      <td>...</td>\n",
       "      <td>...</td>\n",
       "      <td>...</td>\n",
       "      <td>...</td>\n",
       "      <td>...</td>\n",
       "      <td>...</td>\n",
       "    </tr>\n",
       "    <tr>\n",
       "      <th>316</th>\n",
       "      <td>1</td>\n",
       "      <td>0.001259</td>\n",
       "      <td>0.027162</td>\n",
       "      <td>0.000023</td>\n",
       "      <td>0.000031</td>\n",
       "      <td>191.116667</td>\n",
       "      <td>191.116667</td>\n",
       "      <td>0.000000</td>\n",
       "    </tr>\n",
       "    <tr>\n",
       "      <th>299</th>\n",
       "      <td>2</td>\n",
       "      <td>0.000114</td>\n",
       "      <td>0.333333</td>\n",
       "      <td>0.000000</td>\n",
       "      <td>0.000000</td>\n",
       "      <td>124.200000</td>\n",
       "      <td>124.200000</td>\n",
       "      <td>0.000000</td>\n",
       "    </tr>\n",
       "    <tr>\n",
       "      <th>191</th>\n",
       "      <td>2</td>\n",
       "      <td>0.005092</td>\n",
       "      <td>0.000000</td>\n",
       "      <td>0.007714</td>\n",
       "      <td>0.010896</td>\n",
       "      <td>346.666667</td>\n",
       "      <td>346.666667</td>\n",
       "      <td>0.000000</td>\n",
       "    </tr>\n",
       "    <tr>\n",
       "      <th>341</th>\n",
       "      <td>1</td>\n",
       "      <td>0.001316</td>\n",
       "      <td>0.034259</td>\n",
       "      <td>0.000094</td>\n",
       "      <td>0.000137</td>\n",
       "      <td>249.583333</td>\n",
       "      <td>249.583333</td>\n",
       "      <td>0.000000</td>\n",
       "    </tr>\n",
       "    <tr>\n",
       "      <th>383</th>\n",
       "      <td>2</td>\n",
       "      <td>0.003204</td>\n",
       "      <td>0.000000</td>\n",
       "      <td>0.000000</td>\n",
       "      <td>0.000001</td>\n",
       "      <td>204.966667</td>\n",
       "      <td>204.966667</td>\n",
       "      <td>0.000000</td>\n",
       "    </tr>\n",
       "  </tbody>\n",
       "</table>\n",
       "<p>73 rows × 8 columns</p>\n",
       "</div>"
      ],
      "text/plain": [
       "     totalCores  totalTasks  totalInputBytes  totalShuffleRead  \\\n",
       "130           1    0.000572         0.001109          0.000020   \n",
       "467           1    0.000973         0.000131          0.000000   \n",
       "391           2    0.000114         0.333333          0.000000   \n",
       "245           1    0.001316         0.034259          0.000094   \n",
       "176           1    0.005034         0.040878          0.127632   \n",
       "..          ...         ...              ...               ...   \n",
       "316           1    0.001259         0.027162          0.000023   \n",
       "299           2    0.000114         0.333333          0.000000   \n",
       "191           2    0.005092         0.000000          0.007714   \n",
       "341           1    0.001316         0.034259          0.000094   \n",
       "383           2    0.003204         0.000000          0.000000   \n",
       "\n",
       "     totalShuffleWrite  totalDuration  time_prediction  training_error  \n",
       "130           0.000027     114.483333       122.550000        8.066667  \n",
       "467           0.000000      76.133333        90.783333       14.650000  \n",
       "391           0.000000     124.200000       124.200000        0.000000  \n",
       "245           0.000137     249.583333       249.583333        0.000000  \n",
       "176           0.476208     615.366667       615.366667        0.000000  \n",
       "..                 ...            ...              ...             ...  \n",
       "316           0.000031     191.116667       191.116667        0.000000  \n",
       "299           0.000000     124.200000       124.200000        0.000000  \n",
       "191           0.010896     346.666667       346.666667        0.000000  \n",
       "341           0.000137     249.583333       249.583333        0.000000  \n",
       "383           0.000001     204.966667       204.966667        0.000000  \n",
       "\n",
       "[73 rows x 8 columns]"
      ]
     },
     "execution_count": 498,
     "metadata": {},
     "output_type": "execute_result"
    }
   ],
   "source": [
    "X_test"
   ]
  },
  {
   "cell_type": "code",
   "execution_count": 499,
   "metadata": {},
   "outputs": [
    {
     "data": {
      "image/png": "[encoded data removed]",
      "text/plain": [
       "<Figure size 864x360 with 1 Axes>"
      ]
     },
     "metadata": {
      "needs_background": "light"
     },
     "output_type": "display_data"
    }
   ],
   "source": [
    "import matplotlib.pyplot as mp\n",
    "mp.rcParams[\"figure.figsize\"] = [12, 5]\n",
    "mp.rcParams[\"figure.autolayout\"] = True\n",
    "\n",
    "#df = pd.DataFrame(dict(data=[2, 4, 1, 5, 9, 6, 0, 7]))\n",
    "fig, ax = mp.subplots()\n",
    "Train_Data_test_plot_decision = X_test.reset_index()\n",
    "\n",
    "Train_Data_test_plot_decision['totalDuration'].plot(kind='line', color='black', ms=10)\n",
    "\n",
    "Train_Data_test_plot_decision['time_prediction'].plot(kind='line',style=['-'], color='blue', ms=10)\n",
    "ax.legend(labels=['original time ', 'predicted'])\n",
    "\n",
    "\n",
    "mp.show()"
   ]
  },
  {
   "cell_type": "code",
   "execution_count": 500,
   "metadata": {},
   "outputs": [
    {
     "data": {
      "text/plain": [
       "<matplotlib.axes._subplots.AxesSubplot at 0x7f8ea6d7b510>"
      ]
     },
     "execution_count": 500,
     "metadata": {},
     "output_type": "execute_result"
    },
    {
     "data": {
      "image/png": "[encoded data removed]",
      "text/plain": [
       "<Figure size 864x360 with 1 Axes>"
      ]
     },
     "metadata": {
      "needs_background": "light"
     },
     "output_type": "display_data"
    }
   ],
   "source": [
    "Train_Data_test_plot_decision['training_error'].plot(kind='line', color='red', label= 'Training Error' )\n",
    "\n"
   ]
  },
  {
   "cell_type": "code",
   "execution_count": 501,
   "metadata": {
    "colab": {
     "base_uri": "https://localhost:8080/"
    },
    "executionInfo": {
     "elapsed": 364,
     "status": "ok",
     "timestamp": 1664350037496,
     "user": {
      "displayName": "diaa abo",
      "userId": "11943845526597913844"
     },
     "user_tz": -120
    },
    "id": "rE3TmQ3VG8Uh",
    "outputId": "c6943856-b8ef-4d12-a655-c37d08f0b9fe"
   },
   "outputs": [
    {
     "name": "stdout",
     "output_type": "stream",
     "text": [
      "Mean Absolute Error: 62.013698630136986\n",
      "Mean Squared Error: 36826.232876712325\n",
      "Root Mean Squared Error: 191.90162291317998\n"
     ]
    }
   ],
   "source": [
    "print('Mean Absolute Error:', metrics.mean_absolute_error(y_test, pred))\n",
    "print('Mean Squared Error:', metrics.mean_squared_error(y_test, pred))\n",
    "print('Root Mean Squared Error:', np.sqrt(metrics.mean_squared_error(y_test, pred)))"
   ]
  },
  {
   "cell_type": "code",
   "execution_count": 502,
   "metadata": {
    "executionInfo": {
     "elapsed": 217,
     "status": "ok",
     "timestamp": 1664350047942,
     "user": {
      "displayName": "diaa abo",
      "userId": "11943845526597913844"
     },
     "user_tz": -120
    },
    "id": "Myr2TrjByzG4"
   },
   "outputs": [],
   "source": [
    "\n",
    "from sklearn.metrics import mean_squared_error, mean_absolute_error\n",
    "\n",
    "\n"
   ]
  },
  {
   "cell_type": "code",
   "execution_count": 503,
   "metadata": {
    "colab": {
     "base_uri": "https://localhost:8080/",
     "height": 248
    },
    "executionInfo": {
     "elapsed": 3432,
     "status": "ok",
     "timestamp": 1664350139517,
     "user": {
      "displayName": "diaa abo",
      "userId": "11943845526597913844"
     },
     "user_tz": -120
    },
    "id": "8t0xXL8ZG8Uh",
    "outputId": "7579c35c-6efb-49ad-c76a-3f1fc66f842a"
   },
   "outputs": [
    {
     "data": {
      "image/png": "[encoded data removed]",
      "text/plain": [
       "<Figure size 864x360 with 1 Axes>"
      ]
     },
     "metadata": {
      "needs_background": "light"
     },
     "output_type": "display_data"
    }
   ],
   "source": [
    "tree.plot_tree(model);"
   ]
  },
  {
   "cell_type": "markdown",
   "metadata": {
    "id": "Iw57ZtxbG8Uh"
   },
   "source": [
    "# -----------------------------------------------------------------------------------------"
   ]
  },
  {
   "cell_type": "markdown",
   "metadata": {
    "id": "ctK2n9m9G8Ui"
   },
   "source": [
    "## next i am gonna try to use tpot library in order to figure out the best predection model based on our variables in the original data set:"
   ]
  },
  {
   "cell_type": "code",
   "execution_count": 204,
   "metadata": {
    "colab": {
     "base_uri": "https://localhost:8080/",
     "height": 345
    },
    "executionInfo": {
     "elapsed": 258,
     "status": "error",
     "timestamp": 1664185810943,
     "user": {
      "displayName": "diaa abo",
      "userId": "11943845526597913844"
     },
     "user_tz": -120
    },
    "id": "PyssXooCG8Ui",
    "outputId": "8787b816-d161-4c4a-ee4a-1b7df4ee29ca"
   },
   "outputs": [
    {
     "name": "stdout",
     "output_type": "stream",
     "text": [
      "Collecting package metadata (current_repodata.json): done\n",
      "Solving environment: done\n",
      "\n",
      "## Package Plan ##\n",
      "\n",
      "  environment location: /Users/diaaab/opt/anaconda3\n",
      "\n",
      "  added / updated specs:\n",
      "    - joblib\n",
      "    - numpy\n",
      "    - pandas\n",
      "    - pytorch\n",
      "    - scikit-learn\n",
      "    - scipy\n",
      "\n",
      "\n",
      "The following packages will be downloaded:\n",
      "\n",
      "    package                    |            build\n",
      "    ---------------------------|-----------------\n",
      "    conda-22.9.0               |   py37hecd8cb5_0         877 KB\n",
      "    ------------------------------------------------------------\n",
      "                                           Total:         877 KB\n",
      "\n",
      "The following packages will be UPDATED:\n",
      "\n",
      "  conda              conda-forge::conda-4.14.0-py37hf98548~ --> pkgs/main::conda-22.9.0-py37hecd8cb5_0\n",
      "\n",
      "\n",
      "\n",
      "Downloading and Extracting Packages\n",
      "conda-22.9.0         | 877 KB    | ##################################### | 100% \n",
      "Preparing transaction: done\n",
      "Verifying transaction: done\n",
      "Executing transaction: done\n",
      "Retrieving notices: ...working... done\n",
      "\n",
      "Note: you may need to restart the kernel to use updated packages.\n"
     ]
    }
   ],
   "source": [
    "conda install numpy scipy scikit-learn pandas joblib pytorch\n"
   ]
  },
  {
   "cell_type": "code",
   "execution_count": 205,
   "metadata": {
    "id": "3bgmLMWrG8Ui",
    "outputId": "7df4dbcf-f08f-4e76-a837-56d9ece3e89f"
   },
   "outputs": [
    {
     "name": "stdout",
     "output_type": "stream",
     "text": [
      "Collecting package metadata (current_repodata.json): done\n",
      "Solving environment: done\n",
      "\n",
      "## Package Plan ##\n",
      "\n",
      "  environment location: /Users/diaaab/opt/anaconda3\n",
      "\n",
      "  added / updated specs:\n",
      "    - tpot\n",
      "\n",
      "\n",
      "The following packages will be downloaded:\n",
      "\n",
      "    package                    |            build\n",
      "    ---------------------------|-----------------\n",
      "    conda-22.9.0               |   py37hf985489_1         973 KB  conda-forge\n",
      "    ------------------------------------------------------------\n",
      "                                           Total:         973 KB\n",
      "\n",
      "The following packages will be UPDATED:\n",
      "\n",
      "  conda              pkgs/main::conda-22.9.0-py37hecd8cb5_0 --> conda-forge::conda-22.9.0-py37hf985489_1 None\n",
      "\n",
      "\n",
      "\n",
      "Downloading and Extracting Packages\n",
      "conda-22.9.0         | 973 KB    | ##################################### | 100% \n",
      "Preparing transaction: done\n",
      "Verifying transaction: done\n",
      "Executing transaction: done\n",
      "Retrieving notices: ...working... done\n",
      "\n",
      "Note: you may need to restart the kernel to use updated packages.\n"
     ]
    }
   ],
   "source": [
    "conda install -c conda-forge tpot\n"
   ]
  },
  {
   "cell_type": "code",
   "execution_count": 504,
   "metadata": {},
   "outputs": [
    {
     "data": {
      "text/html": [
       "<div>\n",
       "<style scoped>\n",
       "    .dataframe tbody tr th:only-of-type {\n",
       "        vertical-align: middle;\n",
       "    }\n",
       "\n",
       "    .dataframe tbody tr th {\n",
       "        vertical-align: top;\n",
       "    }\n",
       "\n",
       "    .dataframe thead th {\n",
       "        text-align: right;\n",
       "    }\n",
       "</style>\n",
       "<table border=\"1\" class=\"dataframe\">\n",
       "  <thead>\n",
       "    <tr style=\"text-align: right;\">\n",
       "      <th></th>\n",
       "      <th>totalCores</th>\n",
       "      <th>totalTasks</th>\n",
       "      <th>totalInputBytes</th>\n",
       "      <th>totalShuffleRead</th>\n",
       "      <th>totalShuffleWrite</th>\n",
       "      <th>maxMemory</th>\n",
       "      <th>totalDuration</th>\n",
       "    </tr>\n",
       "  </thead>\n",
       "  <tbody>\n",
       "    <tr>\n",
       "      <th>1</th>\n",
       "      <td>2</td>\n",
       "      <td>0.008066</td>\n",
       "      <td>0.000000</td>\n",
       "      <td>0.012550</td>\n",
       "      <td>0.011084</td>\n",
       "      <td>0.647292</td>\n",
       "      <td>21757</td>\n",
       "    </tr>\n",
       "    <tr>\n",
       "      <th>2</th>\n",
       "      <td>2</td>\n",
       "      <td>0.004634</td>\n",
       "      <td>0.000000</td>\n",
       "      <td>0.004524</td>\n",
       "      <td>0.010772</td>\n",
       "      <td>0.647292</td>\n",
       "      <td>20817</td>\n",
       "    </tr>\n",
       "    <tr>\n",
       "      <th>3</th>\n",
       "      <td>2</td>\n",
       "      <td>0.005092</td>\n",
       "      <td>0.000000</td>\n",
       "      <td>0.007714</td>\n",
       "      <td>0.010896</td>\n",
       "      <td>0.647292</td>\n",
       "      <td>20800</td>\n",
       "    </tr>\n",
       "    <tr>\n",
       "      <th>5</th>\n",
       "      <td>2</td>\n",
       "      <td>0.008066</td>\n",
       "      <td>0.000000</td>\n",
       "      <td>0.012550</td>\n",
       "      <td>0.011084</td>\n",
       "      <td>0.647292</td>\n",
       "      <td>21757</td>\n",
       "    </tr>\n",
       "    <tr>\n",
       "      <th>6</th>\n",
       "      <td>2</td>\n",
       "      <td>0.004634</td>\n",
       "      <td>0.000000</td>\n",
       "      <td>0.004524</td>\n",
       "      <td>0.010772</td>\n",
       "      <td>0.647292</td>\n",
       "      <td>20817</td>\n",
       "    </tr>\n",
       "    <tr>\n",
       "      <th>...</th>\n",
       "      <td>...</td>\n",
       "      <td>...</td>\n",
       "      <td>...</td>\n",
       "      <td>...</td>\n",
       "      <td>...</td>\n",
       "      <td>...</td>\n",
       "      <td>...</td>\n",
       "    </tr>\n",
       "    <tr>\n",
       "      <th>461</th>\n",
       "      <td>1</td>\n",
       "      <td>0.001316</td>\n",
       "      <td>0.005555</td>\n",
       "      <td>0.000086</td>\n",
       "      <td>0.000094</td>\n",
       "      <td>0.118280</td>\n",
       "      <td>16102</td>\n",
       "    </tr>\n",
       "    <tr>\n",
       "      <th>462</th>\n",
       "      <td>1</td>\n",
       "      <td>0.001201</td>\n",
       "      <td>0.032732</td>\n",
       "      <td>0.000012</td>\n",
       "      <td>0.000036</td>\n",
       "      <td>0.118280</td>\n",
       "      <td>20120</td>\n",
       "    </tr>\n",
       "    <tr>\n",
       "      <th>464</th>\n",
       "      <td>1</td>\n",
       "      <td>0.001545</td>\n",
       "      <td>0.000000</td>\n",
       "      <td>0.006025</td>\n",
       "      <td>0.019879</td>\n",
       "      <td>0.118280</td>\n",
       "      <td>21108</td>\n",
       "    </tr>\n",
       "    <tr>\n",
       "      <th>465</th>\n",
       "      <td>1</td>\n",
       "      <td>0.004863</td>\n",
       "      <td>0.008444</td>\n",
       "      <td>0.053365</td>\n",
       "      <td>0.058601</td>\n",
       "      <td>0.118280</td>\n",
       "      <td>24126</td>\n",
       "    </tr>\n",
       "    <tr>\n",
       "      <th>467</th>\n",
       "      <td>1</td>\n",
       "      <td>0.000973</td>\n",
       "      <td>0.000131</td>\n",
       "      <td>0.000000</td>\n",
       "      <td>0.000000</td>\n",
       "      <td>0.118280</td>\n",
       "      <td>4568</td>\n",
       "    </tr>\n",
       "  </tbody>\n",
       "</table>\n",
       "<p>241 rows × 7 columns</p>\n",
       "</div>"
      ],
      "text/plain": [
       "     totalCores  totalTasks  totalInputBytes  totalShuffleRead  \\\n",
       "1             2    0.008066         0.000000          0.012550   \n",
       "2             2    0.004634         0.000000          0.004524   \n",
       "3             2    0.005092         0.000000          0.007714   \n",
       "5             2    0.008066         0.000000          0.012550   \n",
       "6             2    0.004634         0.000000          0.004524   \n",
       "..          ...         ...              ...               ...   \n",
       "461           1    0.001316         0.005555          0.000086   \n",
       "462           1    0.001201         0.032732          0.000012   \n",
       "464           1    0.001545         0.000000          0.006025   \n",
       "465           1    0.004863         0.008444          0.053365   \n",
       "467           1    0.000973         0.000131          0.000000   \n",
       "\n",
       "     totalShuffleWrite  maxMemory  totalDuration  \n",
       "1             0.011084   0.647292          21757  \n",
       "2             0.010772   0.647292          20817  \n",
       "3             0.010896   0.647292          20800  \n",
       "5             0.011084   0.647292          21757  \n",
       "6             0.010772   0.647292          20817  \n",
       "..                 ...        ...            ...  \n",
       "461           0.000094   0.118280          16102  \n",
       "462           0.000036   0.118280          20120  \n",
       "464           0.019879   0.118280          21108  \n",
       "465           0.058601   0.118280          24126  \n",
       "467           0.000000   0.118280           4568  \n",
       "\n",
       "[241 rows x 7 columns]"
      ]
     },
     "execution_count": 504,
     "metadata": {},
     "output_type": "execute_result"
    }
   ],
   "source": [
    "tpot_max_scaled\n"
   ]
  },
  {
   "cell_type": "markdown",
   "metadata": {},
   "source": [
    "as we can see from the previous data fram, after deleting the duplicated rows, in order to get better performance from our model."
   ]
  },
  {
   "cell_type": "code",
   "execution_count": 506,
   "metadata": {
    "executionInfo": {
     "elapsed": 275,
     "status": "ok",
     "timestamp": 1664358571069,
     "user": {
      "displayName": "diaa abo",
      "userId": "11943845526597913844"
     },
     "user_tz": -120
    },
    "id": "lwntvBGXG8Ui"
   },
   "outputs": [],
   "source": [
    "inputs2=tpot_max_scaled.drop(['totalDuration','maxMemory'],axis='columns')\n",
    "target2=tpot_max_scaled['totalDuration']"
   ]
  },
  {
   "cell_type": "code",
   "execution_count": 507,
   "metadata": {
    "colab": {
     "base_uri": "https://localhost:8080/",
     "height": 424
    },
    "executionInfo": {
     "elapsed": 599,
     "status": "ok",
     "timestamp": 1664350231638,
     "user": {
      "displayName": "diaa abo",
      "userId": "11943845526597913844"
     },
     "user_tz": -120
    },
    "id": "7znpzPItG8Ui",
    "outputId": "c8210cdf-f12b-4e23-af9c-0984d6c7d390"
   },
   "outputs": [
    {
     "data": {
      "text/html": [
       "<div>\n",
       "<style scoped>\n",
       "    .dataframe tbody tr th:only-of-type {\n",
       "        vertical-align: middle;\n",
       "    }\n",
       "\n",
       "    .dataframe tbody tr th {\n",
       "        vertical-align: top;\n",
       "    }\n",
       "\n",
       "    .dataframe thead th {\n",
       "        text-align: right;\n",
       "    }\n",
       "</style>\n",
       "<table border=\"1\" class=\"dataframe\">\n",
       "  <thead>\n",
       "    <tr style=\"text-align: right;\">\n",
       "      <th></th>\n",
       "      <th>totalCores</th>\n",
       "      <th>totalTasks</th>\n",
       "      <th>totalInputBytes</th>\n",
       "      <th>totalShuffleRead</th>\n",
       "      <th>totalShuffleWrite</th>\n",
       "    </tr>\n",
       "  </thead>\n",
       "  <tbody>\n",
       "    <tr>\n",
       "      <th>1</th>\n",
       "      <td>2</td>\n",
       "      <td>0.008066</td>\n",
       "      <td>0.000000</td>\n",
       "      <td>0.012550</td>\n",
       "      <td>0.011084</td>\n",
       "    </tr>\n",
       "    <tr>\n",
       "      <th>2</th>\n",
       "      <td>2</td>\n",
       "      <td>0.004634</td>\n",
       "      <td>0.000000</td>\n",
       "      <td>0.004524</td>\n",
       "      <td>0.010772</td>\n",
       "    </tr>\n",
       "    <tr>\n",
       "      <th>3</th>\n",
       "      <td>2</td>\n",
       "      <td>0.005092</td>\n",
       "      <td>0.000000</td>\n",
       "      <td>0.007714</td>\n",
       "      <td>0.010896</td>\n",
       "    </tr>\n",
       "    <tr>\n",
       "      <th>5</th>\n",
       "      <td>2</td>\n",
       "      <td>0.008066</td>\n",
       "      <td>0.000000</td>\n",
       "      <td>0.012550</td>\n",
       "      <td>0.011084</td>\n",
       "    </tr>\n",
       "    <tr>\n",
       "      <th>6</th>\n",
       "      <td>2</td>\n",
       "      <td>0.004634</td>\n",
       "      <td>0.000000</td>\n",
       "      <td>0.004524</td>\n",
       "      <td>0.010772</td>\n",
       "    </tr>\n",
       "    <tr>\n",
       "      <th>...</th>\n",
       "      <td>...</td>\n",
       "      <td>...</td>\n",
       "      <td>...</td>\n",
       "      <td>...</td>\n",
       "      <td>...</td>\n",
       "    </tr>\n",
       "    <tr>\n",
       "      <th>461</th>\n",
       "      <td>1</td>\n",
       "      <td>0.001316</td>\n",
       "      <td>0.005555</td>\n",
       "      <td>0.000086</td>\n",
       "      <td>0.000094</td>\n",
       "    </tr>\n",
       "    <tr>\n",
       "      <th>462</th>\n",
       "      <td>1</td>\n",
       "      <td>0.001201</td>\n",
       "      <td>0.032732</td>\n",
       "      <td>0.000012</td>\n",
       "      <td>0.000036</td>\n",
       "    </tr>\n",
       "    <tr>\n",
       "      <th>464</th>\n",
       "      <td>1</td>\n",
       "      <td>0.001545</td>\n",
       "      <td>0.000000</td>\n",
       "      <td>0.006025</td>\n",
       "      <td>0.019879</td>\n",
       "    </tr>\n",
       "    <tr>\n",
       "      <th>465</th>\n",
       "      <td>1</td>\n",
       "      <td>0.004863</td>\n",
       "      <td>0.008444</td>\n",
       "      <td>0.053365</td>\n",
       "      <td>0.058601</td>\n",
       "    </tr>\n",
       "    <tr>\n",
       "      <th>467</th>\n",
       "      <td>1</td>\n",
       "      <td>0.000973</td>\n",
       "      <td>0.000131</td>\n",
       "      <td>0.000000</td>\n",
       "      <td>0.000000</td>\n",
       "    </tr>\n",
       "  </tbody>\n",
       "</table>\n",
       "<p>241 rows × 5 columns</p>\n",
       "</div>"
      ],
      "text/plain": [
       "     totalCores  totalTasks  totalInputBytes  totalShuffleRead  \\\n",
       "1             2    0.008066         0.000000          0.012550   \n",
       "2             2    0.004634         0.000000          0.004524   \n",
       "3             2    0.005092         0.000000          0.007714   \n",
       "5             2    0.008066         0.000000          0.012550   \n",
       "6             2    0.004634         0.000000          0.004524   \n",
       "..          ...         ...              ...               ...   \n",
       "461           1    0.001316         0.005555          0.000086   \n",
       "462           1    0.001201         0.032732          0.000012   \n",
       "464           1    0.001545         0.000000          0.006025   \n",
       "465           1    0.004863         0.008444          0.053365   \n",
       "467           1    0.000973         0.000131          0.000000   \n",
       "\n",
       "     totalShuffleWrite  \n",
       "1             0.011084  \n",
       "2             0.010772  \n",
       "3             0.010896  \n",
       "5             0.011084  \n",
       "6             0.010772  \n",
       "..                 ...  \n",
       "461           0.000094  \n",
       "462           0.000036  \n",
       "464           0.019879  \n",
       "465           0.058601  \n",
       "467           0.000000  \n",
       "\n",
       "[241 rows x 5 columns]"
      ]
     },
     "execution_count": 507,
     "metadata": {},
     "output_type": "execute_result"
    }
   ],
   "source": [
    "inputs2"
   ]
  },
  {
   "cell_type": "code",
   "execution_count": 508,
   "metadata": {
    "executionInfo": {
     "elapsed": 267,
     "status": "ok",
     "timestamp": 1664350235297,
     "user": {
      "displayName": "diaa abo",
      "userId": "11943845526597913844"
     },
     "user_tz": -120
    },
    "id": "MLHZ3FkBG8Uj"
   },
   "outputs": [
    {
     "name": "stdout",
     "output_type": "stream",
     "text": [
      "(241, 5)\n",
      "(241,)\n"
     ]
    }
   ],
   "source": [
    "print(inputs2.shape)\n",
    "print(target2.shape)"
   ]
  },
  {
   "cell_type": "code",
   "execution_count": 509,
   "metadata": {
    "colab": {
     "base_uri": "https://localhost:8080/",
     "height": 339
    },
    "executionInfo": {
     "elapsed": 8,
     "status": "error",
     "timestamp": 1664350235748,
     "user": {
      "displayName": "diaa abo",
      "userId": "11943845526597913844"
     },
     "user_tz": -120
    },
    "id": "xTxpeCqRG8Uj",
    "outputId": "c91de973-ce89-42aa-f504-beebb0e9f615"
   },
   "outputs": [],
   "source": [
    "from tpot import TPOTClassifier\n",
    "from sklearn.datasets import load_digits\n",
    "from sklearn.model_selection import train_test_split"
   ]
  },
  {
   "cell_type": "code",
   "execution_count": 510,
   "metadata": {},
   "outputs": [],
   "source": [
    "# define evaluation procedure\n",
    "from sklearn.model_selection import RepeatedKFold\n",
    "cv = RepeatedKFold(n_splits=10, n_repeats=3, random_state=1)"
   ]
  },
  {
   "cell_type": "code",
   "execution_count": 511,
   "metadata": {
    "executionInfo": {
     "elapsed": 656,
     "status": "ok",
     "timestamp": 1664350242631,
     "user": {
      "displayName": "diaa abo",
      "userId": "11943845526597913844"
     },
     "user_tz": -120
    },
    "id": "nESV-tVwNOQV"
   },
   "outputs": [],
   "source": [
    "X_train, X_test, y_train, y_test = train_test_split(inputs2, target2,\n",
    "                                                    train_size=0.80, test_size=0.20)"
   ]
  },
  {
   "cell_type": "markdown",
   "metadata": {},
   "source": [
    "trying tpotRegressor"
   ]
  },
  {
   "cell_type": "code",
   "execution_count": 512,
   "metadata": {},
   "outputs": [],
   "source": [
    "from tpot import TPOTRegressor\n",
    "tpot_model = TPOTRegressor(generations=5, population_size=50, scoring='neg_mean_absolute_error', cv=cv, verbosity=2, random_state=1, n_jobs=-1)\n"
   ]
  },
  {
   "cell_type": "code",
   "execution_count": 210,
   "metadata": {},
   "outputs": [
    {
     "name": "stderr",
     "output_type": "stream",
     "text": [
      "Version 0.11.6.post3 of tpot is outdated. Version 0.11.7 was released Wednesday January 06, 2021.\n"
     ]
    },
    {
     "data": {
      "application/vnd.jupyter.widget-view+json": {
       "model_id": "",
       "version_major": 2,
       "version_minor": 0
      },
      "text/plain": [
       "HBox(children=(FloatProgress(value=0.0, description='Optimization Progress', max=300.0, style=ProgressStyle(de…"
      ]
     },
     "metadata": {},
     "output_type": "display_data"
    },
    {
     "name": "stdout",
     "output_type": "stream",
     "text": [
      "\n",
      "Generation 1 - Current best internal CV score: -44.91575093882581\n",
      "\n",
      "Generation 2 - Current best internal CV score: -44.91575093882581\n",
      "\n",
      "Generation 3 - Current best internal CV score: -44.57431578947369\n",
      "\n",
      "Generation 4 - Current best internal CV score: -44.57431578947369\n",
      "\n",
      "Generation 5 - Current best internal CV score: -44.225005847953206\n",
      "\n",
      "Best pipeline: KNeighborsRegressor(ElasticNetCV(CombineDFs(input_matrix, input_matrix), l1_ratio=0.4, tol=0.1), n_neighbors=15, p=1, weights=distance)\n"
     ]
    }
   ],
   "source": [
    "tpot_model.fit(X_train, y_train)\n",
    "tpot_model.export('time_orediction_best_model.py')"
   ]
  },
  {
   "cell_type": "code",
   "execution_count": 513,
   "metadata": {
    "executionInfo": {
     "elapsed": 253,
     "status": "ok",
     "timestamp": 1664358578781,
     "user": {
      "displayName": "diaa abo",
      "userId": "11943845526597913844"
     },
     "user_tz": -120
    },
    "id": "B8O1zrk-G8Uj"
   },
   "outputs": [],
   "source": [
    "X_train, X_test, y_train, y_test = train_test_split(inputs2, target2,\n",
    "                                                    train_size=0.75, test_size=0.25)"
   ]
  },
  {
   "cell_type": "code",
   "execution_count": 514,
   "metadata": {
    "colab": {
     "base_uri": "https://localhost:8080/",
     "height": 424
    },
    "executionInfo": {
     "elapsed": 286,
     "status": "ok",
     "timestamp": 1664358580285,
     "user": {
      "displayName": "diaa abo",
      "userId": "11943845526597913844"
     },
     "user_tz": -120
    },
    "id": "pXvIMSaXG8Uj",
    "outputId": "0a415bd9-dea8-468f-8f57-fc4cca7d180c"
   },
   "outputs": [
    {
     "data": {
      "text/html": [
       "<div>\n",
       "<style scoped>\n",
       "    .dataframe tbody tr th:only-of-type {\n",
       "        vertical-align: middle;\n",
       "    }\n",
       "\n",
       "    .dataframe tbody tr th {\n",
       "        vertical-align: top;\n",
       "    }\n",
       "\n",
       "    .dataframe thead th {\n",
       "        text-align: right;\n",
       "    }\n",
       "</style>\n",
       "<table border=\"1\" class=\"dataframe\">\n",
       "  <thead>\n",
       "    <tr style=\"text-align: right;\">\n",
       "      <th></th>\n",
       "      <th>totalCores</th>\n",
       "      <th>totalTasks</th>\n",
       "      <th>totalInputBytes</th>\n",
       "      <th>totalShuffleRead</th>\n",
       "      <th>totalShuffleWrite</th>\n",
       "    </tr>\n",
       "  </thead>\n",
       "  <tbody>\n",
       "    <tr>\n",
       "      <th>291</th>\n",
       "      <td>2</td>\n",
       "      <td>0.003204</td>\n",
       "      <td>0.000000</td>\n",
       "      <td>0.000000</td>\n",
       "      <td>0.000001</td>\n",
       "    </tr>\n",
       "    <tr>\n",
       "      <th>63</th>\n",
       "      <td>1</td>\n",
       "      <td>0.000572</td>\n",
       "      <td>0.004303</td>\n",
       "      <td>0.000062</td>\n",
       "      <td>0.000082</td>\n",
       "    </tr>\n",
       "    <tr>\n",
       "      <th>90</th>\n",
       "      <td>1</td>\n",
       "      <td>0.001201</td>\n",
       "      <td>0.032732</td>\n",
       "      <td>0.000012</td>\n",
       "      <td>0.000036</td>\n",
       "    </tr>\n",
       "    <tr>\n",
       "      <th>236</th>\n",
       "      <td>1</td>\n",
       "      <td>0.006522</td>\n",
       "      <td>0.058991</td>\n",
       "      <td>1.000000</td>\n",
       "      <td>1.000000</td>\n",
       "    </tr>\n",
       "    <tr>\n",
       "      <th>441</th>\n",
       "      <td>1</td>\n",
       "      <td>0.000973</td>\n",
       "      <td>0.000131</td>\n",
       "      <td>0.000000</td>\n",
       "      <td>0.000000</td>\n",
       "    </tr>\n",
       "    <tr>\n",
       "      <th>...</th>\n",
       "      <td>...</td>\n",
       "      <td>...</td>\n",
       "      <td>...</td>\n",
       "      <td>...</td>\n",
       "      <td>...</td>\n",
       "    </tr>\n",
       "    <tr>\n",
       "      <th>437</th>\n",
       "      <td>2</td>\n",
       "      <td>0.557952</td>\n",
       "      <td>0.000000</td>\n",
       "      <td>0.011873</td>\n",
       "      <td>0.016885</td>\n",
       "    </tr>\n",
       "    <tr>\n",
       "      <th>145</th>\n",
       "      <td>1</td>\n",
       "      <td>0.007494</td>\n",
       "      <td>0.376914</td>\n",
       "      <td>0.142050</td>\n",
       "      <td>0.684849</td>\n",
       "    </tr>\n",
       "    <tr>\n",
       "      <th>265</th>\n",
       "      <td>1</td>\n",
       "      <td>0.000973</td>\n",
       "      <td>0.000131</td>\n",
       "      <td>0.000000</td>\n",
       "      <td>0.000000</td>\n",
       "    </tr>\n",
       "    <tr>\n",
       "      <th>438</th>\n",
       "      <td>2</td>\n",
       "      <td>0.569622</td>\n",
       "      <td>0.000000</td>\n",
       "      <td>0.014920</td>\n",
       "      <td>0.016973</td>\n",
       "    </tr>\n",
       "    <tr>\n",
       "      <th>432</th>\n",
       "      <td>1</td>\n",
       "      <td>0.002860</td>\n",
       "      <td>0.116450</td>\n",
       "      <td>0.000239</td>\n",
       "      <td>0.000303</td>\n",
       "    </tr>\n",
       "  </tbody>\n",
       "</table>\n",
       "<p>61 rows × 5 columns</p>\n",
       "</div>"
      ],
      "text/plain": [
       "     totalCores  totalTasks  totalInputBytes  totalShuffleRead  \\\n",
       "291           2    0.003204         0.000000          0.000000   \n",
       "63            1    0.000572         0.004303          0.000062   \n",
       "90            1    0.001201         0.032732          0.000012   \n",
       "236           1    0.006522         0.058991          1.000000   \n",
       "441           1    0.000973         0.000131          0.000000   \n",
       "..          ...         ...              ...               ...   \n",
       "437           2    0.557952         0.000000          0.011873   \n",
       "145           1    0.007494         0.376914          0.142050   \n",
       "265           1    0.000973         0.000131          0.000000   \n",
       "438           2    0.569622         0.000000          0.014920   \n",
       "432           1    0.002860         0.116450          0.000239   \n",
       "\n",
       "     totalShuffleWrite  \n",
       "291           0.000001  \n",
       "63            0.000082  \n",
       "90            0.000036  \n",
       "236           1.000000  \n",
       "441           0.000000  \n",
       "..                 ...  \n",
       "437           0.016885  \n",
       "145           0.684849  \n",
       "265           0.000000  \n",
       "438           0.016973  \n",
       "432           0.000303  \n",
       "\n",
       "[61 rows x 5 columns]"
      ]
     },
     "execution_count": 514,
     "metadata": {},
     "output_type": "execute_result"
    }
   ],
   "source": [
    "X_test"
   ]
  },
  {
   "cell_type": "markdown",
   "metadata": {
    "id": "iRDN-OBjG8Uk"
   },
   "source": [
    "trying to KNeighborsRegressor on our data to see the prediction acurracy "
   ]
  },
  {
   "cell_type": "code",
   "execution_count": 515,
   "metadata": {
    "executionInfo": {
     "elapsed": 258,
     "status": "ok",
     "timestamp": 1664358586437,
     "user": {
      "displayName": "diaa abo",
      "userId": "11943845526597913844"
     },
     "user_tz": -120
    },
    "id": "pTUDBBYpG8Uk"
   },
   "outputs": [],
   "source": [
    "X_KNeighborsRegressor = X_train\n",
    "Y_KNeighborsRegressor = y_train"
   ]
  },
  {
   "cell_type": "markdown",
   "metadata": {
    "id": "G6XexvOkAaGk"
   },
   "source": [
    "trying first with number of kneighbors = 3 "
   ]
  },
  {
   "cell_type": "code",
   "execution_count": 516,
   "metadata": {
    "colab": {
     "base_uri": "https://localhost:8080/"
    },
    "executionInfo": {
     "elapsed": 326,
     "status": "ok",
     "timestamp": 1664358590998,
     "user": {
      "displayName": "diaa abo",
      "userId": "11943845526597913844"
     },
     "user_tz": -120
    },
    "id": "mizsSXVTG8Uk",
    "outputId": "f049f317-af48-4c21-d139-5adf4654ffef"
   },
   "outputs": [
    {
     "data": {
      "text/plain": [
       "KNeighborsRegressor(algorithm='auto', leaf_size=30, metric='minkowski',\n",
       "                    metric_params=None, n_jobs=None, n_neighbors=3, p=2,\n",
       "                    weights='uniform')"
      ]
     },
     "execution_count": 516,
     "metadata": {},
     "output_type": "execute_result"
    }
   ],
   "source": [
    "from sklearn.neighbors import KNeighborsRegressor\n",
    "neigh = KNeighborsRegressor(n_neighbors=3)\n",
    "neigh.fit(X_KNeighborsRegressor, Y_KNeighborsRegressor)"
   ]
  },
  {
   "cell_type": "code",
   "execution_count": 517,
   "metadata": {
    "executionInfo": {
     "elapsed": 297,
     "status": "ok",
     "timestamp": 1664358593149,
     "user": {
      "displayName": "diaa abo",
      "userId": "11943845526597913844"
     },
     "user_tz": -120
    },
    "id": "C1Lx7l_PG8Uk"
   },
   "outputs": [],
   "source": [
    "predected = (neigh.predict(X_test))\n",
    "\n",
    "#print(neigh.predict_proba([[0.9]]))\n",
    "\n"
   ]
  },
  {
   "cell_type": "code",
   "execution_count": 518,
   "metadata": {
    "colab": {
     "base_uri": "https://localhost:8080/",
     "height": 424
    },
    "executionInfo": {
     "elapsed": 258,
     "status": "ok",
     "timestamp": 1664358599162,
     "user": {
      "displayName": "diaa abo",
      "userId": "11943845526597913844"
     },
     "user_tz": -120
    },
    "id": "DUuhQ7YcG8Uk",
    "outputId": "2a6a5c13-501d-4e76-b51f-f30563f88708"
   },
   "outputs": [
    {
     "name": "stderr",
     "output_type": "stream",
     "text": [
      "/Users/diaaab/opt/anaconda3/lib/python3.7/site-packages/ipykernel_launcher.py:2: SettingWithCopyWarning: \n",
      "A value is trying to be set on a copy of a slice from a DataFrame.\n",
      "Try using .loc[row_indexer,col_indexer] = value instead\n",
      "\n",
      "See the caveats in the documentation: https://pandas.pydata.org/pandas-docs/stable/user_guide/indexing.html#returning-a-view-versus-a-copy\n",
      "  \n",
      "/Users/diaaab/opt/anaconda3/lib/python3.7/site-packages/ipykernel_launcher.py:3: SettingWithCopyWarning: \n",
      "A value is trying to be set on a copy of a slice from a DataFrame.\n",
      "Try using .loc[row_indexer,col_indexer] = value instead\n",
      "\n",
      "See the caveats in the documentation: https://pandas.pydata.org/pandas-docs/stable/user_guide/indexing.html#returning-a-view-versus-a-copy\n",
      "  This is separate from the ipykernel package so we can avoid doing imports until\n"
     ]
    },
    {
     "data": {
      "text/html": [
       "<div>\n",
       "<style scoped>\n",
       "    .dataframe tbody tr th:only-of-type {\n",
       "        vertical-align: middle;\n",
       "    }\n",
       "\n",
       "    .dataframe tbody tr th {\n",
       "        vertical-align: top;\n",
       "    }\n",
       "\n",
       "    .dataframe thead th {\n",
       "        text-align: right;\n",
       "    }\n",
       "</style>\n",
       "<table border=\"1\" class=\"dataframe\">\n",
       "  <thead>\n",
       "    <tr style=\"text-align: right;\">\n",
       "      <th></th>\n",
       "      <th>totalCores</th>\n",
       "      <th>totalTasks</th>\n",
       "      <th>totalInputBytes</th>\n",
       "      <th>totalShuffleRead</th>\n",
       "      <th>totalShuffleWrite</th>\n",
       "      <th>totalDuration</th>\n",
       "      <th>prediction</th>\n",
       "    </tr>\n",
       "  </thead>\n",
       "  <tbody>\n",
       "    <tr>\n",
       "      <th>291</th>\n",
       "      <td>2</td>\n",
       "      <td>0.003204</td>\n",
       "      <td>0.000000</td>\n",
       "      <td>0.000000</td>\n",
       "      <td>0.000001</td>\n",
       "      <td>12298</td>\n",
       "      <td>12298.0</td>\n",
       "    </tr>\n",
       "    <tr>\n",
       "      <th>63</th>\n",
       "      <td>1</td>\n",
       "      <td>0.000572</td>\n",
       "      <td>0.004303</td>\n",
       "      <td>0.000062</td>\n",
       "      <td>0.000082</td>\n",
       "      <td>6784</td>\n",
       "      <td>6784.0</td>\n",
       "    </tr>\n",
       "    <tr>\n",
       "      <th>90</th>\n",
       "      <td>1</td>\n",
       "      <td>0.001201</td>\n",
       "      <td>0.032732</td>\n",
       "      <td>0.000012</td>\n",
       "      <td>0.000036</td>\n",
       "      <td>20120</td>\n",
       "      <td>20120.0</td>\n",
       "    </tr>\n",
       "    <tr>\n",
       "      <th>236</th>\n",
       "      <td>1</td>\n",
       "      <td>0.006522</td>\n",
       "      <td>0.058991</td>\n",
       "      <td>1.000000</td>\n",
       "      <td>1.000000</td>\n",
       "      <td>38832</td>\n",
       "      <td>38832.0</td>\n",
       "    </tr>\n",
       "    <tr>\n",
       "      <th>441</th>\n",
       "      <td>1</td>\n",
       "      <td>0.000973</td>\n",
       "      <td>0.000131</td>\n",
       "      <td>0.000000</td>\n",
       "      <td>0.000000</td>\n",
       "      <td>5735</td>\n",
       "      <td>4568.0</td>\n",
       "    </tr>\n",
       "    <tr>\n",
       "      <th>...</th>\n",
       "      <td>...</td>\n",
       "      <td>...</td>\n",
       "      <td>...</td>\n",
       "      <td>...</td>\n",
       "      <td>...</td>\n",
       "      <td>...</td>\n",
       "      <td>...</td>\n",
       "    </tr>\n",
       "    <tr>\n",
       "      <th>437</th>\n",
       "      <td>2</td>\n",
       "      <td>0.557952</td>\n",
       "      <td>0.000000</td>\n",
       "      <td>0.011873</td>\n",
       "      <td>0.016885</td>\n",
       "      <td>318229</td>\n",
       "      <td>318229.0</td>\n",
       "    </tr>\n",
       "    <tr>\n",
       "      <th>145</th>\n",
       "      <td>1</td>\n",
       "      <td>0.007494</td>\n",
       "      <td>0.376914</td>\n",
       "      <td>0.142050</td>\n",
       "      <td>0.684849</td>\n",
       "      <td>36375</td>\n",
       "      <td>36375.0</td>\n",
       "    </tr>\n",
       "    <tr>\n",
       "      <th>265</th>\n",
       "      <td>1</td>\n",
       "      <td>0.000973</td>\n",
       "      <td>0.000131</td>\n",
       "      <td>0.000000</td>\n",
       "      <td>0.000000</td>\n",
       "      <td>5763</td>\n",
       "      <td>4568.0</td>\n",
       "    </tr>\n",
       "    <tr>\n",
       "      <th>438</th>\n",
       "      <td>2</td>\n",
       "      <td>0.569622</td>\n",
       "      <td>0.000000</td>\n",
       "      <td>0.014920</td>\n",
       "      <td>0.016973</td>\n",
       "      <td>323840</td>\n",
       "      <td>323840.0</td>\n",
       "    </tr>\n",
       "    <tr>\n",
       "      <th>432</th>\n",
       "      <td>1</td>\n",
       "      <td>0.002860</td>\n",
       "      <td>0.116450</td>\n",
       "      <td>0.000239</td>\n",
       "      <td>0.000303</td>\n",
       "      <td>8239</td>\n",
       "      <td>8239.0</td>\n",
       "    </tr>\n",
       "  </tbody>\n",
       "</table>\n",
       "<p>61 rows × 7 columns</p>\n",
       "</div>"
      ],
      "text/plain": [
       "     totalCores  totalTasks  totalInputBytes  totalShuffleRead  \\\n",
       "291           2    0.003204         0.000000          0.000000   \n",
       "63            1    0.000572         0.004303          0.000062   \n",
       "90            1    0.001201         0.032732          0.000012   \n",
       "236           1    0.006522         0.058991          1.000000   \n",
       "441           1    0.000973         0.000131          0.000000   \n",
       "..          ...         ...              ...               ...   \n",
       "437           2    0.557952         0.000000          0.011873   \n",
       "145           1    0.007494         0.376914          0.142050   \n",
       "265           1    0.000973         0.000131          0.000000   \n",
       "438           2    0.569622         0.000000          0.014920   \n",
       "432           1    0.002860         0.116450          0.000239   \n",
       "\n",
       "     totalShuffleWrite  totalDuration  prediction  \n",
       "291           0.000001          12298     12298.0  \n",
       "63            0.000082           6784      6784.0  \n",
       "90            0.000036          20120     20120.0  \n",
       "236           1.000000          38832     38832.0  \n",
       "441           0.000000           5735      4568.0  \n",
       "..                 ...            ...         ...  \n",
       "437           0.016885         318229    318229.0  \n",
       "145           0.684849          36375     36375.0  \n",
       "265           0.000000           5763      4568.0  \n",
       "438           0.016973         323840    323840.0  \n",
       "432           0.000303           8239      8239.0  \n",
       "\n",
       "[61 rows x 7 columns]"
      ]
     },
     "execution_count": 518,
     "metadata": {},
     "output_type": "execute_result"
    }
   ],
   "source": [
    "KNeighbors_df = X_test \n",
    "KNeighbors_df['totalDuration'] = y_test\n",
    "KNeighbors_df['prediction'] = predected\n",
    "\n",
    "KNeighbors_df"
   ]
  },
  {
   "cell_type": "code",
   "execution_count": 519,
   "metadata": {},
   "outputs": [
    {
     "name": "stderr",
     "output_type": "stream",
     "text": [
      "/Users/diaaab/opt/anaconda3/lib/python3.7/site-packages/ipykernel_launcher.py:1: SettingWithCopyWarning: \n",
      "A value is trying to be set on a copy of a slice from a DataFrame.\n",
      "Try using .loc[row_indexer,col_indexer] = value instead\n",
      "\n",
      "See the caveats in the documentation: https://pandas.pydata.org/pandas-docs/stable/user_guide/indexing.html#returning-a-view-versus-a-copy\n",
      "  \"\"\"Entry point for launching an IPython kernel.\n"
     ]
    }
   ],
   "source": [
    "KNeighbors_df[\"training_error\"]=abs(KNeighbors_df[\"totalDuration\"]-KNeighbors_df[\"prediction\"])\n",
    "\n"
   ]
  },
  {
   "cell_type": "code",
   "execution_count": 520,
   "metadata": {
    "colab": {
     "base_uri": "https://localhost:8080/"
    },
    "executionInfo": {
     "elapsed": 361,
     "status": "ok",
     "timestamp": 1664358604878,
     "user": {
      "displayName": "diaa abo",
      "userId": "11943845526597913844"
     },
     "user_tz": -120
    },
    "id": "DfNdWdP6G8Uk",
    "outputId": "b9f9868f-c7be-4191-bf25-aea7f4eb2daa"
   },
   "outputs": [
    {
     "name": "stdout",
     "output_type": "stream",
     "text": [
      "Mean Absolute Error: 413.2568306010929\n",
      "Mean Squared Error: 869682.8123861569\n",
      "Root Mean Squared Error: 932.5678594001387\n"
     ]
    }
   ],
   "source": [
    "from sklearn import metrics\n",
    "print('Mean Absolute Error:', metrics.mean_absolute_error(y_test, predected))\n",
    "print('Mean Squared Error:', metrics.mean_squared_error(y_test, predected))\n",
    "print('Root Mean Squared Error:', np.sqrt(metrics.mean_squared_error(y_test, predected)))"
   ]
  },
  {
   "cell_type": "code",
   "execution_count": 521,
   "metadata": {
    "id": "XMtUvCXVg7Go"
   },
   "outputs": [
    {
     "data": {
      "image/png": "[encoded data removed]",
      "text/plain": [
       "<Figure size 864x360 with 1 Axes>"
      ]
     },
     "metadata": {
      "needs_background": "light"
     },
     "output_type": "display_data"
    }
   ],
   "source": [
    "import matplotlib.pyplot as mp\n",
    "mp.rcParams[\"figure.figsize\"] = [12, 5]\n",
    "mp.rcParams[\"figure.autolayout\"] = True\n",
    "\n",
    "#df = pd.DataFrame(dict(data=[2, 4, 1, 5, 9, 6, 0, 7]))\n",
    "fig, ax = mp.subplots()\n",
    "Train_Data_test_plot_kneighpors = KNeighbors_df.reset_index()\n",
    "\n",
    "#Train_Data_test_plot['training_error'].plot(kind='bar', color='red')\n",
    "Train_Data_test_plot_kneighpors['totalDuration'].plot(kind='line', color='black', ms=10, linewidth=2)\n",
    "\n",
    "Train_Data_test_plot_kneighpors['prediction'].plot(kind='line',style=['-'], color='blue', ms=10, linewidth=2)\n",
    "ax.legend(labels=['original time', 'predicted'])\n",
    "\n",
    "mp.show()"
   ]
  },
  {
   "cell_type": "code",
   "execution_count": 522,
   "metadata": {},
   "outputs": [
    {
     "data": {
      "text/plain": [
       "<matplotlib.axes._subplots.AxesSubplot at 0x7f8ea7301650>"
      ]
     },
     "execution_count": 522,
     "metadata": {},
     "output_type": "execute_result"
    },
    {
     "data": {
      "image/png": "[encoded data removed]",
      "text/plain": [
       "<Figure size 864x360 with 1 Axes>"
      ]
     },
     "metadata": {
      "needs_background": "light"
     },
     "output_type": "display_data"
    }
   ],
   "source": [
    "Train_Data_test_plot_kneighpors['training_error'].plot(kind='line', color='red', label= 'Training Error' )\n",
    "\n"
   ]
  },
  {
   "cell_type": "markdown",
   "metadata": {},
   "source": [
    "plot the training errors for all the previous models togather to compare:"
   ]
  },
  {
   "cell_type": "code",
   "execution_count": 523,
   "metadata": {},
   "outputs": [
    {
     "data": {
      "image/png": "[encoded data removed]",
      "text/plain": [
       "<Figure size 864x360 with 1 Axes>"
      ]
     },
     "metadata": {
      "needs_background": "light"
     },
     "output_type": "display_data"
    }
   ],
   "source": [
    "import matplotlib.pyplot as mp\n",
    "import matplotlib.pyplot as plt\n",
    "\n",
    "mp.rcParams[\"figure.figsize\"] = [12, 5]\n",
    "\n",
    "fig, ax = mp.subplots()\n",
    "\n",
    "Train_Data_test_plot_ernest['training_error'].plot(kind='line', color='red', label = 'ernest' )\n",
    "\n",
    "Train_Data_test_plot_decision['training_error'].plot(kind='line', color='blue', label = 'decision' )\n",
    "\n",
    "Train_Data_test_plot_linear['training_error'].plot(kind='line', color='green', label = 'linear' )\n",
    "\n",
    "Train_Data_test_plot_kneighpors['training_error'].plot(kind='line', color='black', label = 'kneighpors' )\n",
    "ax.legend(labels=['ernest ', 'decision', 'linear', 'kneighpors'])\n",
    "\n",
    "mp.show()"
   ]
  },
  {
   "cell_type": "code",
   "execution_count": null,
   "metadata": {
    "id": "GEOZJbg5G8Ur"
   },
   "outputs": [],
   "source": []
  }
 ],
 "metadata": {
  "colab": {
   "collapsed_sections": [
    "W7edFF1tG8Uc",
    "U827M3tYG8Uc",
    "lu0LZi8gG8Un"
   ],
   "provenance": []
  },
  "kernelspec": {
   "display_name": "Python 3",
   "language": "python",
   "name": "python3"
  },
  "language_info": {
   "codemirror_mode": {
    "name": "ipython",
    "version": 3
   },
   "file_extension": ".py",
   "mimetype": "text/x-python",
   "name": "python",
   "nbconvert_exporter": "python",
   "pygments_lexer": "ipython3",
   "version": "3.7.6"
  }
 },
 "nbformat": 4,
 "nbformat_minor": 5
}
